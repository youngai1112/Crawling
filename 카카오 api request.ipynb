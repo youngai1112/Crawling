{
 "cells": [
  {
   "cell_type": "markdown",
   "id": "f1837884",
   "metadata": {},
   "source": [
    "# 카카오 API에 요청(request)\n",
    "- `requests`\n",
    "- `pip install requests`\n",
    "    - 파이썬 환경에서 특정 url로 요청, 응답까지 받아주는 모듈"
   ]
  },
  {
   "cell_type": "code",
   "execution_count": 1,
   "id": "3378e7c5",
   "metadata": {},
   "outputs": [],
   "source": [
    "import requests"
   ]
  },
  {
   "cell_type": "markdown",
   "id": "c89460ad",
   "metadata": {},
   "source": [
    "### 요청 url 설정하기\n",
    "`https://dapi.kakao.com/v2/search/web?query=디아블로&page=2`\n",
    "\n",
    "* `https://dapi.kakao.com/v2/search/web` : 요청할 url (식당에 가서 메뉴까지 주문)\n",
    "* `?query=디아블로&page=2` : Parameter 전달 부분\n",
    "    * `?` 이후에는 모두 Parameter 설정 부분"
   ]
  },
  {
   "cell_type": "code",
   "execution_count": 8,
   "id": "d55e7809",
   "metadata": {},
   "outputs": [],
   "source": [
    "# URL\n",
    "KAKAO_WEB_SEARCH_URL = \"https://dapi.kakao.com/v2/search/web?query=디아블로&page=2\"\n",
    "\n",
    "# REST API KEY 설정하기\n",
    "KAKAO_API_KEY = \"<YOUR REST API KEY>\""
   ]
  },
  {
   "cell_type": "markdown",
   "id": "314ac029",
   "metadata": {},
   "source": [
    "카카오 API에 요청하기 위해서는 인증 정보가 필요! `KAKAO_API_KEY`를 활용.\n",
    "* 요청 `header`에 넣어서 인증 정보를 요청 할 때 같이 보내야 한다."
   ]
  },
  {
   "cell_type": "code",
   "execution_count": 9,
   "id": "e3145ea6",
   "metadata": {},
   "outputs": [
    {
     "data": {
      "text/plain": [
       "{'Authorization': 'KakaoAK 8c21e2428e4bc704ac8546fa89808d26'}"
      ]
     },
     "execution_count": 9,
     "metadata": {},
     "output_type": "execute_result"
    }
   ],
   "source": [
    "headers = {\n",
    "    \"Authorization\" : \"KakaoAK {}\".format(KAKAO_API_KEY)\n",
    "}\n",
    "\n",
    "headers"
   ]
  },
  {
   "cell_type": "markdown",
   "id": "282c265b",
   "metadata": {},
   "source": [
    "`request` - `response` 확인하기"
   ]
  },
  {
   "cell_type": "code",
   "execution_count": 10,
   "id": "2a919617",
   "metadata": {},
   "outputs": [
    {
     "data": {
      "text/plain": [
       "<Response [200]>"
      ]
     },
     "execution_count": 10,
     "metadata": {},
     "output_type": "execute_result"
    }
   ],
   "source": [
    "response = requests.get(KAKAO_WEB_SEARCH_URL, headers=headers)\n",
    "response"
   ]
  },
  {
   "cell_type": "markdown",
   "id": "a2eff3f8",
   "metadata": {},
   "source": [
    "응답 코드(Response Code)\n",
    "* `1xx` : 처리 중 ( 볼 일이 없다 )\n",
    "* **`2xx`** : Success\n",
    "* `3xx` : Redirection ( 추가 동작이 필요하다. - 볼 일이 많이 없다 )\n",
    "* **`4xx`** : Client Error ( 클라이언트에서 오류 발생 )\n",
    "    - `404` : Page Not Found (잘못된 url로 요청함)\n",
    "* **`5xx`** : Server Error ( 서버에서 오류발생 )\n"
   ]
  },
  {
   "cell_type": "code",
   "execution_count": 15,
   "id": "a1298055",
   "metadata": {},
   "outputs": [
    {
     "data": {
      "text/plain": [
       "{'documents': [{'contents': '<b>디아블로</b> 이모탈에 공개 초기 합류가 예고됐던 마지막 직업, 강령술사(네크로맨서)가 곧 진행될 베타 테스트와 함께 등장한다. 특히 그간 알파테스트를 진행하며 얻은 피드백을 바탕으로 고레벨 콘텐츠와 아이템...',\n",
       "   'datetime': '2021-10-29T00:00:00.000+09:00',\n",
       "   'title': '[인터뷰] 강령술사 합류 <b>디아블로</b> 이모탈, &#39;지금이 디아 즐기기 딱 좋은 때&#39;',\n",
       "   'url': 'https://www.inven.co.kr/webzine/news/?news=264148'},\n",
       "  {'contents': '<b>디아블로</b> 요새 Duel at <b>Diablo</b>, 1966 원문 더보기 Duel at <b>Diablo</b>, 1966 닫기 장르 스릴러/서부/드라마 국가 등급 15세이상관람가 러닝타임 평점 누적관객 영화정보 데이터 제공처 현황에 따라 본 페이지 내 정보...',\n",
       "   'datetime': '2021-11-27T23:28:31.000+09:00',\n",
       "   'title': '<b>디아블로</b> 요새',\n",
       "   'url': 'https://movie.daum.net/moviedb/main?movieId=65185'},\n",
       "  {'contents': '팀장 이름 마음대로 불러보랴. 하지만 이번엔 진짜 인정해 줘야 한다. 특히 콘솔로 즐기는 팬이라면 <b>디아블로</b>2 레저렉션 즐기기 너무 힘들다. 퇴근 후 저녁 시간에 게임 좀 해보려고 하면 기자든 블리자드 대표든...',\n",
       "   'datetime': '2021-10-20T10:51:00.000+09:00',\n",
       "   'title': '[칼럼] <b>디아블로</b>3는 왜 &#39;레저렉션&#39; 하지 못했나',\n",
       "   'url': 'https://www.inven.co.kr/webzine/news/?news=263880'},\n",
       "  {'contents': '[smartPC사랑=남지율 기자] 지난 9월 24일 출시된 &#39;<b>디아블로</b> 2&#39;와 확장팩 &#39;파괴의 군주&#39;의 리마스터작인 &#39;<b>디아블로</b> 2 레저렉션&#39;에 대한 불만의 소리가 높아지고 있다. &#39;<b>디아블로</b> 2 레저렉션&#39;은 현대화된 그래픽과...',\n",
       "   'datetime': '2021-10-12T09:39:39.000+09:00',\n",
       "   'title': '‘20년이 지나도 여전히 감자 서버’ <b>디아블로</b> 2 레저렉션 서버 장애 심각',\n",
       "   'url': 'http://www.ilovepc.co.kr/news/articleView.html?idxno=41038'},\n",
       "  {'contents': 'IV)’의 개발 현황을 지속적으로 다루는 분기별 업데이트를 통해 액션 롤플레잉 장르를 정의 내린 ‘<b>디아블로</b>’의 다음 시리즈를 더욱 돋보이게 만들 사운드 디자인에 대한 개발 과정을 공개했다. 이번 업데이트...',\n",
       "   'datetime': '2021-10-08T10:12:35.000+09:00',\n",
       "   'title': '블리자드, ‘<b>디아블로</b> 4’ 사운드 디자인에 대한 분기별 개발 업데이트 공개',\n",
       "   'url': 'http://www.ilovepc.co.kr/news/articleView.html?idxno=41026'},\n",
       "  {'contents': '엔터테인먼트가 오는 9월 24일 액션 RPG(역할수행게임) 장르를 정의내린 자사의 <b>디아블로</b> 시리즈 가운데 대표작인 ‘<b>디아블로</b>2’와 그 확장팩 ‘파괴의 군주’를 리마스터한 ‘<b>디아블로</b>2: 레저렉션’을 전 세계...',\n",
       "   'datetime': '2021-11-26T14:16:13.000+09:00',\n",
       "   'title': '“9월 24일 ‘지옥의 문’이 다시 열린다”…<b>디아블로</b>2: 레저렉션 출시',\n",
       "   'url': 'https://www.ppomppu.co.kr/zboard/view.php?id=news_pol_eco&no=231008'},\n",
       "  {'contents': '지난 15일 올해 최고의 화제작‘<b>디아블로</b>3’가 정식 발매 후 서비스에 돌입했다. 일주일여간 국내 게임사 기록들을 갈아치우며 인기몰이중인‘<b>디아블로</b>3’. 현재 게임온에서 3D아티스트를 담당하고 있는 이인철씨...',\n",
       "   'datetime': '2021-11-30T22:02:54.000+09:00',\n",
       "   'title': '지옥의 문을 두드려라-파괴의 군주, <b>디아블로</b>3 리뷰',\n",
       "   'url': 'http://www.gymnews.net/news/articleView.html?idxno=393592'},\n",
       "  {'contents': '캘러웨이골프는 역동적인 파워를 좋아하는 젊은 골퍼층을 겨냥한 <b>디아블로</b> 엣지 아이언 및 <b>디아블로</b> 엣지 하이브리드를 출시했다. 이로써 2009년 선보였던 마력의 클럽 &#39;<b>디아블로</b>&#39;의 풀 라인이 마침내 완성, 폭발...',\n",
       "   'datetime': '2021-11-30T11:46:01.000+09:00',\n",
       "   'title': '캘러웨이골프, <b>디아블로</b> 엣지 아이언 및 하이브리드 출시',\n",
       "   'url': 'http://www.sisamail.com/news/articleView.html?idxno=19310&replyAll=&reply_sc_order_by=I'},\n",
       "  {'contents': '예약자 중 무작위로 참가자를 선정, 한국어 텍스트와 음성을 지원하는 콘텐츠를 점검할 예정이다. ‘<b>디아블로</b> 이모탈’은 모바일 핵앤슬래시 액션 RPG다. PC 핵앤슬래시 액션 RPG ‘<b>디아블로</b> 2: 파괴의 군주(이하...',\n",
       "   'datetime': '2021-11-25T07:48:21.000+09:00',\n",
       "   'title': '제 목 : [게임 만평] 블리자드 <b>디아블로</b> 이모탈, ‘한국 CBT’ 시작',\n",
       "   'url': 'http://www.gamtoon.com/new/gn/hotnews/view.gam?num=108174'},\n",
       "  {'contents': '9 캐릭터 전용 방어구 9.1 바바리안 9.2 팔라딘 9.3 네크로맨서 9.4 드루이드 1 개요 본 페이지는 <b>디아블로</b> II의 유니크 아이템을 다루는 데 그 목적을 두고 있다. 본 페이지에서의 아이템 명칭은 직역된 것이...',\n",
       "   'datetime': '2021-11-25T00:56:17.000+09:00',\n",
       "   'title': '<b>디아블로</b> 2/유니크 - 우만위키',\n",
       "   'url': 'https://tcatmon.com/wiki/%EB%94%94%EC%95%84%EB%B8%94%EB%A1%9C_2/%EC%9C%A0%EB%8B%88%ED%81%AC'}],\n",
       " 'meta': {'is_end': False, 'pageable_count': 256, 'total_count': 4006611}}"
      ]
     },
     "execution_count": 15,
     "metadata": {},
     "output_type": "execute_result"
    }
   ],
   "source": [
    "# json 형식으로 데이터를 받기로 했으니까 content가 아니고. json()으로 받기\n",
    "datas = response.json()\n",
    "datas"
   ]
  },
  {
   "cell_type": "markdown",
   "id": "d2af9ac3",
   "metadata": {},
   "source": [
    "## JSON ( JavaScript Object Notation )\n",
    "- 자바스크립트 객체 표현 방식\n",
    "- 자바스크립트 객체는 파이썬의 **dict**와 굉장히 흡사하다."
   ]
  },
  {
   "cell_type": "code",
   "execution_count": 20,
   "id": "ebc3804f",
   "metadata": {},
   "outputs": [
    {
     "data": {
      "text/html": [
       "<div>\n",
       "<style scoped>\n",
       "    .dataframe tbody tr th:only-of-type {\n",
       "        vertical-align: middle;\n",
       "    }\n",
       "\n",
       "    .dataframe tbody tr th {\n",
       "        vertical-align: top;\n",
       "    }\n",
       "\n",
       "    .dataframe thead th {\n",
       "        text-align: right;\n",
       "    }\n",
       "</style>\n",
       "<table border=\"1\" class=\"dataframe\">\n",
       "  <thead>\n",
       "    <tr style=\"text-align: right;\">\n",
       "      <th></th>\n",
       "      <th>contents</th>\n",
       "      <th>datetime</th>\n",
       "      <th>title</th>\n",
       "      <th>url</th>\n",
       "    </tr>\n",
       "  </thead>\n",
       "  <tbody>\n",
       "    <tr>\n",
       "      <th>0</th>\n",
       "      <td>&lt;b&gt;디아블로&lt;/b&gt; 이모탈에 공개 초기 합류가 예고됐던 마지막 직업, 강령술사(네...</td>\n",
       "      <td>2021-10-29T00:00:00.000+09:00</td>\n",
       "      <td>[인터뷰] 강령술사 합류 &lt;b&gt;디아블로&lt;/b&gt; 이모탈, &amp;#39;지금이 디아 즐기기...</td>\n",
       "      <td>https://www.inven.co.kr/webzine/news/?news=264148</td>\n",
       "    </tr>\n",
       "    <tr>\n",
       "      <th>1</th>\n",
       "      <td>&lt;b&gt;디아블로&lt;/b&gt; 요새 Duel at &lt;b&gt;Diablo&lt;/b&gt;, 1966 원문 ...</td>\n",
       "      <td>2021-11-27T23:28:31.000+09:00</td>\n",
       "      <td>&lt;b&gt;디아블로&lt;/b&gt; 요새</td>\n",
       "      <td>https://movie.daum.net/moviedb/main?movieId=65185</td>\n",
       "    </tr>\n",
       "    <tr>\n",
       "      <th>2</th>\n",
       "      <td>팀장 이름 마음대로 불러보랴. 하지만 이번엔 진짜 인정해 줘야 한다. 특히 콘솔로 ...</td>\n",
       "      <td>2021-10-20T10:51:00.000+09:00</td>\n",
       "      <td>[칼럼] &lt;b&gt;디아블로&lt;/b&gt;3는 왜 &amp;#39;레저렉션&amp;#39; 하지 못했나</td>\n",
       "      <td>https://www.inven.co.kr/webzine/news/?news=263880</td>\n",
       "    </tr>\n",
       "    <tr>\n",
       "      <th>3</th>\n",
       "      <td>[smartPC사랑=남지율 기자] 지난 9월 24일 출시된 &amp;#39;&lt;b&gt;디아블로&lt;...</td>\n",
       "      <td>2021-10-12T09:39:39.000+09:00</td>\n",
       "      <td>‘20년이 지나도 여전히 감자 서버’ &lt;b&gt;디아블로&lt;/b&gt; 2 레저렉션 서버 장애 심각</td>\n",
       "      <td>http://www.ilovepc.co.kr/news/articleView.html...</td>\n",
       "    </tr>\n",
       "    <tr>\n",
       "      <th>4</th>\n",
       "      <td>IV)’의 개발 현황을 지속적으로 다루는 분기별 업데이트를 통해 액션 롤플레잉 장르...</td>\n",
       "      <td>2021-10-08T10:12:35.000+09:00</td>\n",
       "      <td>블리자드, ‘&lt;b&gt;디아블로&lt;/b&gt; 4’ 사운드 디자인에 대한 분기별 개발 업데이트 공개</td>\n",
       "      <td>http://www.ilovepc.co.kr/news/articleView.html...</td>\n",
       "    </tr>\n",
       "  </tbody>\n",
       "</table>\n",
       "</div>"
      ],
      "text/plain": [
       "                                            contents  \\\n",
       "0  <b>디아블로</b> 이모탈에 공개 초기 합류가 예고됐던 마지막 직업, 강령술사(네...   \n",
       "1  <b>디아블로</b> 요새 Duel at <b>Diablo</b>, 1966 원문 ...   \n",
       "2  팀장 이름 마음대로 불러보랴. 하지만 이번엔 진짜 인정해 줘야 한다. 특히 콘솔로 ...   \n",
       "3  [smartPC사랑=남지율 기자] 지난 9월 24일 출시된 &#39;<b>디아블로<...   \n",
       "4  IV)’의 개발 현황을 지속적으로 다루는 분기별 업데이트를 통해 액션 롤플레잉 장르...   \n",
       "\n",
       "                        datetime  \\\n",
       "0  2021-10-29T00:00:00.000+09:00   \n",
       "1  2021-11-27T23:28:31.000+09:00   \n",
       "2  2021-10-20T10:51:00.000+09:00   \n",
       "3  2021-10-12T09:39:39.000+09:00   \n",
       "4  2021-10-08T10:12:35.000+09:00   \n",
       "\n",
       "                                               title  \\\n",
       "0  [인터뷰] 강령술사 합류 <b>디아블로</b> 이모탈, &#39;지금이 디아 즐기기...   \n",
       "1                                     <b>디아블로</b> 요새   \n",
       "2         [칼럼] <b>디아블로</b>3는 왜 &#39;레저렉션&#39; 하지 못했나   \n",
       "3   ‘20년이 지나도 여전히 감자 서버’ <b>디아블로</b> 2 레저렉션 서버 장애 심각   \n",
       "4   블리자드, ‘<b>디아블로</b> 4’ 사운드 디자인에 대한 분기별 개발 업데이트 공개   \n",
       "\n",
       "                                                 url  \n",
       "0  https://www.inven.co.kr/webzine/news/?news=264148  \n",
       "1  https://movie.daum.net/moviedb/main?movieId=65185  \n",
       "2  https://www.inven.co.kr/webzine/news/?news=263880  \n",
       "3  http://www.ilovepc.co.kr/news/articleView.html...  \n",
       "4  http://www.ilovepc.co.kr/news/articleView.html...  "
      ]
     },
     "execution_count": 20,
     "metadata": {},
     "output_type": "execute_result"
    }
   ],
   "source": [
    "import pandas as pd\n",
    "df = pd.DataFrame(datas['documents'])\n",
    "df.head()"
   ]
  },
  {
   "cell_type": "code",
   "execution_count": null,
   "id": "750587dd",
   "metadata": {},
   "outputs": [],
   "source": []
  }
 ],
 "metadata": {
  "kernelspec": {
   "display_name": "Python 3",
   "language": "python",
   "name": "python3"
  },
  "language_info": {
   "codemirror_mode": {
    "name": "ipython",
    "version": 3
   },
   "file_extension": ".py",
   "mimetype": "text/x-python",
   "name": "python",
   "nbconvert_exporter": "python",
   "pygments_lexer": "ipython3",
   "version": "3.8.8"
  }
 },
 "nbformat": 4,
 "nbformat_minor": 5
}
