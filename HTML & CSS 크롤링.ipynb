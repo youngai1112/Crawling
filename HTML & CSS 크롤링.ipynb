{
 "cells": [
  {
   "cell_type": "markdown",
   "id": "08fa8ce1",
   "metadata": {},
   "source": [
    "# HTML 파싱(parse)\n",
    "1. html 페이지를 요청 (`request`)\n",
    "2. 받아온 html 형식의 문자열을 HTMLElementfh parsing\n",
    "    - `BeautifulSoup` 라이브러리 활용\n",
    "3. 선택자(selector, 여러 함수)를 활용해서 text를 추춯\n",
    "\n",
    "*요청하고 파싱해서 추출하기(특수문자 등이 많아서 복잡하게 보이는 것이지, 과정은 어렵지 않다.)*"
   ]
  },
  {
   "cell_type": "markdown",
   "id": "14ee491c",
   "metadata": {},
   "source": [
    "## BeautifulSoup import"
   ]
  },
  {
   "cell_type": "code",
   "execution_count": 32,
   "id": "06e017f9",
   "metadata": {},
   "outputs": [],
   "source": [
    "# 이상한 나라의 앨리스에서 유래\n",
    "from bs4 import BeautifulSoup\n",
    "\n",
    "html_txt = \"\"\"\n",
    "\n",
    "<div id='container'>\n",
    "    <div class='wrap-1'>\n",
    "        <p>Hello HTML</p>\n",
    "    </div>\n",
    "    <p class='wrap-2'>\n",
    "        Bye~\n",
    "    </p>\n",
    "</div>\n",
    "\n",
    "\"\"\""
   ]
  },
  {
   "cell_type": "code",
   "execution_count": 9,
   "id": "de3c03fd",
   "metadata": {},
   "outputs": [
    {
     "data": {
      "text/plain": [
       "\n",
       "<div id=\"container\">\n",
       "<div class=\"wrap-1\">\n",
       "<p>Hello HTML</p>\n",
       "</div>\n",
       "<p class=\"wrap-2\">\n",
       "        Bye~\n",
       "    </p>\n",
       "</div>"
      ]
     },
     "execution_count": 9,
     "metadata": {},
     "output_type": "execute_result"
    }
   ],
   "source": [
    "# soup : DOM(Document Object Model)\n",
    "soup = BeautifulSoup(html_txt, \"html.parser\") # soup == 위의 html_txt DOM\n",
    "soup # 더 이상 문자열이 아니다."
   ]
  },
  {
   "cell_type": "markdown",
   "id": "9c560ba5",
   "metadata": {},
   "source": [
    "## BeautifulSoup에서 Element를 선택하는 2가지 방법\n",
    "1. `select`, `select_one` -- 선택자 위주, 간단하고 빠르게 크롤링하고 싶다면\n",
    "    - `css` 선택자를 활용해서 Element를 선택\n",
    "    - `select` : 여러 개의 Element를 선택(리스트)\n",
    "    - `select_one` : 한 개의 Element를 선택(엘리먼트)\n",
    "2. `find`, `find_all` -- 로직을 껴서 사용하고 싶다면, attribute(선택자)가 복잡하다면\n",
    "    - 선택자가 아닌, attribute를 이용해 선택할 때 자주 사용한다.\n",
    "    - `find` : 한 개의 Element가 선택\n",
    "    - `find_all` : 여러 개의 Element가 선택       "
   ]
  },
  {
   "cell_type": "markdown",
   "id": "88bb1f22",
   "metadata": {},
   "source": [
    "#### `select`, `select_all` 사용하기"
   ]
  },
  {
   "cell_type": "code",
   "execution_count": 24,
   "id": "f746c6a3",
   "metadata": {},
   "outputs": [
    {
     "data": {
      "text/plain": [
       "<p>Hello HTML</p>"
      ]
     },
     "execution_count": 24,
     "metadata": {},
     "output_type": "execute_result"
    }
   ],
   "source": [
    "p_element = soup.select_one(\"#container > .wrap-1 > p\") # id는 유일한 값이라는 개념부터 시작-> 하위 항목들을 감싸주는 형태 -> 내가 원하는 데이터를 가지고 있는 엘리먼트를 감싸고 있는 엘리먼트를 찾기!!!!!\n",
    "p_element"
   ]
  },
  {
   "cell_type": "markdown",
   "id": "b4cf4943",
   "metadata": {},
   "source": [
    "텍스트만 추출하기"
   ]
  },
  {
   "cell_type": "code",
   "execution_count": 25,
   "id": "1e86d9b2",
   "metadata": {},
   "outputs": [
    {
     "data": {
      "text/plain": [
       "'Hello HTML'"
      ]
     },
     "execution_count": 25,
     "metadata": {},
     "output_type": "execute_result"
    }
   ],
   "source": [
    "p_element.text # .text를 붙이면 문자열 추출"
   ]
  },
  {
   "cell_type": "code",
   "execution_count": 14,
   "id": "b477c683",
   "metadata": {},
   "outputs": [
    {
     "data": {
      "text/plain": [
       "[<p>Hello HTML</p>,\n",
       " <p class=\"wrap-2\">\n",
       "         Bye~\n",
       "     </p>]"
      ]
     },
     "execution_count": 14,
     "metadata": {},
     "output_type": "execute_result"
    }
   ],
   "source": [
    "p_elements = soup.select(\"#container p\") # 후손 추출\n",
    "p_elements"
   ]
  },
  {
   "cell_type": "code",
   "execution_count": 22,
   "id": "0f51ef7a",
   "metadata": {},
   "outputs": [
    {
     "data": {
      "text/plain": [
       "[<p>Hello HTML</p>]"
      ]
     },
     "execution_count": 22,
     "metadata": {},
     "output_type": "execute_result"
    }
   ],
   "source": [
    "p_elements = soup.select(\"#container >.wrap-1 > p\")\n",
    "p_elements"
   ]
  },
  {
   "cell_type": "code",
   "execution_count": 17,
   "id": "c36cafeb",
   "metadata": {},
   "outputs": [
    {
     "data": {
      "text/plain": [
       "('Hello HTML', '\\n        Bye~\\n    ')"
      ]
     },
     "execution_count": 17,
     "metadata": {},
     "output_type": "execute_result"
    }
   ],
   "source": [
    "p_elements[0].text, p_elements[1].text # 리스트 형식이기 때문에 []를 사용해서 추출"
   ]
  },
  {
   "cell_type": "markdown",
   "id": "1a93967c",
   "metadata": {},
   "source": [
    "`find`, `find_all` 사용하기"
   ]
  },
  {
   "cell_type": "code",
   "execution_count": 21,
   "id": "c6151f4b",
   "metadata": {},
   "outputs": [
    {
     "data": {
      "text/plain": [
       "<div class=\"wrap-1\">\n",
       "<p>Hello HTML</p>\n",
       "</div>"
      ]
     },
     "execution_count": 21,
     "metadata": {},
     "output_type": "execute_result"
    }
   ],
   "source": [
    "# div#container > div.wrap-1\n",
    "soup.find(\"div\", {\"id\":\"container\"}).find(\"div\", {\"class\":\"wrap-1\"})"
   ]
  },
  {
   "cell_type": "code",
   "execution_count": 26,
   "id": "12f62257",
   "metadata": {},
   "outputs": [
    {
     "data": {
      "text/plain": [
       "[<p>Hello HTML</p>,\n",
       " <p class=\"wrap-2\">\n",
       "         Bye~\n",
       "     </p>]"
      ]
     },
     "execution_count": 26,
     "metadata": {},
     "output_type": "execute_result"
    }
   ],
   "source": [
    "soup.find_all(\"p\")"
   ]
  },
  {
   "cell_type": "code",
   "execution_count": 27,
   "id": "ec9a6ab0",
   "metadata": {},
   "outputs": [
    {
     "data": {
      "text/plain": [
       "<p>Hello HTML</p>"
      ]
     },
     "execution_count": 27,
     "metadata": {},
     "output_type": "execute_result"
    }
   ],
   "source": [
    "soup.find(\"p\") # 첫 번째 element만 등장한다"
   ]
  },
  {
   "cell_type": "markdown",
   "id": "386b3492",
   "metadata": {},
   "source": [
    "# Web에서 데이터 불러오기\n",
    "* naver 환율"
   ]
  },
  {
   "cell_type": "code",
   "execution_count": 28,
   "id": "197d33cb",
   "metadata": {},
   "outputs": [],
   "source": [
    "NAVER_FINANCE_URL = \"https://finance.naver.com/marketindex/\""
   ]
  },
  {
   "cell_type": "code",
   "execution_count": 29,
   "id": "bea326e6",
   "metadata": {},
   "outputs": [
    {
     "data": {
      "text/plain": [
       "<Response [200]>"
      ]
     },
     "execution_count": 29,
     "metadata": {},
     "output_type": "execute_result"
    }
   ],
   "source": [
    "import requests\n",
    "\n",
    "# 1. requests 이용해서 HTML 코드 문자열 가져오기\n",
    "# HTML 페이지는 90% get 방식 통신 (---->-----post방식?---->----셀레니움(최후의 수단. 느림. 브라우저 컨트롤 방식))\n",
    "response = requests.get(NAVER_FINANCE_URL)\n",
    "response"
   ]
  },
  {
   "cell_type": "code",
   "execution_count": 37,
   "id": "6f455804",
   "metadata": {},
   "outputs": [
    {
     "data": {
      "text/plain": [
       "<h3 class=\"h_lst\"><span class=\"blind\">미국 USD</span></h3>"
      ]
     },
     "execution_count": 37,
     "metadata": {},
     "output_type": "execute_result"
    }
   ],
   "source": [
    "# 2. BeautifulSoup을 이용하여 css selector를 사용할 수 있는 객체로 파싱\n",
    "html_text = response.content\n",
    "soup = BeautifulSoup(html_text, 'html.parser')\n",
    "soup.select_one(\"#exchangeList > li.on > a.head.usd > h3\")"
   ]
  },
  {
   "cell_type": "code",
   "execution_count": 39,
   "id": "298bfae7",
   "metadata": {},
   "outputs": [
    {
     "data": {
      "text/plain": [
       "'1,183.10'"
      ]
     },
     "execution_count": 39,
     "metadata": {},
     "output_type": "execute_result"
    }
   ],
   "source": [
    "soup.select_one(\"#exchangeList > li.on > a.head.usd > div > span.value\").text"
   ]
  },
  {
   "cell_type": "markdown",
   "id": "28c92f13",
   "metadata": {},
   "source": [
    "데이터를 묶어서 찾기"
   ]
  },
  {
   "cell_type": "code",
   "execution_count": 40,
   "id": "824d8a91",
   "metadata": {},
   "outputs": [
    {
     "data": {
      "text/plain": [
       "<li class=\"on\">\n",
       "<a class=\"head usd\" href=\"/marketindex/exchangeDetail.naver?marketindexCd=FX_USDKRW\" onclick=\"clickcr(this, 'fr1.usdt', '', '', event);\">\n",
       "<h3 class=\"h_lst\"><span class=\"blind\">미국 USD</span></h3>\n",
       "<div class=\"head_info point_up\">\n",
       "<span class=\"value\">1,183.10</span>\n",
       "<span class=\"txt_krw\"><span class=\"blind\">원</span></span>\n",
       "<span class=\"change\">0.10</span>\n",
       "<span class=\"blind\">상승</span>\n",
       "</div>\n",
       "</a>\n",
       "<a class=\"graph_img\" href=\"/marketindex/exchangeDetail.naver?marketindexCd=FX_USDKRW\" onclick=\"clickcr(this, 'fr1.usdc', '', '', event);\">\n",
       "<img alt=\"\" height=\"153\" src=\"https://ssl.pstatic.net/imgfinance/chart/marketindex/FX_USDKRW.png\" width=\"295\"/>\n",
       "</a>\n",
       "<div class=\"graph_info\">\n",
       "<span class=\"time\">2021.12.06 11:05</span>\n",
       "<span class=\"source\">하나은행 기준</span>\n",
       "<span class=\"count\">고시회차<span class=\"num\">102</span>회</span>\n",
       "</div>\n",
       "</li>"
      ]
     },
     "execution_count": 40,
     "metadata": {},
     "output_type": "execute_result"
    }
   ],
   "source": [
    "li_elem = soup.select_one(\"#exchangeList > li.on\")\n",
    "li_elem"
   ]
  },
  {
   "cell_type": "code",
   "execution_count": 41,
   "id": "ac2b3b7b",
   "metadata": {},
   "outputs": [
    {
     "data": {
      "text/plain": [
       "'미국 USD'"
      ]
     },
     "execution_count": 41,
     "metadata": {},
     "output_type": "execute_result"
    }
   ],
   "source": [
    "li_elem.select_one(\".h_lst\").text"
   ]
  },
  {
   "cell_type": "code",
   "execution_count": 43,
   "id": "773bbf33",
   "metadata": {},
   "outputs": [
    {
     "data": {
      "text/plain": [
       "<div class=\"head_info point_up\">\n",
       "<span class=\"value\">1,183.10</span>\n",
       "<span class=\"txt_krw\"><span class=\"blind\">원</span></span>\n",
       "<span class=\"change\">0.10</span>\n",
       "<span class=\"blind\">상승</span>\n",
       "</div>"
      ]
     },
     "execution_count": 43,
     "metadata": {},
     "output_type": "execute_result"
    }
   ],
   "source": [
    "li_elem.select_one(\".head_info\")"
   ]
  },
  {
   "cell_type": "code",
   "execution_count": 44,
   "id": "0249eb88",
   "metadata": {},
   "outputs": [
    {
     "data": {
      "text/plain": [
       "<span class=\"value\">1,183.10</span>"
      ]
     },
     "execution_count": 44,
     "metadata": {},
     "output_type": "execute_result"
    }
   ],
   "source": [
    "li_elem.select_one(\".head_info > span.value\")"
   ]
  },
  {
   "cell_type": "code",
   "execution_count": 45,
   "id": "13002828",
   "metadata": {},
   "outputs": [
    {
     "data": {
      "text/plain": [
       "<span class=\"change\">0.10</span>"
      ]
     },
     "execution_count": 45,
     "metadata": {},
     "output_type": "execute_result"
    }
   ],
   "source": [
    "li_elem.select_one(\".head_info > .change\")"
   ]
  },
  {
   "cell_type": "code",
   "execution_count": 46,
   "id": "28bae979",
   "metadata": {},
   "outputs": [
    {
     "data": {
      "text/plain": [
       "<span class=\"blind\">상승</span>"
      ]
     },
     "execution_count": 46,
     "metadata": {},
     "output_type": "execute_result"
    }
   ],
   "source": [
    "li_elem.select_one(\".head_info > span.blind\")\n",
    "# 자식 선택자 사용"
   ]
  },
  {
   "cell_type": "code",
   "execution_count": 49,
   "id": "df5a6cc2",
   "metadata": {},
   "outputs": [
    {
     "data": {
      "text/plain": [
       "<span class=\"blind\">원</span>"
      ]
     },
     "execution_count": 49,
     "metadata": {},
     "output_type": "execute_result"
    }
   ],
   "source": [
    "# 주의!\n",
    "li_elem.select_one(\".head_info span.blind\")\n",
    "\n",
    "# <span class=\"blind\">원</span>\n",
    "# <span class=\"blind\">상승</span>\n",
    "# 후손으로 선택한다면, 선택이 두 개가 됨\n",
    "# 후손 선택자 사용"
   ]
  },
  {
   "cell_type": "code",
   "execution_count": 52,
   "id": "1830db08",
   "metadata": {},
   "outputs": [
    {
     "name": "stdout",
     "output_type": "stream",
     "text": [
      "미국 USD\n",
      "1,183.10\n",
      "0.10\n",
      "상승\n"
     ]
    }
   ],
   "source": [
    "print(li_elem.select_one(\".h_lst\").text)\n",
    "print(li_elem.select_one(\".head_info > span.value\").text)\n",
    "print(li_elem.select_one(\".head_info > .change\").text)\n",
    "print(li_elem.select_one(\".head_info > span.blind\").text)"
   ]
  },
  {
   "cell_type": "code",
   "execution_count": 56,
   "id": "85c995ea",
   "metadata": {},
   "outputs": [
    {
     "data": {
      "text/plain": [
       "4"
      ]
     },
     "execution_count": 56,
     "metadata": {},
     "output_type": "execute_result"
    }
   ],
   "source": [
    "li_elem_list = soup.select(\"#exchangeList > li\")\n",
    "len(li_elem_list) # 4종류의 데이터 확인"
   ]
  },
  {
   "cell_type": "code",
   "execution_count": 58,
   "id": "2a466299",
   "metadata": {},
   "outputs": [
    {
     "name": "stdout",
     "output_type": "stream",
     "text": [
      "미국 USD\n",
      "1,183.10\n",
      "0.10\n",
      "상승\n",
      "\n",
      "일본 JPY(100엔)\n",
      "1,046.99\n",
      "2.35\n",
      "상승\n",
      "\n",
      "유럽연합 EUR\n",
      "1,336.37\n",
      " 1.72\n",
      "하락\n",
      "\n",
      "중국 CNY\n",
      "185.72\n",
      "0.04\n",
      "상승\n",
      "\n"
     ]
    }
   ],
   "source": [
    "for li_elem in li_elem_list:\n",
    "    print(li_elem.select_one(\".h_lst\").text)\n",
    "    print(li_elem.select_one(\".head_info > span.value\").text)\n",
    "    print(li_elem.select_one(\".head_info > .change\").text)\n",
    "    print(li_elem.select_one(\".head_info > span.blind\").text)\n",
    "    print()\n",
    "    \n",
    "#     여러개의 리스트가 있는 경우, 하나만 찾아서 확인하고\n",
    "#         for문을 써서 붙여넣기"
   ]
  },
  {
   "cell_type": "markdown",
   "id": "3b488323",
   "metadata": {},
   "source": [
    "데이터 프레임 만들기"
   ]
  },
  {
   "cell_type": "code",
   "execution_count": 59,
   "id": "87751b37",
   "metadata": {},
   "outputs": [
    {
     "data": {
      "text/plain": [
       "{'통화': ['미국 USD', '일본 JPY(100엔)', '유럽연합 EUR', '중국 CNY'],\n",
       " '환율': ['1,183.10', '1,046.99', '1,336.37', '185.72'],\n",
       " '변동': ['0.10', '2.35', ' 1.72', '0.04'],\n",
       " '등락': ['상승', '상승', '하락', '상승']}"
      ]
     },
     "execution_count": 59,
     "metadata": {},
     "output_type": "execute_result"
    }
   ],
   "source": [
    "naver_finance_dict = {}\n",
    "\n",
    "naver_finance_dict[\"통화\"] = []\n",
    "naver_finance_dict[\"환율\"] = []\n",
    "naver_finance_dict[\"변동\"] = []\n",
    "naver_finance_dict[\"등락\"] = []\n",
    "\n",
    "for li_elem in li_elem_list:\n",
    "    currency = li_elem.select_one(\".h_lst\").text\n",
    "    exchange = li_elem.select_one(\".head_info > span.value\").text\n",
    "    change = li_elem.select_one(\".head_info > .change\").text\n",
    "    updown = li_elem.select_one(\".head_info > span.blind\").text\n",
    "\n",
    "    naver_finance_dict[\"통화\"].append(currency)\n",
    "    naver_finance_dict[\"환율\"].append(exchange)\n",
    "    naver_finance_dict[\"변동\"].append(change)\n",
    "    naver_finance_dict[\"등락\"].append(updown)\n",
    "    \n",
    "naver_finance_dict    "
   ]
  },
  {
   "cell_type": "code",
   "execution_count": null,
   "id": "3336d1bc",
   "metadata": {},
   "outputs": [],
   "source": [
    "1. 메인페이지에서 링크 수집 -> 2. 들어가서 내용 크롤링"
   ]
  },
  {
   "cell_type": "code",
   "execution_count": null,
   "id": "aefe8a62",
   "metadata": {},
   "outputs": [],
   "source": []
  },
  {
   "cell_type": "code",
   "execution_count": null,
   "id": "d4928049",
   "metadata": {},
   "outputs": [],
   "source": []
  },
  {
   "cell_type": "code",
   "execution_count": null,
   "id": "4a1b6958",
   "metadata": {},
   "outputs": [],
   "source": []
  },
  {
   "cell_type": "code",
   "execution_count": null,
   "id": "785c8e5a",
   "metadata": {},
   "outputs": [],
   "source": []
  },
  {
   "cell_type": "code",
   "execution_count": null,
   "id": "6450e221",
   "metadata": {},
   "outputs": [],
   "source": []
  },
  {
   "cell_type": "code",
   "execution_count": null,
   "id": "0f900985",
   "metadata": {},
   "outputs": [],
   "source": []
  },
  {
   "cell_type": "code",
   "execution_count": null,
   "id": "3c437ce5",
   "metadata": {},
   "outputs": [],
   "source": []
  },
  {
   "cell_type": "code",
   "execution_count": null,
   "id": "104e955e",
   "metadata": {},
   "outputs": [],
   "source": []
  },
  {
   "cell_type": "code",
   "execution_count": null,
   "id": "6889e9f3",
   "metadata": {},
   "outputs": [],
   "source": []
  },
  {
   "cell_type": "code",
   "execution_count": null,
   "id": "ef67ffe1",
   "metadata": {},
   "outputs": [],
   "source": []
  },
  {
   "cell_type": "code",
   "execution_count": null,
   "id": "f0a30bb9",
   "metadata": {},
   "outputs": [],
   "source": []
  },
  {
   "cell_type": "code",
   "execution_count": null,
   "id": "55b80615",
   "metadata": {},
   "outputs": [],
   "source": []
  },
  {
   "cell_type": "code",
   "execution_count": null,
   "id": "7df5342b",
   "metadata": {},
   "outputs": [],
   "source": []
  },
  {
   "cell_type": "code",
   "execution_count": null,
   "id": "8793b148",
   "metadata": {},
   "outputs": [],
   "source": []
  },
  {
   "cell_type": "code",
   "execution_count": null,
   "id": "2ac4656c",
   "metadata": {},
   "outputs": [],
   "source": []
  }
 ],
 "metadata": {
  "kernelspec": {
   "display_name": "Python 3",
   "language": "python",
   "name": "python3"
  },
  "language_info": {
   "codemirror_mode": {
    "name": "ipython",
    "version": 3
   },
   "file_extension": ".py",
   "mimetype": "text/x-python",
   "name": "python",
   "nbconvert_exporter": "python",
   "pygments_lexer": "ipython3",
   "version": "3.8.8"
  }
 },
 "nbformat": 4,
 "nbformat_minor": 5
}
