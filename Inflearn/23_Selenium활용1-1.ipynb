{
 "cells": [
  {
   "cell_type": "code",
   "execution_count": 29,
   "metadata": {},
   "outputs": [
    {
     "name": "stderr",
     "output_type": "stream",
     "text": [
      "<ipython-input-29-48e8962bb343>:2: DeprecationWarning: executable_path has been deprecated, please pass in a Service object\n",
      "  browser = webdriver.Chrome(\"selenium\\chromedriver_win32\\chromedriver.exe\")\n"
     ]
    }
   ],
   "source": [
    "from selenium import webdriver\n",
    "browser = webdriver.Chrome(\"selenium\\chromedriver_win32\\chromedriver.exe\")\n",
    "browser.maximize_window()   # 창 최대화\n",
    "\n",
    "url = \"https://flight.naver.com/\"\n",
    "browser.get(url)    # url로 이동"
   ]
  },
  {
   "cell_type": "code",
   "execution_count": 30,
   "metadata": {},
   "outputs": [
    {
     "name": "stderr",
     "output_type": "stream",
     "text": [
      "<ipython-input-30-54a53eeee3b7>:2: DeprecationWarning: find_element_by_* commands are deprecated. Please use find_element() instead\n",
      "  browser.find_element_by_xpath(\"//*[@id='__next']/div/div[1]/div[4]/div/div/div[2]/div[2]/button[1]\").click()\n"
     ]
    }
   ],
   "source": [
    "# 가는날 선택 클릭\n",
    "browser.find_element_by_xpath(\"//*[@id='__next']/div/div[1]/div[4]/div/div/div[2]/div[2]/button[1]\").click()"
   ]
  },
  {
   "cell_type": "code",
   "execution_count": 31,
   "metadata": {},
   "outputs": [
    {
     "name": "stderr",
     "output_type": "stream",
     "text": [
      "<ipython-input-31-66c0f80b9707>:2: DeprecationWarning: find_element_by_* commands are deprecated. Please use find_element() instead\n",
      "  browser.find_element_by_xpath(\"//*[@id='__next']/div/div[1]/div[9]/div[2]/div[1]/div[2]/div/div[2]/table/tbody/tr[5]/td[1]/button/b\").click()\n"
     ]
    }
   ],
   "source": [
    "# 이번달 27일 선택\n",
    "browser.find_element_by_xpath(\"//*[@id='__next']/div/div[1]/div[9]/div[2]/div[1]/div[2]/div/div[2]/table/tbody/tr[5]/td[1]/button/b\").click()"
   ]
  },
  {
   "cell_type": "code",
   "execution_count": 32,
   "metadata": {},
   "outputs": [
    {
     "name": "stderr",
     "output_type": "stream",
     "text": [
      "<ipython-input-32-e90d983ba187>:2: DeprecationWarning: find_element_by_* commands are deprecated. Please use find_element() instead\n",
      "  browser.find_element_by_xpath(\"//*[@id='__next']/div/div[1]/div[9]/div[2]/div[1]/div[2]/div/div[3]/table/tbody/tr[5]/td[1]/button/b\").click()\n"
     ]
    }
   ],
   "source": [
    "# 다음달 27일 선택\n",
    "browser.find_element_by_xpath(\"//*[@id='__next']/div/div[1]/div[9]/div[2]/div[1]/div[2]/div/div[3]/table/tbody/tr[5]/td[1]/button/b\").click()"
   ]
  },
  {
   "cell_type": "code",
   "execution_count": 33,
   "metadata": {},
   "outputs": [
    {
     "name": "stderr",
     "output_type": "stream",
     "text": [
      "<ipython-input-33-72425cd41100>:2: DeprecationWarning: find_element_by_* commands are deprecated. Please use find_element() instead\n",
      "  browser.find_element_by_xpath(\"//*[@id='__next']/div/div[1]/div[6]/div/div[2]/div/ul/li[3]/button/figure\").click()\n"
     ]
    }
   ],
   "source": [
    "# 원하는 여행지 선택\n",
    "browser.find_element_by_xpath(\"//*[@id='__next']/div/div[1]/div[6]/div/div[2]/div/ul/li[3]/button/figure\").click()"
   ]
  },
  {
   "cell_type": "code",
   "execution_count": 34,
   "metadata": {},
   "outputs": [
    {
     "name": "stderr",
     "output_type": "stream",
     "text": [
      "<ipython-input-34-316fb1ee6b86>:2: DeprecationWarning: find_element_by_* commands are deprecated. Please use find_element() instead\n",
      "  browser.find_element_by_xpath(\"//*[@id='__next']/div/div[1]/div[9]/div[2]/div[1]/div[2]/ul/li[4]/a\").click()\n"
     ]
    }
   ],
   "source": [
    "# 추천 일정 선택\n",
    "browser.find_element_by_xpath(\"//*[@id='__next']/div/div[1]/div[9]/div[2]/div[1]/div[2]/ul/li[4]/a\").click()"
   ]
  },
  {
   "cell_type": "code",
   "execution_count": null,
   "metadata": {},
   "outputs": [],
   "source": [
    "# 첫 번째 결과 출력\n",
    "elem = browser.find_element_by_xpath(\"//*[@id='__next']/div/div[1]/div[4]/div/div[3]/div[1]/div\")\n",
    "print(elem.text)"
   ]
  }
 ],
 "metadata": {
  "interpreter": {
   "hash": "98a685a67ab490707ec393db0f7088d5012fe76b20b83a28233dc0eb2cd3ac95"
  },
  "kernelspec": {
   "display_name": "Python 3.8.12 ('flask01')",
   "language": "python",
   "name": "python3"
  },
  "language_info": {
   "codemirror_mode": {
    "name": "ipython",
    "version": 3
   },
   "file_extension": ".py",
   "mimetype": "text/x-python",
   "name": "python",
   "nbconvert_exporter": "python",
   "pygments_lexer": "ipython3",
   "version": "3.8.8"
  },
  "orig_nbformat": 4
 },
 "nbformat": 4,
 "nbformat_minor": 2
}
