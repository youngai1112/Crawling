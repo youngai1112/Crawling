{
 "cells": [
  {
   "cell_type": "code",
   "execution_count": 2,
   "metadata": {},
   "outputs": [],
   "source": [
    "import requests\n",
    "from bs4 import BeautifulSoup\n",
    "\n",
    "url = \"https://search.daum.net/search?w=tot&q=2021%EB%85%84%EC%98%81%ED%99%94%EC%88%9C%EC%9C%84&DA=MOR&rtmaxcoll=MOR\"\n",
    "res = requests.get(url)\n",
    "res.raise_for_status()\n",
    "\n",
    "soup = BeautifulSoup(res.text, \"lxml\")"
   ]
  },
  {
   "cell_type": "code",
   "execution_count": 5,
   "metadata": {},
   "outputs": [
    {
     "name": "stdout",
     "output_type": "stream",
     "text": [
      "https://search1.kakaocdn.net/thumb/R232x328.q85/?fname=https%3A%2F%2Ft1.daumcdn.net%2Fmovie%2F4fc5880afdb5b7c60161f34184e1f466814fec2d\n",
      "https://search1.kakaocdn.net/thumb/R232x328.q85/?fname=https%3A%2F%2Ft1.daumcdn.net%2Fmovie%2F232a8d6e902c63036bbe2ae327d57e82585a639f\n",
      "https://search1.kakaocdn.net/thumb/R232x328.q85/?fname=https%3A%2F%2Ft1.daumcdn.net%2Fmovie%2Ff2d3ee4afbc78b44e34534037e17f7f382e1b65c\n",
      "https://search1.kakaocdn.net/thumb/R232x328.q85/?fname=https%3A%2F%2Ft1.daumcdn.net%2Fmovie%2Ff39274b0acd76f7c66f0a5fb9e5b7222ed37b373\n",
      "https://search1.kakaocdn.net/thumb/R232x328.q85/?fname=https%3A%2F%2Ft1.daumcdn.net%2Fmovie%2Faa6aaf313fb192e6f77f5bd4490d5e127d707240\n",
      "https://search1.kakaocdn.net/thumb/R232x328.q85/?fname=https%3A%2F%2Ft1.daumcdn.net%2Fmovie%2F446090579974d44551356ce961743e57eaa41bd6\n",
      "https://search1.kakaocdn.net/thumb/R232x328.q85/?fname=https%3A%2F%2Ft1.daumcdn.net%2Fmovie%2Ff2a2f4499800518cf7b3eb999bd83c4e1f2da89b\n",
      "https://search1.kakaocdn.net/thumb/R232x328.q85/?fname=https%3A%2F%2Ft1.daumcdn.net%2Fmovie%2F4abb16fd8b2e51e518b7e0165633d4b9602f2495\n",
      "https://search1.kakaocdn.net/thumb/R232x328.q85/?fname=https%3A%2F%2Ft1.daumcdn.net%2Fmovie%2F71454256ae63506a7fee5e03cf929b9b65a4f433\n",
      "https://search1.kakaocdn.net/thumb/R232x328.q85/?fname=https%3A%2F%2Ft1.daumcdn.net%2Fmovie%2Fa0fa0de4d943ad43edcae85122d8ee7e52ef60ea\n",
      "https://search1.kakaocdn.net/thumb/R232x328.q85/?fname=https%3A%2F%2Ft1.daumcdn.net%2Fmovie%2F5a64941e61f5a3fbcad8ef6bbf7edb073b35c01a\n",
      "https://search1.kakaocdn.net/thumb/R232x328.q85/?fname=https%3A%2F%2Ft1.daumcdn.net%2Fmovie%2F5c2c57cab283c1111fd1c5f5f0ac05b9be2780c7\n",
      "https://search1.kakaocdn.net/thumb/R232x328.q85/?fname=https%3A%2F%2Ft1.daumcdn.net%2Fmovie%2Fd0235b8e9c0048e4301f8c9c74da929863e33456\n",
      "https://search1.kakaocdn.net/thumb/R232x328.q85/?fname=https%3A%2F%2Ft1.daumcdn.net%2Fmovie%2Fd0643e2cd42252fb6d9018173e867fcd9612c115\n",
      "https://search1.kakaocdn.net/thumb/R232x328.q85/?fname=https%3A%2F%2Ft1.daumcdn.net%2Fmovie%2F316e880b27c97eddd0b6f0a42aff0cf1fecd960a\n",
      "https://search1.kakaocdn.net/thumb/R232x328.q85/?fname=https%3A%2F%2Ft1.daumcdn.net%2Fmovie%2Fc23137b8c082f66df707f21c9884ca38a1903efa\n",
      "https://search1.kakaocdn.net/thumb/R232x328.q85/?fname=https%3A%2F%2Ft1.daumcdn.net%2Fmovie%2F667ec351ca416f265896cf5768e94e65177b4da5\n",
      "https://search1.kakaocdn.net/thumb/R232x328.q85/?fname=https%3A%2F%2Ft1.daumcdn.net%2Fmovie%2F9ab1a372dd93ced3c357eabb8e01f3f5d6003267\n",
      "https://search1.kakaocdn.net/thumb/R232x328.q85/?fname=https%3A%2F%2Ft1.daumcdn.net%2Fmovie%2F017ba53fae24f8961d3d15c2998d12b10c99cdf1\n",
      "https://search1.kakaocdn.net/thumb/R232x328.q85/?fname=https%3A%2F%2Ft1.daumcdn.net%2Fmovie%2F88c733527983cbd6ab27e4f5f0673358ecfdf9eb\n",
      "https://search1.kakaocdn.net/thumb/R232x328.q85/?fname=https%3A%2F%2Ft1.daumcdn.net%2Fmovie%2F2eee1b07783f3ae40b0446fdcc73851956299a6a\n",
      "https://search1.kakaocdn.net/thumb/R232x328.q85/?fname=https%3A%2F%2Ft1.daumcdn.net%2Fmovie%2F9d7e759a721b7f67ae5d52c2d1d977855ba276aa\n",
      "https://search1.kakaocdn.net/thumb/R232x328.q85/?fname=https%3A%2F%2Ft1.daumcdn.net%2Fmovie%2Ff09b6fed698932a9258208f8cc4d041ac95efbbd\n",
      "https://search1.kakaocdn.net/thumb/R232x328.q85/?fname=https%3A%2F%2Ft1.daumcdn.net%2Fmovie%2Feb7a298ab409fa3aa5969257fb1116c7baf5306d\n",
      "https://search1.kakaocdn.net/thumb/R232x328.q85/?fname=https%3A%2F%2Ft1.daumcdn.net%2Fmovie%2F6b8b6ca0acd78221f254f00954744005c99160fb\n",
      "https://search1.kakaocdn.net/thumb/R232x328.q85/?fname=https%3A%2F%2Ft1.daumcdn.net%2Fmovie%2F28a2bbf1962b4f0a48c72f49957c5e4604ca9ccc\n",
      "https://search1.kakaocdn.net/thumb/R232x328.q85/?fname=https%3A%2F%2Ft1.daumcdn.net%2Fmovie%2Fa0fcbda650c0e964ac945ebbe38c5ec8d2dc55ff\n",
      "https://search1.kakaocdn.net/thumb/R232x328.q85/?fname=https%3A%2F%2Ft1.daumcdn.net%2Fmovie%2F7d54d4dec506b1386961fbac801aaff2287d953d\n",
      "https://search1.kakaocdn.net/thumb/R232x328.q85/?fname=https%3A%2F%2Ft1.daumcdn.net%2Fmovie%2Fccd72de0525f9d555fd8b5e07192d51c3f6aef54\n",
      "https://search1.kakaocdn.net/thumb/R232x328.q85/?fname=https%3A%2F%2Ft1.daumcdn.net%2Fmovie%2F8c183d3a3ac7d926c9aac443a650211a7e5494f4\n",
      "https://search2.kakaocdn.net/argon/130x130_85_c/3NSO2hnI87r\n",
      "https://search1.kakaocdn.net/argon/130x130_85_c/D5P3pI8acJb\n",
      "https://search3.kakaocdn.net/argon/130x130_85_c/C2PaF4Sk77F\n",
      "https://search4.kakaocdn.net/argon/130x130_85_c/6vIrAYpKpCS\n",
      "https://search4.kakaocdn.net/argon/130x130_85_c/BMs3SkAZYoC\n",
      "https://search1.daumcdn.net/thumb/C116x116.fjpg/?fname=http%3A%2F%2Ft1.daumcdn.net%2Fbrunch%2Fservice%2Fuser%2F6CW2%2Fimage%2FSvXE5hQYA9y_dUPrHy9AMevEyrc.jpg\n",
      "https://search2.daumcdn.net/thumb/C116x116.fjpg/?fname=http%3A%2F%2Ft1.daumcdn.net%2Fbrunch%2Fservice%2Fuser%2FmW7%2Fimage%2FMK_JB-xDzF4CMdoFLy-jC4YzuXI.jpg\n",
      "https://search3.daumcdn.net/thumb/C116x116.fjpg/?fname=http%3A%2F%2Ft1.daumcdn.net%2Fbrunch%2Fservice%2Fuser%2F1U9m%2Fimage%2F1NK-DNeD9JPI9iriCL3kMlfyCys.jpg\n",
      "https://search4.kakaocdn.net/argon/229x128_80_pr/JaWJWI1R1VR\n",
      "https://search4.kakaocdn.net/argon/229x128_80_pr/IiDmGYzMHzZ\n",
      "https://search2.kakaocdn.net/argon/229x128_80_pr/KvvG42lL9s7\n",
      "https://search2.kakaocdn.net/argon/229x128_80_pr/C3ftL3ndufr\n",
      "https://search4.kakaocdn.net/argon/229x128_80_pr/433Arue3typ\n",
      "https://search2.daumcdn.net/thumb/P200x200/?fname=https%3A%2F%2Fsearch2.kakaocdn.net%2Fargon%2F200x200_85_c%2FAfZsloqBWsC0\n",
      "https://search1.daumcdn.net/thumb/P200x200/?fname=https%3A%2F%2Fsearch2.kakaocdn.net%2Fargon%2F200x200_85_c%2FBo2iu2poNj00\n",
      "https://search3.daumcdn.net/thumb/P200x200/?fname=https%3A%2F%2Fsearch4.kakaocdn.net%2Fargon%2F200x200_85_c%2FHqoFmKKOT3I0\n",
      "https://search2.daumcdn.net/thumb/P200x200/?fname=https%3A%2F%2Fsearch3.kakaocdn.net%2Fargon%2F200x200_85_c%2FIOXH5kEgKXE0\n"
     ]
    }
   ],
   "source": [
    "images = soup.find_all(\"img\", attrs={\"class\":\"thumb_img\"})\n",
    "\n",
    "for image in images:\n",
    "    # print(image[\"src\"])\n",
    "    image_url = image[\"src\"]\n",
    "    if image_url.startswith(\"//\"):\n",
    "        image_url = \"https:\" + image_url\n",
    "\n",
    "    print(image[\"src\"])"
   ]
  },
  {
   "cell_type": "code",
   "execution_count": null,
   "metadata": {},
   "outputs": [],
   "source": []
  }
 ],
 "metadata": {
  "interpreter": {
   "hash": "b3ba2566441a7c06988d0923437866b63cedc61552a5af99d1f4fb67d367b25f"
  },
  "kernelspec": {
   "display_name": "Python 3.8.8 ('base')",
   "language": "python",
   "name": "python3"
  },
  "language_info": {
   "codemirror_mode": {
    "name": "ipython",
    "version": 3
   },
   "file_extension": ".py",
   "mimetype": "text/x-python",
   "name": "python",
   "nbconvert_exporter": "python",
   "pygments_lexer": "ipython3",
   "version": "3.8.8"
  },
  "orig_nbformat": 4
 },
 "nbformat": 4,
 "nbformat_minor": 2
}
