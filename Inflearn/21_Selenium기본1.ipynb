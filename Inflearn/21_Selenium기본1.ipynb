{
 "cells": [
  {
   "cell_type": "markdown",
   "metadata": {},
   "source": [
    "## Selenium\n",
    "- 페이지 테스트 자동화 할 수 있는 프레임워크"
   ]
  },
  {
   "cell_type": "code",
   "execution_count": 34,
   "metadata": {},
   "outputs": [
    {
     "name": "stdout",
     "output_type": "stream",
     "text": [
      "Requirement already satisfied: selenium in c:\\programdata\\anaconda3\\lib\\site-packages (4.1.0)\n",
      "Requirement already satisfied: trio~=0.17 in c:\\programdata\\anaconda3\\lib\\site-packages (from selenium) (0.20.0)\n",
      "Requirement already satisfied: urllib3[secure]~=1.26 in c:\\programdata\\anaconda3\\lib\\site-packages (from selenium) (1.26.4)\n",
      "Requirement already satisfied: trio-websocket~=0.9 in c:\\programdata\\anaconda3\\lib\\site-packages (from selenium) (0.9.2)\n",
      "Requirement already satisfied: sniffio in c:\\programdata\\anaconda3\\lib\\site-packages (from trio~=0.17->selenium) (1.2.0)\n",
      "Requirement already satisfied: sortedcontainers in c:\\programdata\\anaconda3\\lib\\site-packages (from trio~=0.17->selenium) (2.3.0)\n",
      "Requirement already satisfied: cffi>=1.14 in c:\\programdata\\anaconda3\\lib\\site-packages (from trio~=0.17->selenium) (1.14.5)\n",
      "Requirement already satisfied: attrs>=19.2.0 in c:\\programdata\\anaconda3\\lib\\site-packages (from trio~=0.17->selenium) (20.3.0)\n",
      "Requirement already satisfied: outcome in c:\\programdata\\anaconda3\\lib\\site-packages (from trio~=0.17->selenium) (1.1.0)\n",
      "Requirement already satisfied: async-generator>=1.9 in c:\\programdata\\anaconda3\\lib\\site-packages (from trio~=0.17->selenium) (1.10)\n",
      "Requirement already satisfied: idna in c:\\programdata\\anaconda3\\lib\\site-packages (from trio~=0.17->selenium) (2.10)\n",
      "Requirement already satisfied: pycparser in c:\\programdata\\anaconda3\\lib\\site-packages (from cffi>=1.14->trio~=0.17->selenium) (2.20)\n",
      "Requirement already satisfied: wsproto>=0.14 in c:\\programdata\\anaconda3\\lib\\site-packages (from trio-websocket~=0.9->selenium) (1.0.0)\n",
      "Requirement already satisfied: pyOpenSSL>=0.14 in c:\\programdata\\anaconda3\\lib\\site-packages (from urllib3[secure]~=1.26->selenium) (20.0.1)\n",
      "Requirement already satisfied: certifi in c:\\programdata\\anaconda3\\lib\\site-packages (from urllib3[secure]~=1.26->selenium) (2020.12.5)\n",
      "Requirement already satisfied: cryptography>=1.3.4 in c:\\programdata\\anaconda3\\lib\\site-packages (from urllib3[secure]~=1.26->selenium) (3.4.7)\n",
      "Requirement already satisfied: six>=1.5.2 in c:\\programdata\\anaconda3\\lib\\site-packages (from pyOpenSSL>=0.14->urllib3[secure]~=1.26->selenium) (1.15.0)\n",
      "Requirement already satisfied: h11<1,>=0.9.0 in c:\\programdata\\anaconda3\\lib\\site-packages (from wsproto>=0.14->trio-websocket~=0.9->selenium) (0.13.0)\n",
      "Note: you may need to restart the kernel to use updated packages.\n"
     ]
    }
   ],
   "source": [
    "pip install selenium"
   ]
  },
  {
   "cell_type": "markdown",
   "metadata": {},
   "source": [
    "## selenium\n",
    "- 브라우저에서 chrome://version 들어가서 selenium과 호환이 되는 버전인지 확인\n",
    "- chromedriver 검색 > https://chromedriver.chromium.org/downloads 들어가기 > 크롬 버전과 일치되는 것으로 다운로드"
   ]
  },
  {
   "cell_type": "code",
   "execution_count": 35,
   "metadata": {},
   "outputs": [
    {
     "name": "stderr",
     "output_type": "stream",
     "text": [
      "<ipython-input-35-b0676ce212b9>:3: DeprecationWarning: executable_path has been deprecated, please pass in a Service object\n",
      "  browser = webdriver.Chrome(\"selenium\\chromedriver_win32\\chromedriver.exe\")\n"
     ]
    }
   ],
   "source": [
    "from selenium import webdriver\n",
    "\n",
    "browser = webdriver.Chrome(\"selenium\\chromedriver_win32\\chromedriver.exe\")    \n",
    "browser.get(\"http://naver.com\")"
   ]
  },
  {
   "cell_type": "code",
   "execution_count": 36,
   "metadata": {},
   "outputs": [
    {
     "name": "stderr",
     "output_type": "stream",
     "text": [
      "<ipython-input-36-e50b67f34dcf>:1: DeprecationWarning: find_element_by_* commands are deprecated. Please use find_element() instead\n",
      "  elem = browser.find_element_by_class_name(\"link_login\")\n"
     ]
    },
    {
     "data": {
      "text/plain": [
       "<selenium.webdriver.remote.webelement.WebElement (session=\"a7518bc87238f4191702a2b85b3127db\", element=\"084bdb05-3169-4ef2-be28-5fccaf5cb52c\")>"
      ]
     },
     "execution_count": 36,
     "metadata": {},
     "output_type": "execute_result"
    }
   ],
   "source": [
    "elem = browser.find_element_by_class_name(\"link_login\")\n",
    "elem"
   ]
  },
  {
   "cell_type": "code",
   "execution_count": 37,
   "metadata": {},
   "outputs": [],
   "source": [
    "elem.click()"
   ]
  },
  {
   "cell_type": "code",
   "execution_count": 38,
   "metadata": {},
   "outputs": [],
   "source": [
    "browser.back()"
   ]
  },
  {
   "cell_type": "code",
   "execution_count": 39,
   "metadata": {},
   "outputs": [],
   "source": [
    "browser.forward()"
   ]
  },
  {
   "cell_type": "code",
   "execution_count": 40,
   "metadata": {},
   "outputs": [],
   "source": [
    "browser.refresh()"
   ]
  },
  {
   "cell_type": "code",
   "execution_count": 41,
   "metadata": {},
   "outputs": [],
   "source": [
    "browser.back()"
   ]
  },
  {
   "cell_type": "code",
   "execution_count": 42,
   "metadata": {},
   "outputs": [
    {
     "name": "stderr",
     "output_type": "stream",
     "text": [
      "<ipython-input-42-858092560efd>:1: DeprecationWarning: find_element_by_* commands are deprecated. Please use find_element() instead\n",
      "  elem = browser.find_element_by_id(\"query\")\n"
     ]
    }
   ],
   "source": [
    "elem = browser.find_element_by_id(\"query\")"
   ]
  },
  {
   "cell_type": "code",
   "execution_count": 43,
   "metadata": {},
   "outputs": [],
   "source": [
    "from selenium.webdriver.common.keys import Keys\n",
    "elem.send_keys(\"나도코딩\")\n",
    "elem.send_keys(Keys.ENTER)"
   ]
  },
  {
   "cell_type": "code",
   "execution_count": 44,
   "metadata": {},
   "outputs": [
    {
     "name": "stderr",
     "output_type": "stream",
     "text": [
      "<ipython-input-44-8bbcfadfa6f2>:1: DeprecationWarning: find_elements_by_* commands are deprecated. Please use find_elements() instead\n",
      "  elem = browser.find_elements_by_tag_name(\"a\")\n"
     ]
    },
    {
     "data": {
      "text/plain": [
       "[<selenium.webdriver.remote.webelement.WebElement (session=\"a7518bc87238f4191702a2b85b3127db\", element=\"0a70b66d-cbb9-4187-8c06-e660443acead\")>,\n",
       " <selenium.webdriver.remote.webelement.WebElement (session=\"a7518bc87238f4191702a2b85b3127db\", element=\"6d9a3b7e-327f-436a-8337-8d14c0a1637c\")>,\n",
       " <selenium.webdriver.remote.webelement.WebElement (session=\"a7518bc87238f4191702a2b85b3127db\", element=\"30560a58-6947-4a4b-b1ea-7cfb34e6cc2b\")>,\n",
       " <selenium.webdriver.remote.webelement.WebElement (session=\"a7518bc87238f4191702a2b85b3127db\", element=\"d3f981f2-e3c5-4ca0-a851-5c937af6a9bd\")>,\n",
       " <selenium.webdriver.remote.webelement.WebElement (session=\"a7518bc87238f4191702a2b85b3127db\", element=\"fe0302b8-4fb8-492c-94aa-9ae83417709a\")>,\n",
       " <selenium.webdriver.remote.webelement.WebElement (session=\"a7518bc87238f4191702a2b85b3127db\", element=\"df3f3ecf-7aed-4bc4-9ff0-1388da3a285e\")>,\n",
       " <selenium.webdriver.remote.webelement.WebElement (session=\"a7518bc87238f4191702a2b85b3127db\", element=\"c132fdb1-d1be-4f95-9629-8c1bf605a9ef\")>,\n",
       " <selenium.webdriver.remote.webelement.WebElement (session=\"a7518bc87238f4191702a2b85b3127db\", element=\"d8963430-ce02-4cd3-99c8-6512ca4c7eef\")>,\n",
       " <selenium.webdriver.remote.webelement.WebElement (session=\"a7518bc87238f4191702a2b85b3127db\", element=\"5832416c-c612-41a0-9b34-9c48065bbfe5\")>,\n",
       " <selenium.webdriver.remote.webelement.WebElement (session=\"a7518bc87238f4191702a2b85b3127db\", element=\"bd20f504-71e6-4d66-aa93-9205933093b5\")>,\n",
       " <selenium.webdriver.remote.webelement.WebElement (session=\"a7518bc87238f4191702a2b85b3127db\", element=\"3076c8f1-e3f4-4243-9741-18fab7b28d9c\")>,\n",
       " <selenium.webdriver.remote.webelement.WebElement (session=\"a7518bc87238f4191702a2b85b3127db\", element=\"079566ea-e9bc-42c1-b82b-b58553e91db8\")>,\n",
       " <selenium.webdriver.remote.webelement.WebElement (session=\"a7518bc87238f4191702a2b85b3127db\", element=\"856af741-a487-4187-a1c1-4e35b4c4ff92\")>,\n",
       " <selenium.webdriver.remote.webelement.WebElement (session=\"a7518bc87238f4191702a2b85b3127db\", element=\"e64e802e-5a33-4139-b9fb-512dbafd0c0f\")>,\n",
       " <selenium.webdriver.remote.webelement.WebElement (session=\"a7518bc87238f4191702a2b85b3127db\", element=\"4c0228aa-079b-4aa0-8a71-a808d773aac0\")>,\n",
       " <selenium.webdriver.remote.webelement.WebElement (session=\"a7518bc87238f4191702a2b85b3127db\", element=\"245787b3-8882-4058-b9de-22dfc03b6ff2\")>,\n",
       " <selenium.webdriver.remote.webelement.WebElement (session=\"a7518bc87238f4191702a2b85b3127db\", element=\"dde528e4-1b44-4370-97f9-e81a728f1a60\")>,\n",
       " <selenium.webdriver.remote.webelement.WebElement (session=\"a7518bc87238f4191702a2b85b3127db\", element=\"dc1463a8-0478-4176-a4c0-f049450c04c2\")>,\n",
       " <selenium.webdriver.remote.webelement.WebElement (session=\"a7518bc87238f4191702a2b85b3127db\", element=\"428e75d6-49e4-4359-9210-38b5db7de38f\")>,\n",
       " <selenium.webdriver.remote.webelement.WebElement (session=\"a7518bc87238f4191702a2b85b3127db\", element=\"c64dffe3-a9e8-4ba7-affc-356ddabd0b6d\")>,\n",
       " <selenium.webdriver.remote.webelement.WebElement (session=\"a7518bc87238f4191702a2b85b3127db\", element=\"d3c1e794-5b1c-4237-8efd-275a9ed793c7\")>,\n",
       " <selenium.webdriver.remote.webelement.WebElement (session=\"a7518bc87238f4191702a2b85b3127db\", element=\"d5d11440-6a0c-44c4-a7b1-427058e3f4f0\")>,\n",
       " <selenium.webdriver.remote.webelement.WebElement (session=\"a7518bc87238f4191702a2b85b3127db\", element=\"9c091c16-9f35-40de-90e4-5e0fbf19e2a4\")>,\n",
       " <selenium.webdriver.remote.webelement.WebElement (session=\"a7518bc87238f4191702a2b85b3127db\", element=\"4dda809c-36a6-4655-aca1-9e44023babfb\")>,\n",
       " <selenium.webdriver.remote.webelement.WebElement (session=\"a7518bc87238f4191702a2b85b3127db\", element=\"a4dac405-ff23-451c-a265-18d347c05541\")>,\n",
       " <selenium.webdriver.remote.webelement.WebElement (session=\"a7518bc87238f4191702a2b85b3127db\", element=\"04eb653b-39a2-4321-8a60-bd2109edbc90\")>,\n",
       " <selenium.webdriver.remote.webelement.WebElement (session=\"a7518bc87238f4191702a2b85b3127db\", element=\"e1cd55af-c90d-4ac5-9682-bdc8967ce419\")>,\n",
       " <selenium.webdriver.remote.webelement.WebElement (session=\"a7518bc87238f4191702a2b85b3127db\", element=\"d8653246-b4a4-4ba5-8dda-c2022fac0756\")>,\n",
       " <selenium.webdriver.remote.webelement.WebElement (session=\"a7518bc87238f4191702a2b85b3127db\", element=\"48aea761-fb0b-4789-9a21-657726e62bf1\")>,\n",
       " <selenium.webdriver.remote.webelement.WebElement (session=\"a7518bc87238f4191702a2b85b3127db\", element=\"5058ee25-a9df-477b-b40c-d4aff9b949a4\")>,\n",
       " <selenium.webdriver.remote.webelement.WebElement (session=\"a7518bc87238f4191702a2b85b3127db\", element=\"67e0fc36-4d1c-4b4b-b2ac-c9a4ee2a2d69\")>,\n",
       " <selenium.webdriver.remote.webelement.WebElement (session=\"a7518bc87238f4191702a2b85b3127db\", element=\"24e2e59e-202d-4f3d-a208-f9eda0de6b39\")>,\n",
       " <selenium.webdriver.remote.webelement.WebElement (session=\"a7518bc87238f4191702a2b85b3127db\", element=\"7278b3cb-1494-41db-af06-d20b584548ec\")>,\n",
       " <selenium.webdriver.remote.webelement.WebElement (session=\"a7518bc87238f4191702a2b85b3127db\", element=\"ba752ae5-0164-4efc-bbda-08c654376ae8\")>,\n",
       " <selenium.webdriver.remote.webelement.WebElement (session=\"a7518bc87238f4191702a2b85b3127db\", element=\"56c4801f-6e26-4ff4-bcba-0f531b404714\")>,\n",
       " <selenium.webdriver.remote.webelement.WebElement (session=\"a7518bc87238f4191702a2b85b3127db\", element=\"d49f8883-3d1d-4a6e-929c-b15592be3695\")>,\n",
       " <selenium.webdriver.remote.webelement.WebElement (session=\"a7518bc87238f4191702a2b85b3127db\", element=\"4f51642a-8f1f-4449-8623-3db87f3718d3\")>,\n",
       " <selenium.webdriver.remote.webelement.WebElement (session=\"a7518bc87238f4191702a2b85b3127db\", element=\"8245a885-1398-4312-b618-4a7799e5d5cd\")>,\n",
       " <selenium.webdriver.remote.webelement.WebElement (session=\"a7518bc87238f4191702a2b85b3127db\", element=\"a89977fb-333d-46e6-bcb8-bc980c983595\")>,\n",
       " <selenium.webdriver.remote.webelement.WebElement (session=\"a7518bc87238f4191702a2b85b3127db\", element=\"a0d12def-59e2-4355-8405-66de5b053dad\")>,\n",
       " <selenium.webdriver.remote.webelement.WebElement (session=\"a7518bc87238f4191702a2b85b3127db\", element=\"6649bc23-06c6-4fd2-8254-6ba2d32acdda\")>,\n",
       " <selenium.webdriver.remote.webelement.WebElement (session=\"a7518bc87238f4191702a2b85b3127db\", element=\"3b3c1687-0f8e-4cf8-9bf1-00d5b3ca66a7\")>,\n",
       " <selenium.webdriver.remote.webelement.WebElement (session=\"a7518bc87238f4191702a2b85b3127db\", element=\"8b777f9a-3f47-4054-87e0-4f5ee19a6128\")>,\n",
       " <selenium.webdriver.remote.webelement.WebElement (session=\"a7518bc87238f4191702a2b85b3127db\", element=\"d1bbb0c0-338e-4493-80f4-cb1b51322b32\")>,\n",
       " <selenium.webdriver.remote.webelement.WebElement (session=\"a7518bc87238f4191702a2b85b3127db\", element=\"13840e78-3d6d-4f07-802c-9a7eff14a812\")>,\n",
       " <selenium.webdriver.remote.webelement.WebElement (session=\"a7518bc87238f4191702a2b85b3127db\", element=\"aadcbe9e-c660-449c-8bf4-e4c005967818\")>,\n",
       " <selenium.webdriver.remote.webelement.WebElement (session=\"a7518bc87238f4191702a2b85b3127db\", element=\"7458b4f0-e1a6-459f-9ebc-ae218d3646c9\")>,\n",
       " <selenium.webdriver.remote.webelement.WebElement (session=\"a7518bc87238f4191702a2b85b3127db\", element=\"aa940b41-1980-4f63-9892-552e9f686d85\")>,\n",
       " <selenium.webdriver.remote.webelement.WebElement (session=\"a7518bc87238f4191702a2b85b3127db\", element=\"d76428da-6baa-4313-bdaa-c8c1d5035710\")>,\n",
       " <selenium.webdriver.remote.webelement.WebElement (session=\"a7518bc87238f4191702a2b85b3127db\", element=\"3e84bc63-0392-4f14-a80c-1b4566a75bcd\")>,\n",
       " <selenium.webdriver.remote.webelement.WebElement (session=\"a7518bc87238f4191702a2b85b3127db\", element=\"f08aca83-dab0-4ca6-8db9-0c15dc6e2604\")>,\n",
       " <selenium.webdriver.remote.webelement.WebElement (session=\"a7518bc87238f4191702a2b85b3127db\", element=\"5948817a-5546-4abd-984e-c7b5892dde6c\")>,\n",
       " <selenium.webdriver.remote.webelement.WebElement (session=\"a7518bc87238f4191702a2b85b3127db\", element=\"330a8ccf-351b-4d07-93ab-dd27088836d2\")>,\n",
       " <selenium.webdriver.remote.webelement.WebElement (session=\"a7518bc87238f4191702a2b85b3127db\", element=\"9614d74c-89c7-48b6-809e-a918884e3da4\")>,\n",
       " <selenium.webdriver.remote.webelement.WebElement (session=\"a7518bc87238f4191702a2b85b3127db\", element=\"51aba7e8-3736-42a4-813c-ad4c114474fa\")>,\n",
       " <selenium.webdriver.remote.webelement.WebElement (session=\"a7518bc87238f4191702a2b85b3127db\", element=\"4c63b4d8-c8a7-47a8-8f76-2d89a8fcb10c\")>,\n",
       " <selenium.webdriver.remote.webelement.WebElement (session=\"a7518bc87238f4191702a2b85b3127db\", element=\"a7556219-e61c-4e36-aabb-5ed18b997811\")>,\n",
       " <selenium.webdriver.remote.webelement.WebElement (session=\"a7518bc87238f4191702a2b85b3127db\", element=\"c852c68c-9f63-4d35-a26f-0f9c86b91b55\")>,\n",
       " <selenium.webdriver.remote.webelement.WebElement (session=\"a7518bc87238f4191702a2b85b3127db\", element=\"932b553b-a058-4663-8f6a-e9b7560a601a\")>,\n",
       " <selenium.webdriver.remote.webelement.WebElement (session=\"a7518bc87238f4191702a2b85b3127db\", element=\"37f8fbcb-633d-4562-addc-112325fea04f\")>,\n",
       " <selenium.webdriver.remote.webelement.WebElement (session=\"a7518bc87238f4191702a2b85b3127db\", element=\"2ade38f0-84eb-4725-a779-2564de8dbe99\")>,\n",
       " <selenium.webdriver.remote.webelement.WebElement (session=\"a7518bc87238f4191702a2b85b3127db\", element=\"8c02d0e7-c2f9-4390-bf55-7c96cc48d1c7\")>,\n",
       " <selenium.webdriver.remote.webelement.WebElement (session=\"a7518bc87238f4191702a2b85b3127db\", element=\"629b5958-3cec-42eb-b152-1b8df6dcb82f\")>,\n",
       " <selenium.webdriver.remote.webelement.WebElement (session=\"a7518bc87238f4191702a2b85b3127db\", element=\"84796a1e-e728-46c6-8ef5-446c3b55d584\")>,\n",
       " <selenium.webdriver.remote.webelement.WebElement (session=\"a7518bc87238f4191702a2b85b3127db\", element=\"42c65e49-41c5-4011-9777-53431a51fd7e\")>,\n",
       " <selenium.webdriver.remote.webelement.WebElement (session=\"a7518bc87238f4191702a2b85b3127db\", element=\"42a4069f-792d-4d80-a384-7c7df3af5129\")>,\n",
       " <selenium.webdriver.remote.webelement.WebElement (session=\"a7518bc87238f4191702a2b85b3127db\", element=\"8fdd6ca3-d9f8-47eb-a776-3d80c9ccbc84\")>,\n",
       " <selenium.webdriver.remote.webelement.WebElement (session=\"a7518bc87238f4191702a2b85b3127db\", element=\"a077f48d-01f7-4f82-8fed-ba0877d94229\")>,\n",
       " <selenium.webdriver.remote.webelement.WebElement (session=\"a7518bc87238f4191702a2b85b3127db\", element=\"814db3ef-3701-45d6-9436-199e8cbcaf15\")>,\n",
       " <selenium.webdriver.remote.webelement.WebElement (session=\"a7518bc87238f4191702a2b85b3127db\", element=\"2ca8c441-ab22-4601-9f68-192922ed4a7d\")>,\n",
       " <selenium.webdriver.remote.webelement.WebElement (session=\"a7518bc87238f4191702a2b85b3127db\", element=\"c823c440-b05a-4af2-a63c-4c25dfb0ee42\")>,\n",
       " <selenium.webdriver.remote.webelement.WebElement (session=\"a7518bc87238f4191702a2b85b3127db\", element=\"4ee12f3d-711c-4936-9bde-d819c9050384\")>,\n",
       " <selenium.webdriver.remote.webelement.WebElement (session=\"a7518bc87238f4191702a2b85b3127db\", element=\"136df83b-0351-41c9-9d1a-987316006505\")>,\n",
       " <selenium.webdriver.remote.webelement.WebElement (session=\"a7518bc87238f4191702a2b85b3127db\", element=\"367cdb0d-d113-49ab-9bad-0909ce8b9672\")>,\n",
       " <selenium.webdriver.remote.webelement.WebElement (session=\"a7518bc87238f4191702a2b85b3127db\", element=\"3256ef19-cfad-4f99-9dce-bfaba0c9e93f\")>,\n",
       " <selenium.webdriver.remote.webelement.WebElement (session=\"a7518bc87238f4191702a2b85b3127db\", element=\"c26127be-8395-4490-82b8-eccfb4b5c068\")>,\n",
       " <selenium.webdriver.remote.webelement.WebElement (session=\"a7518bc87238f4191702a2b85b3127db\", element=\"d18129e9-8abc-446d-a7f5-3f80ef9ffcad\")>,\n",
       " <selenium.webdriver.remote.webelement.WebElement (session=\"a7518bc87238f4191702a2b85b3127db\", element=\"760969f4-d50e-4708-b589-b8e4ee200b28\")>,\n",
       " <selenium.webdriver.remote.webelement.WebElement (session=\"a7518bc87238f4191702a2b85b3127db\", element=\"55e8d0ae-ebb5-436d-8585-3bf7be32a1df\")>,\n",
       " <selenium.webdriver.remote.webelement.WebElement (session=\"a7518bc87238f4191702a2b85b3127db\", element=\"bddffced-a3b0-42d4-a539-4e787b74c1e5\")>,\n",
       " <selenium.webdriver.remote.webelement.WebElement (session=\"a7518bc87238f4191702a2b85b3127db\", element=\"ddea5a19-ebff-419c-8245-4521aebfb190\")>,\n",
       " <selenium.webdriver.remote.webelement.WebElement (session=\"a7518bc87238f4191702a2b85b3127db\", element=\"692e7259-eeba-45ee-962d-856890a7ce1f\")>,\n",
       " <selenium.webdriver.remote.webelement.WebElement (session=\"a7518bc87238f4191702a2b85b3127db\", element=\"0c86248d-8567-4624-8db4-95984d30fb2d\")>,\n",
       " <selenium.webdriver.remote.webelement.WebElement (session=\"a7518bc87238f4191702a2b85b3127db\", element=\"3ddfc198-db85-40e4-af54-a832d588fb5a\")>,\n",
       " <selenium.webdriver.remote.webelement.WebElement (session=\"a7518bc87238f4191702a2b85b3127db\", element=\"27f904cd-4bd1-4f90-9baf-a886fd6cffb4\")>,\n",
       " <selenium.webdriver.remote.webelement.WebElement (session=\"a7518bc87238f4191702a2b85b3127db\", element=\"e434d1f5-0231-44c5-8ad2-e0548315fa03\")>,\n",
       " <selenium.webdriver.remote.webelement.WebElement (session=\"a7518bc87238f4191702a2b85b3127db\", element=\"3f7de053-6ebc-4987-9521-3bd6eb8a40fc\")>,\n",
       " <selenium.webdriver.remote.webelement.WebElement (session=\"a7518bc87238f4191702a2b85b3127db\", element=\"edb2a2f7-3c09-44fb-b1eb-93a747a34c2b\")>,\n",
       " <selenium.webdriver.remote.webelement.WebElement (session=\"a7518bc87238f4191702a2b85b3127db\", element=\"ce05716a-7dee-493b-88d6-3c87f5017166\")>,\n",
       " <selenium.webdriver.remote.webelement.WebElement (session=\"a7518bc87238f4191702a2b85b3127db\", element=\"90f8d970-f968-4d72-b377-e4a6e1c001dc\")>,\n",
       " <selenium.webdriver.remote.webelement.WebElement (session=\"a7518bc87238f4191702a2b85b3127db\", element=\"1745a0c9-eba2-4463-8b8b-b475903dc573\")>,\n",
       " <selenium.webdriver.remote.webelement.WebElement (session=\"a7518bc87238f4191702a2b85b3127db\", element=\"58586b8f-75b5-4703-8916-d726776cef1e\")>,\n",
       " <selenium.webdriver.remote.webelement.WebElement (session=\"a7518bc87238f4191702a2b85b3127db\", element=\"3c7e9c89-be04-49f4-a399-6cecec3b4e4d\")>,\n",
       " <selenium.webdriver.remote.webelement.WebElement (session=\"a7518bc87238f4191702a2b85b3127db\", element=\"41af4356-90a3-4745-99cf-891480a9b869\")>,\n",
       " <selenium.webdriver.remote.webelement.WebElement (session=\"a7518bc87238f4191702a2b85b3127db\", element=\"08f6eb4a-70c0-422b-acd1-288a4c7e39c3\")>,\n",
       " <selenium.webdriver.remote.webelement.WebElement (session=\"a7518bc87238f4191702a2b85b3127db\", element=\"0723b218-4d13-409a-8431-07d8bda67f50\")>,\n",
       " <selenium.webdriver.remote.webelement.WebElement (session=\"a7518bc87238f4191702a2b85b3127db\", element=\"0627c9db-79e3-435d-a952-1dd51796a5f7\")>,\n",
       " <selenium.webdriver.remote.webelement.WebElement (session=\"a7518bc87238f4191702a2b85b3127db\", element=\"dd998344-2039-4473-a303-1cb459d0d3a4\")>,\n",
       " <selenium.webdriver.remote.webelement.WebElement (session=\"a7518bc87238f4191702a2b85b3127db\", element=\"4f008335-c018-42a4-adc3-83b2acc195b3\")>,\n",
       " <selenium.webdriver.remote.webelement.WebElement (session=\"a7518bc87238f4191702a2b85b3127db\", element=\"a925d452-1ebd-4be4-bb8f-fce5114b1ef0\")>,\n",
       " <selenium.webdriver.remote.webelement.WebElement (session=\"a7518bc87238f4191702a2b85b3127db\", element=\"cad98f1c-fa48-4ea4-8752-216c4cc11862\")>,\n",
       " <selenium.webdriver.remote.webelement.WebElement (session=\"a7518bc87238f4191702a2b85b3127db\", element=\"8b8e93a7-595a-4086-bc72-25c02b5188e7\")>,\n",
       " <selenium.webdriver.remote.webelement.WebElement (session=\"a7518bc87238f4191702a2b85b3127db\", element=\"5b1b2dba-1497-4651-9bb9-6bacf8668d28\")>,\n",
       " <selenium.webdriver.remote.webelement.WebElement (session=\"a7518bc87238f4191702a2b85b3127db\", element=\"bc255593-58bf-451b-b758-d0ede57f3342\")>,\n",
       " <selenium.webdriver.remote.webelement.WebElement (session=\"a7518bc87238f4191702a2b85b3127db\", element=\"93ccd926-1542-493d-b0a5-d719fc5756c1\")>,\n",
       " <selenium.webdriver.remote.webelement.WebElement (session=\"a7518bc87238f4191702a2b85b3127db\", element=\"281c27b8-52d7-4f28-9a73-e91b2f83d6ee\")>,\n",
       " <selenium.webdriver.remote.webelement.WebElement (session=\"a7518bc87238f4191702a2b85b3127db\", element=\"018dda89-afd3-4fb6-a2c5-2ad4bae03de0\")>,\n",
       " <selenium.webdriver.remote.webelement.WebElement (session=\"a7518bc87238f4191702a2b85b3127db\", element=\"85cfd48d-eaa8-4c13-9384-2206bd16df91\")>,\n",
       " <selenium.webdriver.remote.webelement.WebElement (session=\"a7518bc87238f4191702a2b85b3127db\", element=\"5e240d83-4e1d-41e3-9db6-d2add58e367b\")>,\n",
       " <selenium.webdriver.remote.webelement.WebElement (session=\"a7518bc87238f4191702a2b85b3127db\", element=\"20368a11-7858-4558-854c-2157bcde4845\")>,\n",
       " <selenium.webdriver.remote.webelement.WebElement (session=\"a7518bc87238f4191702a2b85b3127db\", element=\"61aa87ff-b5d6-4a8f-a09f-2aa52bb0798c\")>,\n",
       " <selenium.webdriver.remote.webelement.WebElement (session=\"a7518bc87238f4191702a2b85b3127db\", element=\"b9208f57-d0ae-4c36-9bca-913afd28c5ea\")>,\n",
       " <selenium.webdriver.remote.webelement.WebElement (session=\"a7518bc87238f4191702a2b85b3127db\", element=\"df8f3af7-6dcc-4c56-b06c-c54911e78813\")>,\n",
       " <selenium.webdriver.remote.webelement.WebElement (session=\"a7518bc87238f4191702a2b85b3127db\", element=\"d04a295d-5ad0-4c88-98e8-404901354169\")>,\n",
       " <selenium.webdriver.remote.webelement.WebElement (session=\"a7518bc87238f4191702a2b85b3127db\", element=\"f36948f8-f9ba-4671-876c-96938ae1265a\")>,\n",
       " <selenium.webdriver.remote.webelement.WebElement (session=\"a7518bc87238f4191702a2b85b3127db\", element=\"e4be187f-361b-4b4b-9b76-b5bb219dc291\")>,\n",
       " <selenium.webdriver.remote.webelement.WebElement (session=\"a7518bc87238f4191702a2b85b3127db\", element=\"3e8cc6db-917b-4acc-9aba-142a6eee0465\")>,\n",
       " <selenium.webdriver.remote.webelement.WebElement (session=\"a7518bc87238f4191702a2b85b3127db\", element=\"d9bfc8c1-4380-4312-a15d-67a0e80b260c\")>,\n",
       " <selenium.webdriver.remote.webelement.WebElement (session=\"a7518bc87238f4191702a2b85b3127db\", element=\"5e7ae534-e9b6-442d-afff-9d426c3bbbc2\")>,\n",
       " <selenium.webdriver.remote.webelement.WebElement (session=\"a7518bc87238f4191702a2b85b3127db\", element=\"e3634e01-52cc-47f8-b722-22ca462dfdb6\")>,\n",
       " <selenium.webdriver.remote.webelement.WebElement (session=\"a7518bc87238f4191702a2b85b3127db\", element=\"957801e9-4d92-4aff-bc0d-2f371004d796\")>,\n",
       " <selenium.webdriver.remote.webelement.WebElement (session=\"a7518bc87238f4191702a2b85b3127db\", element=\"9d4121bb-0a22-4964-a31b-3ef21025a504\")>,\n",
       " <selenium.webdriver.remote.webelement.WebElement (session=\"a7518bc87238f4191702a2b85b3127db\", element=\"1ab49935-350d-4565-a05b-23a177a5a03d\")>,\n",
       " <selenium.webdriver.remote.webelement.WebElement (session=\"a7518bc87238f4191702a2b85b3127db\", element=\"299ccf80-0558-447d-909c-907b9de6fd1f\")>,\n",
       " <selenium.webdriver.remote.webelement.WebElement (session=\"a7518bc87238f4191702a2b85b3127db\", element=\"2578d0d1-c71d-4c73-9993-ffce7d646d0f\")>,\n",
       " <selenium.webdriver.remote.webelement.WebElement (session=\"a7518bc87238f4191702a2b85b3127db\", element=\"cd8d27bd-332a-4779-bd61-286269970606\")>,\n",
       " <selenium.webdriver.remote.webelement.WebElement (session=\"a7518bc87238f4191702a2b85b3127db\", element=\"854d303e-6c84-45a5-87f1-a33dc52a7437\")>,\n",
       " <selenium.webdriver.remote.webelement.WebElement (session=\"a7518bc87238f4191702a2b85b3127db\", element=\"6b12c5de-3f38-40c2-a43d-53abc9ab932f\")>,\n",
       " <selenium.webdriver.remote.webelement.WebElement (session=\"a7518bc87238f4191702a2b85b3127db\", element=\"8c2b58bc-30f1-4b1e-b51c-6440bdef5760\")>,\n",
       " <selenium.webdriver.remote.webelement.WebElement (session=\"a7518bc87238f4191702a2b85b3127db\", element=\"00d88a0e-8429-4954-8320-a8ee772c01c0\")>,\n",
       " <selenium.webdriver.remote.webelement.WebElement (session=\"a7518bc87238f4191702a2b85b3127db\", element=\"d8bbbafd-c765-4fe3-a6c7-b28a35e6bf15\")>,\n",
       " <selenium.webdriver.remote.webelement.WebElement (session=\"a7518bc87238f4191702a2b85b3127db\", element=\"e4c58400-695a-4a1d-9dfd-8a4000e246e9\")>,\n",
       " <selenium.webdriver.remote.webelement.WebElement (session=\"a7518bc87238f4191702a2b85b3127db\", element=\"7534e815-45c4-4ab9-bcb4-9cfd8736f6e7\")>,\n",
       " <selenium.webdriver.remote.webelement.WebElement (session=\"a7518bc87238f4191702a2b85b3127db\", element=\"dfd41a65-69f0-455f-abe5-718ad26de4f5\")>,\n",
       " <selenium.webdriver.remote.webelement.WebElement (session=\"a7518bc87238f4191702a2b85b3127db\", element=\"aec0c36a-302f-45a2-8f7d-7ab6737bc180\")>,\n",
       " <selenium.webdriver.remote.webelement.WebElement (session=\"a7518bc87238f4191702a2b85b3127db\", element=\"ea798106-a185-44d4-a8c4-120996d2f816\")>,\n",
       " <selenium.webdriver.remote.webelement.WebElement (session=\"a7518bc87238f4191702a2b85b3127db\", element=\"e918dcbb-6d3f-4aaa-a4e1-864a858fb7a3\")>,\n",
       " <selenium.webdriver.remote.webelement.WebElement (session=\"a7518bc87238f4191702a2b85b3127db\", element=\"565fa005-668f-48ee-ab08-0887b443c61f\")>,\n",
       " <selenium.webdriver.remote.webelement.WebElement (session=\"a7518bc87238f4191702a2b85b3127db\", element=\"6131d584-2b3a-49a8-8630-3e491ca6f3cf\")>,\n",
       " <selenium.webdriver.remote.webelement.WebElement (session=\"a7518bc87238f4191702a2b85b3127db\", element=\"d7a3d2c2-9f07-4ba2-8e5a-5be1ec530591\")>,\n",
       " <selenium.webdriver.remote.webelement.WebElement (session=\"a7518bc87238f4191702a2b85b3127db\", element=\"23f2c182-ee9b-4f33-8e61-d14516f53874\")>,\n",
       " <selenium.webdriver.remote.webelement.WebElement (session=\"a7518bc87238f4191702a2b85b3127db\", element=\"8c446587-647e-4738-9372-1853fc230d6e\")>,\n",
       " <selenium.webdriver.remote.webelement.WebElement (session=\"a7518bc87238f4191702a2b85b3127db\", element=\"eb171c29-9184-4185-aa3d-eeee28654fdb\")>,\n",
       " <selenium.webdriver.remote.webelement.WebElement (session=\"a7518bc87238f4191702a2b85b3127db\", element=\"895fa9a5-e857-4a03-9b7f-268d8397e47e\")>,\n",
       " <selenium.webdriver.remote.webelement.WebElement (session=\"a7518bc87238f4191702a2b85b3127db\", element=\"1f60b6a1-1108-443e-9243-aee7aaaa82cf\")>,\n",
       " <selenium.webdriver.remote.webelement.WebElement (session=\"a7518bc87238f4191702a2b85b3127db\", element=\"f116b3a8-222c-47c2-82d2-5cca9ed4b653\")>,\n",
       " <selenium.webdriver.remote.webelement.WebElement (session=\"a7518bc87238f4191702a2b85b3127db\", element=\"3d1d096a-ec5f-46e8-958e-0fe154c377b8\")>,\n",
       " <selenium.webdriver.remote.webelement.WebElement (session=\"a7518bc87238f4191702a2b85b3127db\", element=\"42d8e2d9-db3d-4608-ae8e-498f12072a07\")>,\n",
       " <selenium.webdriver.remote.webelement.WebElement (session=\"a7518bc87238f4191702a2b85b3127db\", element=\"3a41a99a-81f1-47fe-af70-d31cf1983fe7\")>,\n",
       " <selenium.webdriver.remote.webelement.WebElement (session=\"a7518bc87238f4191702a2b85b3127db\", element=\"e3abc0cd-6db4-443e-b760-9fda50aa1081\")>,\n",
       " <selenium.webdriver.remote.webelement.WebElement (session=\"a7518bc87238f4191702a2b85b3127db\", element=\"76a1ff13-569d-449f-87b7-969888a70d79\")>,\n",
       " <selenium.webdriver.remote.webelement.WebElement (session=\"a7518bc87238f4191702a2b85b3127db\", element=\"bc038a8e-cf67-4487-bd0c-38de7638a72b\")>,\n",
       " <selenium.webdriver.remote.webelement.WebElement (session=\"a7518bc87238f4191702a2b85b3127db\", element=\"63fdd8dd-a2d6-400a-b3c5-2c74ede8e662\")>,\n",
       " <selenium.webdriver.remote.webelement.WebElement (session=\"a7518bc87238f4191702a2b85b3127db\", element=\"283644eb-01b4-413e-b231-7121ca371da6\")>,\n",
       " <selenium.webdriver.remote.webelement.WebElement (session=\"a7518bc87238f4191702a2b85b3127db\", element=\"0e92c98f-1efd-42b7-9821-1728f2a4a8d3\")>,\n",
       " <selenium.webdriver.remote.webelement.WebElement (session=\"a7518bc87238f4191702a2b85b3127db\", element=\"16b5603e-9bcc-42a6-aadb-d8ce197ebcbe\")>,\n",
       " <selenium.webdriver.remote.webelement.WebElement (session=\"a7518bc87238f4191702a2b85b3127db\", element=\"24ea2fad-fea4-499b-bef2-f3af893e6272\")>,\n",
       " <selenium.webdriver.remote.webelement.WebElement (session=\"a7518bc87238f4191702a2b85b3127db\", element=\"8b526c3f-cc0c-4a8c-a912-cefcbaa832a7\")>,\n",
       " <selenium.webdriver.remote.webelement.WebElement (session=\"a7518bc87238f4191702a2b85b3127db\", element=\"40b6b565-f388-41d5-a015-c1689cb25a27\")>,\n",
       " <selenium.webdriver.remote.webelement.WebElement (session=\"a7518bc87238f4191702a2b85b3127db\", element=\"098764e2-2c81-4d94-af6f-b57e102d1b68\")>,\n",
       " <selenium.webdriver.remote.webelement.WebElement (session=\"a7518bc87238f4191702a2b85b3127db\", element=\"79e9f44b-310a-4344-b96c-b2e2b883206a\")>,\n",
       " <selenium.webdriver.remote.webelement.WebElement (session=\"a7518bc87238f4191702a2b85b3127db\", element=\"840ae391-4400-43b4-accc-cd2608f49fae\")>,\n",
       " <selenium.webdriver.remote.webelement.WebElement (session=\"a7518bc87238f4191702a2b85b3127db\", element=\"fb9af6e4-1984-4b44-b83a-2240d3ccd9e2\")>,\n",
       " <selenium.webdriver.remote.webelement.WebElement (session=\"a7518bc87238f4191702a2b85b3127db\", element=\"12984475-163a-44a3-a334-d20f022206d5\")>,\n",
       " <selenium.webdriver.remote.webelement.WebElement (session=\"a7518bc87238f4191702a2b85b3127db\", element=\"b9805233-a312-4b4b-a960-215ac53cc902\")>,\n",
       " <selenium.webdriver.remote.webelement.WebElement (session=\"a7518bc87238f4191702a2b85b3127db\", element=\"3a58f162-1e8d-4a3f-82c1-b2d34d93bd8f\")>,\n",
       " <selenium.webdriver.remote.webelement.WebElement (session=\"a7518bc87238f4191702a2b85b3127db\", element=\"07465f4b-32ee-48b9-ba67-fd89ae0e0a92\")>,\n",
       " <selenium.webdriver.remote.webelement.WebElement (session=\"a7518bc87238f4191702a2b85b3127db\", element=\"93cd7ece-f3f8-4719-bf6f-514ef046efc3\")>,\n",
       " <selenium.webdriver.remote.webelement.WebElement (session=\"a7518bc87238f4191702a2b85b3127db\", element=\"5464762f-8b28-46f8-ae1e-65a68c1ffb9d\")>,\n",
       " <selenium.webdriver.remote.webelement.WebElement (session=\"a7518bc87238f4191702a2b85b3127db\", element=\"6a5ede06-c672-48f9-be46-1d0b1b564712\")>,\n",
       " <selenium.webdriver.remote.webelement.WebElement (session=\"a7518bc87238f4191702a2b85b3127db\", element=\"8c5c5c56-2d4b-4d7e-9a27-3044b917fa40\")>,\n",
       " <selenium.webdriver.remote.webelement.WebElement (session=\"a7518bc87238f4191702a2b85b3127db\", element=\"eb84aa18-8102-40cd-8e7b-dcd3175ff5fb\")>,\n",
       " <selenium.webdriver.remote.webelement.WebElement (session=\"a7518bc87238f4191702a2b85b3127db\", element=\"b794a7fb-afb8-4bed-b74e-7d4b08087706\")>,\n",
       " <selenium.webdriver.remote.webelement.WebElement (session=\"a7518bc87238f4191702a2b85b3127db\", element=\"f7399932-49a9-49fd-88f8-4734625f280f\")>,\n",
       " <selenium.webdriver.remote.webelement.WebElement (session=\"a7518bc87238f4191702a2b85b3127db\", element=\"a368b4c4-6e2f-4820-bad9-42f2c713073f\")>,\n",
       " <selenium.webdriver.remote.webelement.WebElement (session=\"a7518bc87238f4191702a2b85b3127db\", element=\"feebf496-0a68-4b4c-845b-8993b50d0855\")>,\n",
       " <selenium.webdriver.remote.webelement.WebElement (session=\"a7518bc87238f4191702a2b85b3127db\", element=\"50316c2e-b12a-49c0-becd-caff968e1fac\")>,\n",
       " <selenium.webdriver.remote.webelement.WebElement (session=\"a7518bc87238f4191702a2b85b3127db\", element=\"1b391846-3daf-41a2-8d33-9f5b09f7597e\")>,\n",
       " <selenium.webdriver.remote.webelement.WebElement (session=\"a7518bc87238f4191702a2b85b3127db\", element=\"b33a6f0d-4fae-41ee-b9a5-2815e2d70de2\")>,\n",
       " <selenium.webdriver.remote.webelement.WebElement (session=\"a7518bc87238f4191702a2b85b3127db\", element=\"2449d42a-1e47-41d9-9b85-b09419cdfaf3\")>,\n",
       " <selenium.webdriver.remote.webelement.WebElement (session=\"a7518bc87238f4191702a2b85b3127db\", element=\"c81e7c77-4aec-43df-811d-7b439f21665d\")>,\n",
       " <selenium.webdriver.remote.webelement.WebElement (session=\"a7518bc87238f4191702a2b85b3127db\", element=\"72995e90-bd23-45fe-b3c0-8e7f5ac7f564\")>,\n",
       " <selenium.webdriver.remote.webelement.WebElement (session=\"a7518bc87238f4191702a2b85b3127db\", element=\"2a83403e-b839-41bd-ae70-2278ad660c85\")>,\n",
       " <selenium.webdriver.remote.webelement.WebElement (session=\"a7518bc87238f4191702a2b85b3127db\", element=\"b1b74295-e7b3-4d9c-9dd5-76dbcf2ce379\")>,\n",
       " <selenium.webdriver.remote.webelement.WebElement (session=\"a7518bc87238f4191702a2b85b3127db\", element=\"f83c2245-bd35-4149-8b65-cae8093ae507\")>,\n",
       " <selenium.webdriver.remote.webelement.WebElement (session=\"a7518bc87238f4191702a2b85b3127db\", element=\"7677a58f-bd31-4184-954c-06d76292eb59\")>,\n",
       " <selenium.webdriver.remote.webelement.WebElement (session=\"a7518bc87238f4191702a2b85b3127db\", element=\"145a7ed1-e3e1-439e-aec2-b0ab93437937\")>,\n",
       " <selenium.webdriver.remote.webelement.WebElement (session=\"a7518bc87238f4191702a2b85b3127db\", element=\"0d5b5462-91cf-4594-84eb-94b8982fb47e\")>,\n",
       " <selenium.webdriver.remote.webelement.WebElement (session=\"a7518bc87238f4191702a2b85b3127db\", element=\"a5031e76-cc43-445f-8459-9ddfdb6ac318\")>,\n",
       " <selenium.webdriver.remote.webelement.WebElement (session=\"a7518bc87238f4191702a2b85b3127db\", element=\"cbbea539-b905-457a-9492-b80d1cd11a8b\")>,\n",
       " <selenium.webdriver.remote.webelement.WebElement (session=\"a7518bc87238f4191702a2b85b3127db\", element=\"207dca99-a36a-4b69-ac8c-ce823e148386\")>,\n",
       " <selenium.webdriver.remote.webelement.WebElement (session=\"a7518bc87238f4191702a2b85b3127db\", element=\"949fefc6-cbbb-42fb-be07-bc750aebe965\")>,\n",
       " <selenium.webdriver.remote.webelement.WebElement (session=\"a7518bc87238f4191702a2b85b3127db\", element=\"dab0e5d4-5cf9-4ed2-88eb-3ff97ea06dc4\")>,\n",
       " <selenium.webdriver.remote.webelement.WebElement (session=\"a7518bc87238f4191702a2b85b3127db\", element=\"ab54035d-94ba-4033-b075-beffd3439eb6\")>,\n",
       " <selenium.webdriver.remote.webelement.WebElement (session=\"a7518bc87238f4191702a2b85b3127db\", element=\"9a459ed3-2505-4ce2-83c9-771d48318186\")>,\n",
       " <selenium.webdriver.remote.webelement.WebElement (session=\"a7518bc87238f4191702a2b85b3127db\", element=\"ac0ecf07-9ac8-49bb-a841-c804202ab40c\")>,\n",
       " <selenium.webdriver.remote.webelement.WebElement (session=\"a7518bc87238f4191702a2b85b3127db\", element=\"f920f022-84ee-49f4-9e72-bcd630471508\")>,\n",
       " <selenium.webdriver.remote.webelement.WebElement (session=\"a7518bc87238f4191702a2b85b3127db\", element=\"bc630b00-712c-4fa5-b07a-f4777d558356\")>,\n",
       " <selenium.webdriver.remote.webelement.WebElement (session=\"a7518bc87238f4191702a2b85b3127db\", element=\"bb9608e6-3f8f-4e70-9404-c9cb72278666\")>,\n",
       " <selenium.webdriver.remote.webelement.WebElement (session=\"a7518bc87238f4191702a2b85b3127db\", element=\"bf13abac-30c7-4390-91db-504033f3bcb6\")>,\n",
       " <selenium.webdriver.remote.webelement.WebElement (session=\"a7518bc87238f4191702a2b85b3127db\", element=\"b60ba6aa-bae3-456d-b55a-9ad2764b3a4e\")>,\n",
       " <selenium.webdriver.remote.webelement.WebElement (session=\"a7518bc87238f4191702a2b85b3127db\", element=\"cdccfa62-4963-4c20-b164-84c631508884\")>,\n",
       " <selenium.webdriver.remote.webelement.WebElement (session=\"a7518bc87238f4191702a2b85b3127db\", element=\"45a8e058-a1d9-4ad2-b221-682ff4e0623a\")>,\n",
       " <selenium.webdriver.remote.webelement.WebElement (session=\"a7518bc87238f4191702a2b85b3127db\", element=\"c0791a0c-2217-4b33-b3b4-53aebd0ef7be\")>,\n",
       " <selenium.webdriver.remote.webelement.WebElement (session=\"a7518bc87238f4191702a2b85b3127db\", element=\"fe08f303-1bfb-43c3-99bc-1be16e509771\")>,\n",
       " <selenium.webdriver.remote.webelement.WebElement (session=\"a7518bc87238f4191702a2b85b3127db\", element=\"5454260d-8acc-4ea3-bc66-01b7f6290fd3\")>,\n",
       " <selenium.webdriver.remote.webelement.WebElement (session=\"a7518bc87238f4191702a2b85b3127db\", element=\"710eb38c-5e02-4b2a-b5b1-eab9cef3b3fc\")>,\n",
       " <selenium.webdriver.remote.webelement.WebElement (session=\"a7518bc87238f4191702a2b85b3127db\", element=\"759bf89f-7d8f-42ab-a0e4-954b4623d592\")>,\n",
       " <selenium.webdriver.remote.webelement.WebElement (session=\"a7518bc87238f4191702a2b85b3127db\", element=\"256df998-53c4-4259-8a4b-874715263049\")>,\n",
       " <selenium.webdriver.remote.webelement.WebElement (session=\"a7518bc87238f4191702a2b85b3127db\", element=\"296a5355-04d2-49eb-a8da-a1d746ea0305\")>,\n",
       " <selenium.webdriver.remote.webelement.WebElement (session=\"a7518bc87238f4191702a2b85b3127db\", element=\"35d8e1ff-ace1-44ca-8ed8-3d7ad2b7bee9\")>,\n",
       " <selenium.webdriver.remote.webelement.WebElement (session=\"a7518bc87238f4191702a2b85b3127db\", element=\"7a3ee393-3b94-48e3-a46e-ccbf204bc7a1\")>,\n",
       " <selenium.webdriver.remote.webelement.WebElement (session=\"a7518bc87238f4191702a2b85b3127db\", element=\"28d09b51-a7fe-4cb2-a34b-646a937cbad3\")>,\n",
       " <selenium.webdriver.remote.webelement.WebElement (session=\"a7518bc87238f4191702a2b85b3127db\", element=\"f22d5222-85b1-4bdd-96ec-82ec97bde0f5\")>,\n",
       " <selenium.webdriver.remote.webelement.WebElement (session=\"a7518bc87238f4191702a2b85b3127db\", element=\"044cd396-9d76-480f-b683-e3791edc6a70\")>,\n",
       " <selenium.webdriver.remote.webelement.WebElement (session=\"a7518bc87238f4191702a2b85b3127db\", element=\"a34aa6ad-34fc-4f07-bf29-7c7f888e79e6\")>,\n",
       " <selenium.webdriver.remote.webelement.WebElement (session=\"a7518bc87238f4191702a2b85b3127db\", element=\"d78e3c19-509a-4116-bca3-a07e932e63c9\")>,\n",
       " <selenium.webdriver.remote.webelement.WebElement (session=\"a7518bc87238f4191702a2b85b3127db\", element=\"d522cffd-026f-4ae3-b234-c80bfa2b1053\")>,\n",
       " <selenium.webdriver.remote.webelement.WebElement (session=\"a7518bc87238f4191702a2b85b3127db\", element=\"22e4bc2b-244b-48ea-acd0-260597d29e8e\")>,\n",
       " <selenium.webdriver.remote.webelement.WebElement (session=\"a7518bc87238f4191702a2b85b3127db\", element=\"37fdc4b8-7dbe-4ed9-865d-b1c985e0ea26\")>,\n",
       " <selenium.webdriver.remote.webelement.WebElement (session=\"a7518bc87238f4191702a2b85b3127db\", element=\"75171938-f21a-43b5-a8e0-afaeb42739a6\")>,\n",
       " <selenium.webdriver.remote.webelement.WebElement (session=\"a7518bc87238f4191702a2b85b3127db\", element=\"78531840-81b9-4883-be0d-410912ecba38\")>,\n",
       " <selenium.webdriver.remote.webelement.WebElement (session=\"a7518bc87238f4191702a2b85b3127db\", element=\"86f982ce-005a-4b13-a7c3-fe06e57e964b\")>,\n",
       " <selenium.webdriver.remote.webelement.WebElement (session=\"a7518bc87238f4191702a2b85b3127db\", element=\"615bcda0-526e-4b4d-94ce-76cd358c5536\")>,\n",
       " <selenium.webdriver.remote.webelement.WebElement (session=\"a7518bc87238f4191702a2b85b3127db\", element=\"4d19b3a0-0833-4e37-96bc-d62bb3331dba\")>,\n",
       " <selenium.webdriver.remote.webelement.WebElement (session=\"a7518bc87238f4191702a2b85b3127db\", element=\"2aa00cd8-dc49-46d4-b353-13235c849073\")>,\n",
       " <selenium.webdriver.remote.webelement.WebElement (session=\"a7518bc87238f4191702a2b85b3127db\", element=\"e76b43f2-d13b-4b6d-8b30-0d22e9232d15\")>,\n",
       " <selenium.webdriver.remote.webelement.WebElement (session=\"a7518bc87238f4191702a2b85b3127db\", element=\"6f24ecaf-775c-4b8a-90bb-638e6ffd32cb\")>,\n",
       " <selenium.webdriver.remote.webelement.WebElement (session=\"a7518bc87238f4191702a2b85b3127db\", element=\"bff5136c-5a66-487e-8914-9b99194ee290\")>,\n",
       " <selenium.webdriver.remote.webelement.WebElement (session=\"a7518bc87238f4191702a2b85b3127db\", element=\"1109e035-48b0-4030-b04a-1dd3018aa54d\")>,\n",
       " <selenium.webdriver.remote.webelement.WebElement (session=\"a7518bc87238f4191702a2b85b3127db\", element=\"38cf1b91-c6e4-4db7-983b-f19f87d7b617\")>,\n",
       " <selenium.webdriver.remote.webelement.WebElement (session=\"a7518bc87238f4191702a2b85b3127db\", element=\"42d7a4f0-445b-4cc6-ba52-2aa2c05b9539\")>,\n",
       " <selenium.webdriver.remote.webelement.WebElement (session=\"a7518bc87238f4191702a2b85b3127db\", element=\"278acf29-a953-4c59-a261-208ff1a8ec49\")>,\n",
       " <selenium.webdriver.remote.webelement.WebElement (session=\"a7518bc87238f4191702a2b85b3127db\", element=\"0a137583-affb-421d-83bc-37addacd9a81\")>,\n",
       " <selenium.webdriver.remote.webelement.WebElement (session=\"a7518bc87238f4191702a2b85b3127db\", element=\"f15b597a-bcd2-4434-a7f1-5759d8f6b70f\")>,\n",
       " <selenium.webdriver.remote.webelement.WebElement (session=\"a7518bc87238f4191702a2b85b3127db\", element=\"608d9cc7-1d48-4c77-ac13-c41229f3313a\")>,\n",
       " <selenium.webdriver.remote.webelement.WebElement (session=\"a7518bc87238f4191702a2b85b3127db\", element=\"927f6ffb-7372-4313-a9cb-44daf25a5db2\")>,\n",
       " <selenium.webdriver.remote.webelement.WebElement (session=\"a7518bc87238f4191702a2b85b3127db\", element=\"34a2b3dc-dec0-4144-b0b5-0458b64d454b\")>,\n",
       " <selenium.webdriver.remote.webelement.WebElement (session=\"a7518bc87238f4191702a2b85b3127db\", element=\"e3f3ed2d-7143-48af-a5b9-3c8206eeb63d\")>,\n",
       " <selenium.webdriver.remote.webelement.WebElement (session=\"a7518bc87238f4191702a2b85b3127db\", element=\"55f1328d-b482-4c50-aa78-6d9bebb10c4d\")>,\n",
       " <selenium.webdriver.remote.webelement.WebElement (session=\"a7518bc87238f4191702a2b85b3127db\", element=\"1cf83bcf-917f-40b0-a7d0-9f971aa2c502\")>,\n",
       " <selenium.webdriver.remote.webelement.WebElement (session=\"a7518bc87238f4191702a2b85b3127db\", element=\"fd902187-0b37-4f13-a2d4-242d35dcd1c6\")>,\n",
       " <selenium.webdriver.remote.webelement.WebElement (session=\"a7518bc87238f4191702a2b85b3127db\", element=\"9f266b26-bed4-4f51-9015-4322c9a75d3a\")>,\n",
       " <selenium.webdriver.remote.webelement.WebElement (session=\"a7518bc87238f4191702a2b85b3127db\", element=\"97f6d519-8a08-41b9-8da1-a0a83c7ba925\")>,\n",
       " <selenium.webdriver.remote.webelement.WebElement (session=\"a7518bc87238f4191702a2b85b3127db\", element=\"674902c7-7025-4b6f-ad0d-9fd826dd75a4\")>,\n",
       " <selenium.webdriver.remote.webelement.WebElement (session=\"a7518bc87238f4191702a2b85b3127db\", element=\"1c9ad430-4ebf-44d2-8c99-e1166cd75616\")>,\n",
       " <selenium.webdriver.remote.webelement.WebElement (session=\"a7518bc87238f4191702a2b85b3127db\", element=\"6511be60-2a3b-4215-92e5-020b4efae26a\")>,\n",
       " <selenium.webdriver.remote.webelement.WebElement (session=\"a7518bc87238f4191702a2b85b3127db\", element=\"2e5ebee8-9546-40ee-af3b-8292e89a2ede\")>,\n",
       " <selenium.webdriver.remote.webelement.WebElement (session=\"a7518bc87238f4191702a2b85b3127db\", element=\"35adca89-1fe8-406b-b35f-cf7da22b2827\")>,\n",
       " <selenium.webdriver.remote.webelement.WebElement (session=\"a7518bc87238f4191702a2b85b3127db\", element=\"c046fd7c-a442-4518-9908-c3f03e4a8a50\")>,\n",
       " <selenium.webdriver.remote.webelement.WebElement (session=\"a7518bc87238f4191702a2b85b3127db\", element=\"221d7861-e134-40f9-a4f5-733a4e269e52\")>,\n",
       " <selenium.webdriver.remote.webelement.WebElement (session=\"a7518bc87238f4191702a2b85b3127db\", element=\"58da320c-98ce-4fb4-9e61-f954f726fc16\")>,\n",
       " <selenium.webdriver.remote.webelement.WebElement (session=\"a7518bc87238f4191702a2b85b3127db\", element=\"a58ea79d-ace6-4863-b2fc-8c91dcb6e03e\")>,\n",
       " <selenium.webdriver.remote.webelement.WebElement (session=\"a7518bc87238f4191702a2b85b3127db\", element=\"7bbd3570-18de-4c7d-af4f-bb4ac900a1f5\")>,\n",
       " <selenium.webdriver.remote.webelement.WebElement (session=\"a7518bc87238f4191702a2b85b3127db\", element=\"348e4255-63e2-42ba-b8bb-1ce3e0a1b757\")>,\n",
       " <selenium.webdriver.remote.webelement.WebElement (session=\"a7518bc87238f4191702a2b85b3127db\", element=\"5f618267-042d-4d52-b761-6b61e3498576\")>,\n",
       " <selenium.webdriver.remote.webelement.WebElement (session=\"a7518bc87238f4191702a2b85b3127db\", element=\"454bbe4a-cec5-483b-8b9b-450acb85b1ca\")>,\n",
       " <selenium.webdriver.remote.webelement.WebElement (session=\"a7518bc87238f4191702a2b85b3127db\", element=\"01d546b8-48d4-4e93-a0fc-05aab61081f0\")>,\n",
       " <selenium.webdriver.remote.webelement.WebElement (session=\"a7518bc87238f4191702a2b85b3127db\", element=\"000078b8-5f50-403b-bf28-9026838c2074\")>,\n",
       " <selenium.webdriver.remote.webelement.WebElement (session=\"a7518bc87238f4191702a2b85b3127db\", element=\"0d8149e5-dcd8-4820-bdf8-61e867775bdd\")>,\n",
       " <selenium.webdriver.remote.webelement.WebElement (session=\"a7518bc87238f4191702a2b85b3127db\", element=\"d08017f7-9375-4ab3-aac8-dd3b7d1a0bb4\")>,\n",
       " <selenium.webdriver.remote.webelement.WebElement (session=\"a7518bc87238f4191702a2b85b3127db\", element=\"253c4f9d-5ecb-44f6-81cd-62b4eb3e9def\")>,\n",
       " <selenium.webdriver.remote.webelement.WebElement (session=\"a7518bc87238f4191702a2b85b3127db\", element=\"bcb4e1f7-a1d0-4bb4-ae5c-9c234b75192c\")>,\n",
       " <selenium.webdriver.remote.webelement.WebElement (session=\"a7518bc87238f4191702a2b85b3127db\", element=\"b4fba9c6-922b-4f3b-8442-63bda410f860\")>,\n",
       " <selenium.webdriver.remote.webelement.WebElement (session=\"a7518bc87238f4191702a2b85b3127db\", element=\"96aed76d-8794-478a-9525-c47504e38eb8\")>,\n",
       " <selenium.webdriver.remote.webelement.WebElement (session=\"a7518bc87238f4191702a2b85b3127db\", element=\"a7220c75-25d4-47ae-8d85-1c943b2a08ef\")>,\n",
       " <selenium.webdriver.remote.webelement.WebElement (session=\"a7518bc87238f4191702a2b85b3127db\", element=\"a6fd78f6-6f8a-4b18-828f-c3a3a7044850\")>,\n",
       " <selenium.webdriver.remote.webelement.WebElement (session=\"a7518bc87238f4191702a2b85b3127db\", element=\"3e126732-b0e0-42e7-bd59-e6bed5a66dc1\")>,\n",
       " <selenium.webdriver.remote.webelement.WebElement (session=\"a7518bc87238f4191702a2b85b3127db\", element=\"90a59fc7-3763-4399-94e8-98263d651251\")>,\n",
       " <selenium.webdriver.remote.webelement.WebElement (session=\"a7518bc87238f4191702a2b85b3127db\", element=\"040a829d-6b13-4f86-a6e8-3e8781398d96\")>,\n",
       " <selenium.webdriver.remote.webelement.WebElement (session=\"a7518bc87238f4191702a2b85b3127db\", element=\"ad5b053b-49bf-4b6d-95c5-0072174876b8\")>,\n",
       " <selenium.webdriver.remote.webelement.WebElement (session=\"a7518bc87238f4191702a2b85b3127db\", element=\"56898ee3-e80b-41be-84e9-69cb3f53f9bf\")>,\n",
       " <selenium.webdriver.remote.webelement.WebElement (session=\"a7518bc87238f4191702a2b85b3127db\", element=\"26ed51dd-e510-4838-bb3f-6e3b27b80d4d\")>,\n",
       " <selenium.webdriver.remote.webelement.WebElement (session=\"a7518bc87238f4191702a2b85b3127db\", element=\"8789ad94-5422-47ec-8540-b5dae21c18bc\")>,\n",
       " <selenium.webdriver.remote.webelement.WebElement (session=\"a7518bc87238f4191702a2b85b3127db\", element=\"2a1dcb0d-80a7-48f4-bd40-4ad1bf350c5d\")>,\n",
       " <selenium.webdriver.remote.webelement.WebElement (session=\"a7518bc87238f4191702a2b85b3127db\", element=\"56028930-495c-4d2f-bcd4-f70a189678e6\")>,\n",
       " <selenium.webdriver.remote.webelement.WebElement (session=\"a7518bc87238f4191702a2b85b3127db\", element=\"adf14c81-3a2c-4568-9ece-1d1fca9f2a1e\")>,\n",
       " <selenium.webdriver.remote.webelement.WebElement (session=\"a7518bc87238f4191702a2b85b3127db\", element=\"a08b00dc-efef-418c-a003-49983f9c1c57\")>,\n",
       " <selenium.webdriver.remote.webelement.WebElement (session=\"a7518bc87238f4191702a2b85b3127db\", element=\"bf315956-6e4a-411f-83ef-a205afcc23a6\")>,\n",
       " <selenium.webdriver.remote.webelement.WebElement (session=\"a7518bc87238f4191702a2b85b3127db\", element=\"48023269-297a-4ecf-9ea8-6b764510f0ef\")>,\n",
       " <selenium.webdriver.remote.webelement.WebElement (session=\"a7518bc87238f4191702a2b85b3127db\", element=\"1a07a06b-739c-45fb-87e3-e2b12f7c4f42\")>,\n",
       " <selenium.webdriver.remote.webelement.WebElement (session=\"a7518bc87238f4191702a2b85b3127db\", element=\"92c58827-990e-4f38-b20a-dd3425189da4\")>,\n",
       " <selenium.webdriver.remote.webelement.WebElement (session=\"a7518bc87238f4191702a2b85b3127db\", element=\"1d0ae73b-07d7-4ed5-87e8-3028e39b72af\")>,\n",
       " <selenium.webdriver.remote.webelement.WebElement (session=\"a7518bc87238f4191702a2b85b3127db\", element=\"16fc7a5a-1773-450b-9814-842f59b32fca\")>,\n",
       " <selenium.webdriver.remote.webelement.WebElement (session=\"a7518bc87238f4191702a2b85b3127db\", element=\"0bb81456-577b-44c4-94be-16ca3525bf8d\")>,\n",
       " <selenium.webdriver.remote.webelement.WebElement (session=\"a7518bc87238f4191702a2b85b3127db\", element=\"e691ca23-f621-4373-b1cd-6db1bb5d85ca\")>,\n",
       " <selenium.webdriver.remote.webelement.WebElement (session=\"a7518bc87238f4191702a2b85b3127db\", element=\"6a28131c-e7c0-45e1-9a21-2ed1df85477b\")>,\n",
       " <selenium.webdriver.remote.webelement.WebElement (session=\"a7518bc87238f4191702a2b85b3127db\", element=\"a7511d8d-f53b-44ea-9837-5d63aff30c04\")>,\n",
       " <selenium.webdriver.remote.webelement.WebElement (session=\"a7518bc87238f4191702a2b85b3127db\", element=\"7a968115-8328-4980-ab6b-c37a5f13e9e5\")>,\n",
       " <selenium.webdriver.remote.webelement.WebElement (session=\"a7518bc87238f4191702a2b85b3127db\", element=\"843a0c32-79fe-4f74-9d8d-173a583289a9\")>,\n",
       " <selenium.webdriver.remote.webelement.WebElement (session=\"a7518bc87238f4191702a2b85b3127db\", element=\"e38dbd33-5664-45e2-a6b2-905d27bc1040\")>,\n",
       " <selenium.webdriver.remote.webelement.WebElement (session=\"a7518bc87238f4191702a2b85b3127db\", element=\"fd17ba1a-402c-489d-bd9a-7fc17aeb9277\")>,\n",
       " <selenium.webdriver.remote.webelement.WebElement (session=\"a7518bc87238f4191702a2b85b3127db\", element=\"42c8388d-dfa8-4ca0-b86a-56b76e06c0b6\")>,\n",
       " <selenium.webdriver.remote.webelement.WebElement (session=\"a7518bc87238f4191702a2b85b3127db\", element=\"1490450b-9220-422a-9faf-e88ffab1fdee\")>,\n",
       " <selenium.webdriver.remote.webelement.WebElement (session=\"a7518bc87238f4191702a2b85b3127db\", element=\"af0f1f94-b9bc-4c78-8d63-1abb594d4f61\")>,\n",
       " <selenium.webdriver.remote.webelement.WebElement (session=\"a7518bc87238f4191702a2b85b3127db\", element=\"b85f789d-7f59-4470-a886-2bab94c79982\")>,\n",
       " <selenium.webdriver.remote.webelement.WebElement (session=\"a7518bc87238f4191702a2b85b3127db\", element=\"bec72985-54aa-4a32-ad6c-63f2db76465a\")>,\n",
       " <selenium.webdriver.remote.webelement.WebElement (session=\"a7518bc87238f4191702a2b85b3127db\", element=\"b65df941-6079-406b-bd1d-aa88cdb72adc\")>,\n",
       " <selenium.webdriver.remote.webelement.WebElement (session=\"a7518bc87238f4191702a2b85b3127db\", element=\"8e18596d-519f-4b33-a890-bfbcc6c875fb\")>,\n",
       " <selenium.webdriver.remote.webelement.WebElement (session=\"a7518bc87238f4191702a2b85b3127db\", element=\"5ecbcfca-c468-44c4-9f58-345d4ba6b7fe\")>,\n",
       " <selenium.webdriver.remote.webelement.WebElement (session=\"a7518bc87238f4191702a2b85b3127db\", element=\"b34f26fa-ffdc-411e-a2ac-fdb199a47d0b\")>,\n",
       " <selenium.webdriver.remote.webelement.WebElement (session=\"a7518bc87238f4191702a2b85b3127db\", element=\"597eefa1-b8ca-4dd9-8e8a-4f5b181e4481\")>,\n",
       " <selenium.webdriver.remote.webelement.WebElement (session=\"a7518bc87238f4191702a2b85b3127db\", element=\"5e080f8f-b7e5-4024-be76-ed5c3e9db4d8\")>,\n",
       " <selenium.webdriver.remote.webelement.WebElement (session=\"a7518bc87238f4191702a2b85b3127db\", element=\"79f32678-4aed-4c88-8232-fea3d8a9a231\")>,\n",
       " <selenium.webdriver.remote.webelement.WebElement (session=\"a7518bc87238f4191702a2b85b3127db\", element=\"2335374c-c830-499f-941e-f694d071a6d3\")>,\n",
       " <selenium.webdriver.remote.webelement.WebElement (session=\"a7518bc87238f4191702a2b85b3127db\", element=\"18a34a8b-f70b-4aef-8751-a0057f17d72a\")>,\n",
       " <selenium.webdriver.remote.webelement.WebElement (session=\"a7518bc87238f4191702a2b85b3127db\", element=\"6faf9c38-b883-4eb7-8ec8-ca2d6a8ba518\")>,\n",
       " <selenium.webdriver.remote.webelement.WebElement (session=\"a7518bc87238f4191702a2b85b3127db\", element=\"a74a0dfb-d840-4668-8305-5be802086732\")>,\n",
       " <selenium.webdriver.remote.webelement.WebElement (session=\"a7518bc87238f4191702a2b85b3127db\", element=\"0527b1dc-ba4e-4a06-93b4-1827c6ef718c\")>,\n",
       " <selenium.webdriver.remote.webelement.WebElement (session=\"a7518bc87238f4191702a2b85b3127db\", element=\"96661149-a8d2-4449-85ab-ca010314c0fb\")>,\n",
       " <selenium.webdriver.remote.webelement.WebElement (session=\"a7518bc87238f4191702a2b85b3127db\", element=\"5def72c6-3873-41c1-8100-311fa0cad144\")>,\n",
       " <selenium.webdriver.remote.webelement.WebElement (session=\"a7518bc87238f4191702a2b85b3127db\", element=\"53a9130b-3930-4100-8c7a-b60f961713c1\")>,\n",
       " <selenium.webdriver.remote.webelement.WebElement (session=\"a7518bc87238f4191702a2b85b3127db\", element=\"56a05a1f-e0f8-4366-a716-4e0fe20abacf\")>,\n",
       " <selenium.webdriver.remote.webelement.WebElement (session=\"a7518bc87238f4191702a2b85b3127db\", element=\"a2b0ef27-412a-4d8a-a3c9-f8d48c16f405\")>,\n",
       " <selenium.webdriver.remote.webelement.WebElement (session=\"a7518bc87238f4191702a2b85b3127db\", element=\"247f3549-4e9c-4bf4-8bd0-f0013f213824\")>,\n",
       " <selenium.webdriver.remote.webelement.WebElement (session=\"a7518bc87238f4191702a2b85b3127db\", element=\"1a93f9b1-fe83-452f-84e9-fe0571979f4c\")>,\n",
       " <selenium.webdriver.remote.webelement.WebElement (session=\"a7518bc87238f4191702a2b85b3127db\", element=\"1eabece9-a963-439b-bd58-157b87e24ae5\")>,\n",
       " <selenium.webdriver.remote.webelement.WebElement (session=\"a7518bc87238f4191702a2b85b3127db\", element=\"080f4158-f574-41cc-9211-5c4301c83040\")>,\n",
       " <selenium.webdriver.remote.webelement.WebElement (session=\"a7518bc87238f4191702a2b85b3127db\", element=\"558ae502-7d61-4c69-8c2f-8826049dd6ec\")>,\n",
       " <selenium.webdriver.remote.webelement.WebElement (session=\"a7518bc87238f4191702a2b85b3127db\", element=\"4cb25b0d-e1cf-432c-baff-777794c1d4a7\")>,\n",
       " <selenium.webdriver.remote.webelement.WebElement (session=\"a7518bc87238f4191702a2b85b3127db\", element=\"44e9d91a-8667-48f3-b7f9-5590e7944b6a\")>,\n",
       " <selenium.webdriver.remote.webelement.WebElement (session=\"a7518bc87238f4191702a2b85b3127db\", element=\"aa38f8bb-64b6-48b5-b38d-b13efbca5cfa\")>,\n",
       " <selenium.webdriver.remote.webelement.WebElement (session=\"a7518bc87238f4191702a2b85b3127db\", element=\"f0240558-f1de-42a4-accd-d3cdd727d1f9\")>,\n",
       " <selenium.webdriver.remote.webelement.WebElement (session=\"a7518bc87238f4191702a2b85b3127db\", element=\"1058e19e-6434-4831-8f46-d335e8d37ed2\")>,\n",
       " <selenium.webdriver.remote.webelement.WebElement (session=\"a7518bc87238f4191702a2b85b3127db\", element=\"3ca01962-0f0d-46dc-a390-712866e451b9\")>,\n",
       " <selenium.webdriver.remote.webelement.WebElement (session=\"a7518bc87238f4191702a2b85b3127db\", element=\"0473220c-fb0a-4659-9d7d-3c0e0cbce3d8\")>,\n",
       " <selenium.webdriver.remote.webelement.WebElement (session=\"a7518bc87238f4191702a2b85b3127db\", element=\"12acc230-dfe3-4cf6-868b-d1bbea26dd72\")>,\n",
       " <selenium.webdriver.remote.webelement.WebElement (session=\"a7518bc87238f4191702a2b85b3127db\", element=\"654f3eb9-c328-4338-b607-915a224cb9ed\")>,\n",
       " <selenium.webdriver.remote.webelement.WebElement (session=\"a7518bc87238f4191702a2b85b3127db\", element=\"ea804c8f-8d73-4548-a5ff-c1bf93747637\")>,\n",
       " <selenium.webdriver.remote.webelement.WebElement (session=\"a7518bc87238f4191702a2b85b3127db\", element=\"9b0a69d8-5d7f-4aed-9d85-2fedca67c0a3\")>,\n",
       " <selenium.webdriver.remote.webelement.WebElement (session=\"a7518bc87238f4191702a2b85b3127db\", element=\"dad746d6-b78b-4de3-8400-a4d2fd52d729\")>,\n",
       " <selenium.webdriver.remote.webelement.WebElement (session=\"a7518bc87238f4191702a2b85b3127db\", element=\"b17ee3ce-d0aa-44ad-b5ca-6a8a243fbffb\")>,\n",
       " <selenium.webdriver.remote.webelement.WebElement (session=\"a7518bc87238f4191702a2b85b3127db\", element=\"e6dd8c2b-4d38-4c24-90fb-1d7dea46f71c\")>,\n",
       " <selenium.webdriver.remote.webelement.WebElement (session=\"a7518bc87238f4191702a2b85b3127db\", element=\"44113531-4c73-4d7e-a6be-74c6ff3921fa\")>,\n",
       " <selenium.webdriver.remote.webelement.WebElement (session=\"a7518bc87238f4191702a2b85b3127db\", element=\"4222a631-de06-46a2-a978-03b2a456de64\")>,\n",
       " <selenium.webdriver.remote.webelement.WebElement (session=\"a7518bc87238f4191702a2b85b3127db\", element=\"60bfe5af-fed9-4aec-b020-2f7d005648ba\")>,\n",
       " <selenium.webdriver.remote.webelement.WebElement (session=\"a7518bc87238f4191702a2b85b3127db\", element=\"c19ed3ab-8d25-4663-8e98-1e3699e32ffb\")>,\n",
       " <selenium.webdriver.remote.webelement.WebElement (session=\"a7518bc87238f4191702a2b85b3127db\", element=\"e80af740-4f06-43cd-aab4-a98837eaffd5\")>,\n",
       " <selenium.webdriver.remote.webelement.WebElement (session=\"a7518bc87238f4191702a2b85b3127db\", element=\"0386e60b-20cf-4436-a59c-ca3b1da2b29d\")>,\n",
       " <selenium.webdriver.remote.webelement.WebElement (session=\"a7518bc87238f4191702a2b85b3127db\", element=\"4a2567a7-c78c-4efe-bce4-2f94a06300d2\")>,\n",
       " <selenium.webdriver.remote.webelement.WebElement (session=\"a7518bc87238f4191702a2b85b3127db\", element=\"d8e5f96d-ebf6-4e98-9a49-e06198c2ba59\")>,\n",
       " <selenium.webdriver.remote.webelement.WebElement (session=\"a7518bc87238f4191702a2b85b3127db\", element=\"485cf8a1-ed55-4516-a85e-1cfeac3de552\")>,\n",
       " <selenium.webdriver.remote.webelement.WebElement (session=\"a7518bc87238f4191702a2b85b3127db\", element=\"eb94ce06-2e79-44ce-8eec-d65e76b6f9e8\")>,\n",
       " <selenium.webdriver.remote.webelement.WebElement (session=\"a7518bc87238f4191702a2b85b3127db\", element=\"30cd8bcb-2bbf-40cb-99e2-2d2f891d97a7\")>,\n",
       " <selenium.webdriver.remote.webelement.WebElement (session=\"a7518bc87238f4191702a2b85b3127db\", element=\"41b6715a-6eab-4a0e-adf8-343c37992164\")>,\n",
       " <selenium.webdriver.remote.webelement.WebElement (session=\"a7518bc87238f4191702a2b85b3127db\", element=\"35a6c72f-7221-44e6-8d7c-e9e8464291ec\")>,\n",
       " <selenium.webdriver.remote.webelement.WebElement (session=\"a7518bc87238f4191702a2b85b3127db\", element=\"8db08680-8bf0-4679-af37-d948af29ceb3\")>,\n",
       " <selenium.webdriver.remote.webelement.WebElement (session=\"a7518bc87238f4191702a2b85b3127db\", element=\"ea5e127b-e98a-426f-8f9e-901f09b5e5f7\")>,\n",
       " <selenium.webdriver.remote.webelement.WebElement (session=\"a7518bc87238f4191702a2b85b3127db\", element=\"a75212ac-9586-46ec-b5d8-acf39208fdb6\")>,\n",
       " <selenium.webdriver.remote.webelement.WebElement (session=\"a7518bc87238f4191702a2b85b3127db\", element=\"a93c6a16-ab72-4a5d-915a-5de58f39c729\")>,\n",
       " <selenium.webdriver.remote.webelement.WebElement (session=\"a7518bc87238f4191702a2b85b3127db\", element=\"c11236b5-cb07-499b-9202-e53ac1554a55\")>,\n",
       " <selenium.webdriver.remote.webelement.WebElement (session=\"a7518bc87238f4191702a2b85b3127db\", element=\"6f828053-b1b3-4c13-8660-ce5131c54654\")>,\n",
       " <selenium.webdriver.remote.webelement.WebElement (session=\"a7518bc87238f4191702a2b85b3127db\", element=\"fa342e8b-6ca2-4584-b77a-9fa6c2d6a483\")>,\n",
       " <selenium.webdriver.remote.webelement.WebElement (session=\"a7518bc87238f4191702a2b85b3127db\", element=\"36145fa1-0e4f-4a76-a91d-cdd8b072ffa3\")>,\n",
       " <selenium.webdriver.remote.webelement.WebElement (session=\"a7518bc87238f4191702a2b85b3127db\", element=\"4625a445-a220-4e6e-8a92-d9cdc320d771\")>,\n",
       " <selenium.webdriver.remote.webelement.WebElement (session=\"a7518bc87238f4191702a2b85b3127db\", element=\"53746c22-bfbd-452c-aee9-80db69405ce3\")>,\n",
       " <selenium.webdriver.remote.webelement.WebElement (session=\"a7518bc87238f4191702a2b85b3127db\", element=\"750f7955-d4f8-4254-999c-9e903c10b808\")>,\n",
       " <selenium.webdriver.remote.webelement.WebElement (session=\"a7518bc87238f4191702a2b85b3127db\", element=\"3b31fc6d-3d3c-491e-bbf3-acb4622d3fc5\")>,\n",
       " <selenium.webdriver.remote.webelement.WebElement (session=\"a7518bc87238f4191702a2b85b3127db\", element=\"73dc1cbc-6af8-48f3-a782-8b14ddb291ed\")>,\n",
       " <selenium.webdriver.remote.webelement.WebElement (session=\"a7518bc87238f4191702a2b85b3127db\", element=\"41f6fb6b-2cc6-42d9-bff5-a5a5e75dd062\")>,\n",
       " <selenium.webdriver.remote.webelement.WebElement (session=\"a7518bc87238f4191702a2b85b3127db\", element=\"3f70d6b9-fd7e-4033-a50b-b009f7f5b17c\")>,\n",
       " <selenium.webdriver.remote.webelement.WebElement (session=\"a7518bc87238f4191702a2b85b3127db\", element=\"868032a1-11c3-4f56-8c41-bf1d71177ceb\")>,\n",
       " <selenium.webdriver.remote.webelement.WebElement (session=\"a7518bc87238f4191702a2b85b3127db\", element=\"d556c78f-820e-41a5-a6fc-26fb322a6eaa\")>,\n",
       " <selenium.webdriver.remote.webelement.WebElement (session=\"a7518bc87238f4191702a2b85b3127db\", element=\"7044d00b-3c4f-4086-abf3-7e8e70ae4879\")>,\n",
       " <selenium.webdriver.remote.webelement.WebElement (session=\"a7518bc87238f4191702a2b85b3127db\", element=\"675dcd7e-e27a-40ba-8e97-ee505849e4dc\")>,\n",
       " <selenium.webdriver.remote.webelement.WebElement (session=\"a7518bc87238f4191702a2b85b3127db\", element=\"74b18409-c3da-461a-a813-270c2fa78994\")>,\n",
       " <selenium.webdriver.remote.webelement.WebElement (session=\"a7518bc87238f4191702a2b85b3127db\", element=\"5160af67-bb25-411a-87a1-9cfe667520a1\")>,\n",
       " <selenium.webdriver.remote.webelement.WebElement (session=\"a7518bc87238f4191702a2b85b3127db\", element=\"58ff2c78-f576-4d16-bc1f-e6eba0bb1722\")>,\n",
       " <selenium.webdriver.remote.webelement.WebElement (session=\"a7518bc87238f4191702a2b85b3127db\", element=\"00b2d8ea-650b-477f-a802-6a405b551ae7\")>,\n",
       " <selenium.webdriver.remote.webelement.WebElement (session=\"a7518bc87238f4191702a2b85b3127db\", element=\"6e9e1ca5-4f59-49ff-b3f8-120ee365723f\")>,\n",
       " <selenium.webdriver.remote.webelement.WebElement (session=\"a7518bc87238f4191702a2b85b3127db\", element=\"bcbdaf93-36cb-4322-b9e3-756dabd2d497\")>,\n",
       " <selenium.webdriver.remote.webelement.WebElement (session=\"a7518bc87238f4191702a2b85b3127db\", element=\"4eb6a113-bd8d-4376-b82e-3f3c3bacee4f\")>,\n",
       " <selenium.webdriver.remote.webelement.WebElement (session=\"a7518bc87238f4191702a2b85b3127db\", element=\"983cb8eb-711f-4387-a6e2-053bc7cac450\")>,\n",
       " <selenium.webdriver.remote.webelement.WebElement (session=\"a7518bc87238f4191702a2b85b3127db\", element=\"dc20715f-9723-41cb-87da-361fed470c80\")>,\n",
       " <selenium.webdriver.remote.webelement.WebElement (session=\"a7518bc87238f4191702a2b85b3127db\", element=\"129bd69a-7ca9-4e88-8c09-c2a053765564\")>,\n",
       " <selenium.webdriver.remote.webelement.WebElement (session=\"a7518bc87238f4191702a2b85b3127db\", element=\"fe576c23-63b6-4b6b-b493-5bf5dfacc574\")>,\n",
       " <selenium.webdriver.remote.webelement.WebElement (session=\"a7518bc87238f4191702a2b85b3127db\", element=\"21caee85-6a37-41d1-930e-1e51aeeba36e\")>,\n",
       " <selenium.webdriver.remote.webelement.WebElement (session=\"a7518bc87238f4191702a2b85b3127db\", element=\"24e7c3b6-815c-4b5f-a997-8a0b19cbb937\")>,\n",
       " <selenium.webdriver.remote.webelement.WebElement (session=\"a7518bc87238f4191702a2b85b3127db\", element=\"76dcf45d-d4a3-47b9-886d-65a0fa4b8bef\")>,\n",
       " <selenium.webdriver.remote.webelement.WebElement (session=\"a7518bc87238f4191702a2b85b3127db\", element=\"b8567db0-910a-4143-9521-3a9c3266788b\")>,\n",
       " <selenium.webdriver.remote.webelement.WebElement (session=\"a7518bc87238f4191702a2b85b3127db\", element=\"4fb1ce2f-9fab-415f-a654-bbcb9b356b07\")>,\n",
       " <selenium.webdriver.remote.webelement.WebElement (session=\"a7518bc87238f4191702a2b85b3127db\", element=\"95e6aec1-a030-4a54-8a3f-2cf385ba6bd2\")>,\n",
       " <selenium.webdriver.remote.webelement.WebElement (session=\"a7518bc87238f4191702a2b85b3127db\", element=\"948d47a4-2704-4aef-a9af-9ab644b8ba06\")>,\n",
       " <selenium.webdriver.remote.webelement.WebElement (session=\"a7518bc87238f4191702a2b85b3127db\", element=\"313df22b-23e2-4ab1-93f2-725387740be1\")>,\n",
       " <selenium.webdriver.remote.webelement.WebElement (session=\"a7518bc87238f4191702a2b85b3127db\", element=\"864daea7-4d29-47df-b33e-4b88500e3207\")>,\n",
       " <selenium.webdriver.remote.webelement.WebElement (session=\"a7518bc87238f4191702a2b85b3127db\", element=\"7933ec04-e306-49c8-87aa-d6aeb2083b9b\")>,\n",
       " <selenium.webdriver.remote.webelement.WebElement (session=\"a7518bc87238f4191702a2b85b3127db\", element=\"d8e4c9a2-9926-4abc-a991-8d9ff045cf89\")>,\n",
       " <selenium.webdriver.remote.webelement.WebElement (session=\"a7518bc87238f4191702a2b85b3127db\", element=\"646eb642-3322-482e-8117-6d010253f485\")>,\n",
       " <selenium.webdriver.remote.webelement.WebElement (session=\"a7518bc87238f4191702a2b85b3127db\", element=\"b7a77ed2-0f15-4fd9-b80b-d49c3a11b27f\")>,\n",
       " <selenium.webdriver.remote.webelement.WebElement (session=\"a7518bc87238f4191702a2b85b3127db\", element=\"67a028e9-f42f-4abd-b1e8-aab079176d79\")>,\n",
       " <selenium.webdriver.remote.webelement.WebElement (session=\"a7518bc87238f4191702a2b85b3127db\", element=\"a4081324-4ad8-44d3-96d5-30810e36b261\")>,\n",
       " <selenium.webdriver.remote.webelement.WebElement (session=\"a7518bc87238f4191702a2b85b3127db\", element=\"4af08f51-860c-4601-94d2-aee1b57f8d22\")>,\n",
       " <selenium.webdriver.remote.webelement.WebElement (session=\"a7518bc87238f4191702a2b85b3127db\", element=\"ddcd6ecd-f708-4e62-864a-109e8d2c8c7f\")>,\n",
       " <selenium.webdriver.remote.webelement.WebElement (session=\"a7518bc87238f4191702a2b85b3127db\", element=\"3145764a-33f2-4ae4-ad38-a793f4d68f0d\")>,\n",
       " <selenium.webdriver.remote.webelement.WebElement (session=\"a7518bc87238f4191702a2b85b3127db\", element=\"a84c762e-f896-4248-ba73-f6493c9a1ed8\")>,\n",
       " <selenium.webdriver.remote.webelement.WebElement (session=\"a7518bc87238f4191702a2b85b3127db\", element=\"0f7e5255-36bc-45e8-91e0-a6905c0460d6\")>,\n",
       " <selenium.webdriver.remote.webelement.WebElement (session=\"a7518bc87238f4191702a2b85b3127db\", element=\"d3c735ac-94c5-4dfc-b489-a0880b80ed2a\")>,\n",
       " <selenium.webdriver.remote.webelement.WebElement (session=\"a7518bc87238f4191702a2b85b3127db\", element=\"a5a6b23c-b6dc-499d-b66b-65713b3743cf\")>,\n",
       " <selenium.webdriver.remote.webelement.WebElement (session=\"a7518bc87238f4191702a2b85b3127db\", element=\"2fb35e1e-ab2f-49b5-ac9c-ca9bac4c2b70\")>,\n",
       " <selenium.webdriver.remote.webelement.WebElement (session=\"a7518bc87238f4191702a2b85b3127db\", element=\"d3189843-ee2c-4df1-ac67-3e9af71b44e7\")>,\n",
       " <selenium.webdriver.remote.webelement.WebElement (session=\"a7518bc87238f4191702a2b85b3127db\", element=\"5ef2beed-d7e0-4791-a7fd-9ed09c473ac8\")>,\n",
       " <selenium.webdriver.remote.webelement.WebElement (session=\"a7518bc87238f4191702a2b85b3127db\", element=\"86b73aac-6405-435b-b6f4-431f2b9b3368\")>,\n",
       " <selenium.webdriver.remote.webelement.WebElement (session=\"a7518bc87238f4191702a2b85b3127db\", element=\"9a601b84-9a61-449c-8991-8d4f4f47436f\")>,\n",
       " <selenium.webdriver.remote.webelement.WebElement (session=\"a7518bc87238f4191702a2b85b3127db\", element=\"75f587f2-dc5d-4d23-95ca-6634667ef25e\")>,\n",
       " <selenium.webdriver.remote.webelement.WebElement (session=\"a7518bc87238f4191702a2b85b3127db\", element=\"5de82cb0-bff8-4a6d-a085-63607f9a4b7d\")>,\n",
       " <selenium.webdriver.remote.webelement.WebElement (session=\"a7518bc87238f4191702a2b85b3127db\", element=\"07c69834-92a3-4d9e-81df-e909fe1eb53f\")>,\n",
       " <selenium.webdriver.remote.webelement.WebElement (session=\"a7518bc87238f4191702a2b85b3127db\", element=\"68e47d2d-a95c-49e6-bbdd-978ae7d86de3\")>,\n",
       " <selenium.webdriver.remote.webelement.WebElement (session=\"a7518bc87238f4191702a2b85b3127db\", element=\"6aadd68b-b516-45b0-92b7-803a1b897f70\")>,\n",
       " <selenium.webdriver.remote.webelement.WebElement (session=\"a7518bc87238f4191702a2b85b3127db\", element=\"e54e94f9-8bf0-4011-bb06-3a3980d76b3e\")>,\n",
       " <selenium.webdriver.remote.webelement.WebElement (session=\"a7518bc87238f4191702a2b85b3127db\", element=\"229a046c-0822-4fc7-87fc-f1fa5192f7ca\")>,\n",
       " <selenium.webdriver.remote.webelement.WebElement (session=\"a7518bc87238f4191702a2b85b3127db\", element=\"874a7beb-eeca-47f0-b210-4f10875a79f9\")>,\n",
       " <selenium.webdriver.remote.webelement.WebElement (session=\"a7518bc87238f4191702a2b85b3127db\", element=\"b8beeae5-d13d-45bc-a9a8-251b4e38f865\")>,\n",
       " <selenium.webdriver.remote.webelement.WebElement (session=\"a7518bc87238f4191702a2b85b3127db\", element=\"780a47d8-483e-471e-9bfd-428ea3d06866\")>]"
      ]
     },
     "execution_count": 44,
     "metadata": {},
     "output_type": "execute_result"
    }
   ],
   "source": [
    "elem = browser.find_elements_by_tag_name(\"a\")\n",
    "elem"
   ]
  },
  {
   "cell_type": "code",
   "execution_count": 45,
   "metadata": {},
   "outputs": [],
   "source": [
    "for e in elem:\n",
    "    e.get_attribute(\"href\")"
   ]
  },
  {
   "cell_type": "code",
   "execution_count": 46,
   "metadata": {},
   "outputs": [],
   "source": [
    "browser.get(\"http://daum.net\")"
   ]
  },
  {
   "cell_type": "code",
   "execution_count": 51,
   "metadata": {},
   "outputs": [
    {
     "name": "stderr",
     "output_type": "stream",
     "text": [
      "<ipython-input-51-5797a5af0a3a>:1: DeprecationWarning: find_element_by_* commands are deprecated. Please use find_element() instead\n",
      "  elem = browser.find_element_by_name(\"q\")\n"
     ]
    },
    {
     "data": {
      "text/plain": [
       "<selenium.webdriver.remote.webelement.WebElement (session=\"a7518bc87238f4191702a2b85b3127db\", element=\"5888f74f-1f05-411a-8883-2bb6ba09acf3\")>"
      ]
     },
     "execution_count": 51,
     "metadata": {},
     "output_type": "execute_result"
    }
   ],
   "source": [
    "elem = browser.find_element_by_name(\"q\")\n",
    "elem"
   ]
  },
  {
   "cell_type": "code",
   "execution_count": 52,
   "metadata": {},
   "outputs": [
    {
     "name": "stderr",
     "output_type": "stream",
     "text": [
      "<ipython-input-52-9fd7dd3b1b8f>:2: DeprecationWarning: find_element_by_* commands are deprecated. Please use find_element() instead\n",
      "  elem = browser.find_element_by_xpath(\"//*[@id='daumSearch']/fieldset/div/div/button[2]\")\n"
     ]
    },
    {
     "data": {
      "text/plain": [
       "<selenium.webdriver.remote.webelement.WebElement (session=\"a7518bc87238f4191702a2b85b3127db\", element=\"15ab3639-59c6-4e0f-93b9-dfb94acb0fd6\")>"
      ]
     },
     "execution_count": 52,
     "metadata": {},
     "output_type": "execute_result"
    }
   ],
   "source": [
    "elem.send_keys(\"나도코딩\")\n",
    "elem = browser.find_element_by_xpath(\"//*[@id='daumSearch']/fieldset/div/div/button[2]\")\n",
    "elem"
   ]
  },
  {
   "cell_type": "code",
   "execution_count": 53,
   "metadata": {},
   "outputs": [],
   "source": [
    "elem.click()"
   ]
  },
  {
   "cell_type": "code",
   "execution_count": 54,
   "metadata": {},
   "outputs": [],
   "source": [
    "browser.quit()"
   ]
  },
  {
   "cell_type": "code",
   "execution_count": null,
   "metadata": {},
   "outputs": [],
   "source": []
  }
 ],
 "metadata": {
  "interpreter": {
   "hash": "b3ba2566441a7c06988d0923437866b63cedc61552a5af99d1f4fb67d367b25f"
  },
  "kernelspec": {
   "display_name": "Python 3.8.8 ('base')",
   "language": "python",
   "name": "python3"
  },
  "language_info": {
   "codemirror_mode": {
    "name": "ipython",
    "version": 3
   },
   "file_extension": ".py",
   "mimetype": "text/x-python",
   "name": "python",
   "nbconvert_exporter": "python",
   "pygments_lexer": "ipython3",
   "version": "3.8.8"
  },
  "orig_nbformat": 4
 },
 "nbformat": 4,
 "nbformat_minor": 2
}
