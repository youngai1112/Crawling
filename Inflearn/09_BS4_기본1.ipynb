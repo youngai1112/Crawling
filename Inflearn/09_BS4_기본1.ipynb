{
 "cells": [
  {
   "cell_type": "code",
   "execution_count": 1,
   "metadata": {},
   "outputs": [
    {
     "name": "stdout",
     "output_type": "stream",
     "text": [
      "Requirement already satisfied: beautifulsoup4 in c:\\programdata\\anaconda3\\lib\\site-packages (4.6.0)\n",
      "Note: you may need to restart the kernel to use updated packages.\n"
     ]
    }
   ],
   "source": [
    "# 스크래핑에 필요한 패키지 설치\n",
    "pip install beautifulsoup4"
   ]
  },
  {
   "cell_type": "code",
   "execution_count": 2,
   "metadata": {},
   "outputs": [
    {
     "name": "stdout",
     "output_type": "stream",
     "text": [
      "Requirement already satisfied: lxml in c:\\programdata\\anaconda3\\lib\\site-packages (4.6.3)\n",
      "Note: you may need to restart the kernel to use updated packages.\n"
     ]
    }
   ],
   "source": [
    "# 구문을 분석하기 위한 패키지 설치\n",
    "pip install lxml"
   ]
  },
  {
   "cell_type": "code",
   "execution_count": 9,
   "metadata": {},
   "outputs": [
    {
     "name": "stdout",
     "output_type": "stream",
     "text": [
      "soup.title: <title>네이버 만화 &gt; 요일별  웹툰 &gt; 전체웹툰</title>\n",
      "\n",
      "soup.title.get_text(): 네이버 만화 > 요일별  웹툰 > 전체웹툰\n",
      "\n",
      "soup.a: <a href=\"#menu\" onclick=\"document.getElementById('menu').tabIndex=-1;document.getElementById('menu').focus();return false;\"><span>메인 메뉴로 바로가기</span></a>\n",
      "\n",
      "soup.a.attrs: {'href': '#menu', 'onclick': \"document.getElementById('menu').tabIndex=-1;document.getElementById('menu').focus();return false;\"}\n",
      "\n",
      "soup.a[\"href\"]: #menu\n"
     ]
    }
   ],
   "source": [
    "import requests\n",
    "from bs4 import BeautifulSoup\n",
    "\n",
    "url = \"https://comic.naver.com/webtoon/weekday\"\n",
    "res = requests.get(url)\n",
    "res.raise_for_status()  # 문제가 발생한다면 프로그램 종료\n",
    "\n",
    "# BeautifulSoup(html 문서값, \"lxml\")\n",
    "#   html문서를 \"lxml\" 파서를 통해서 BeautifulSoup 객체로 만든 것 \n",
    "# soup은 우리가 가져온 html의 모든 정보를 가지고 있다.\n",
    "soup = BeautifulSoup(res.text, \"lxml\")\n",
    "\n",
    "# 타이틀 정보를 받아옴\n",
    "# soup 객체를 통해서 soup 객체 밑에 있는 html 정보에 접근이 가능\n",
    "# soup.태그명 -> \"해당 태그에 대한 정보를 뿌려줘\"\n",
    "print(f'soup.title: {soup.title}')   \n",
    "print()\n",
    "# title에 있는 글자만 추출\n",
    "print(f'soup.title.get_text(): {soup.title.get_text()}')\n",
    "print()\n",
    "# soup 객체에서 처음 발견되는 a element 출력\n",
    "print(f'soup.a: {soup.a}')\n",
    "print()\n",
    "# soup.태그명.어트리뷰트명\n",
    "# a element의 속성 정보 출력\n",
    "print(f'soup.a.attrs: {soup.a.attrs}')\n",
    "print()\n",
    "# soup.태그명[\"특정 어트리뷰트명\"]\n",
    "# a element의 href 속성 '값' 정보를 추출\n",
    "print(f'soup.a[\"href\"]: {soup.a[\"href\"]}')"
   ]
  },
  {
   "cell_type": "code",
   "execution_count": 12,
   "metadata": {},
   "outputs": [
    {
     "name": "stdout",
     "output_type": "stream",
     "text": [
      "<a class=\"Nbtn_upload\" href=\"/mypage/myActivity\" onclick=\"nclk_v2(event,'olk.upload');\">웹툰 올리기</a>\n",
      "\n",
      "<a class=\"Nbtn_upload\" href=\"/mypage/myActivity\" onclick=\"nclk_v2(event,'olk.upload');\">웹툰 올리기</a>\n"
     ]
    }
   ],
   "source": [
    "# soup 객체에서 find 함수를 이용한다면, 함수안에서 해당하는 값중에 처음으로 발견되는 엘리먼트를 가져올 수 있다.\n",
    "# html 전체 > a 태그 > class > \"Nbtn_upload\"\n",
    "\n",
    "# class=\"Nbtn_upload\"인 a element를 찾아줘\n",
    "print(soup.find(\"a\", attrs={\"class\":\"Nbtn_upload\"}))\n",
    "print()\n",
    "# class=\"Nbtn_upload\"인 어떤 element를 찾아줘\n",
    "print(soup.find(attrs={\"class\":\"Nbtn_upload\"}))"
   ]
  },
  {
   "cell_type": "code",
   "execution_count": 27,
   "metadata": {},
   "outputs": [
    {
     "name": "stdout",
     "output_type": "stream",
     "text": [
      "<li class=\"rank01\">\n",
      "<a href=\"/webtoon/detail?titleId=597447&amp;no=429\" onclick=\"nclk_v2(event,'rnk*p.cont','597447','1')\" title=\"프리드로우-제426화 임재익 근황 (1) \">프리드로우-제426화 임재익 근황 (1)</a>\n",
      "<span class=\"rankBox\">\n",
      "<img alt=\"변동없음\" height=\"10\" src=\"https://ssl.pstatic.net/static/comic/images/migration/common/arrow_no.gif\" title=\"변동없음\" width=\"7\"/> 0\n",
      "\t\t\t\t\t\t\n",
      "\t\t\t\t\t\n",
      "\t\t\t\t</span>\n",
      "</li>\n"
     ]
    }
   ],
   "source": [
    "print(soup.find(\"li\", attrs={\"class\":\"rank01\"}))"
   ]
  },
  {
   "cell_type": "code",
   "execution_count": 26,
   "metadata": {},
   "outputs": [
    {
     "name": "stdout",
     "output_type": "stream",
     "text": [
      "<a href=\"/webtoon/detail?titleId=597447&amp;no=429\" onclick=\"nclk_v2(event,'rnk*p.cont','597447','1')\" title=\"프리드로우-제426화 임재익 근황 (1) \">프리드로우-제426화 임재익 근황 (1)</a>\n"
     ]
    }
   ],
   "source": [
    "rank1 = soup.find(\"li\", attrs={\"class\":\"rank01\"})\n",
    "print(rank1.a)"
   ]
  },
  {
   "cell_type": "code",
   "execution_count": null,
   "metadata": {},
   "outputs": [],
   "source": []
  }
 ],
 "metadata": {
  "interpreter": {
   "hash": "b3ba2566441a7c06988d0923437866b63cedc61552a5af99d1f4fb67d367b25f"
  },
  "kernelspec": {
   "display_name": "Python 3.8.8 ('base')",
   "language": "python",
   "name": "python3"
  },
  "language_info": {
   "codemirror_mode": {
    "name": "ipython",
    "version": 3
   },
   "file_extension": ".py",
   "mimetype": "text/x-python",
   "name": "python",
   "nbconvert_exporter": "python",
   "pygments_lexer": "ipython3",
   "version": "3.8.8"
  },
  "orig_nbformat": 4
 },
 "nbformat": 4,
 "nbformat_minor": 2
}
