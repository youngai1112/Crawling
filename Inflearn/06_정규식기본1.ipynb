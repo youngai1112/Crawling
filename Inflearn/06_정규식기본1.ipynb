{
 "cells": [
  {
   "cell_type": "code",
   "execution_count": 6,
   "metadata": {},
   "outputs": [],
   "source": [
    "# 정규식 라이브러리 임포트\n",
    "import re"
   ]
  },
  {
   "cell_type": "markdown",
   "metadata": {},
   "source": [
    "## 정규식 표현\n",
    "- 예를 들어, ca?e -> care, cafe, case, cave,... 경우의 수가 많아짐\n",
    "- `.` : 하나의 문자를 의미 \n",
    "    - `ca.e`로 표현\n",
    "    - care, cafe, case => O, caffe => X\n",
    "- `^` : 문자열의 시작\n",
    "    - `^de` : de로 시작하는 단어들\n",
    "    - desk, destination => O, fade => X\n",
    "- `$` : 문자열의 끝\n",
    "    - `se$` : se로 끝나는 단어들\n",
    "    - case, base => O, face => X"
   ]
  },
  {
   "cell_type": "code",
   "execution_count": 7,
   "metadata": {},
   "outputs": [],
   "source": [
    "# 패턴을 찾기 위한 정규식\n",
    "p = re.compile(\"ca.e\")  "
   ]
  },
  {
   "cell_type": "code",
   "execution_count": 8,
   "metadata": {},
   "outputs": [
    {
     "name": "stdout",
     "output_type": "stream",
     "text": [
      "case\n"
     ]
    }
   ],
   "source": [
    "# 정규식에 매칭되는지 확인\n",
    "# case로 출력이 된다면, case라는 단어가 정규식에 매칭되어 그 내용을 출력해주었음을 의미 \n",
    "m = p.match(\"case\")\n",
    "print(m.group())"
   ]
  },
  {
   "cell_type": "code",
   "execution_count": 9,
   "metadata": {},
   "outputs": [
    {
     "ename": "AttributeError",
     "evalue": "'NoneType' object has no attribute 'group'",
     "output_type": "error",
     "traceback": [
      "\u001b[1;31m---------------------------------------------------------------------------\u001b[0m",
      "\u001b[1;31mAttributeError\u001b[0m                            Traceback (most recent call last)",
      "\u001b[1;32m<ipython-input-9-ae076858294d>\u001b[0m in \u001b[0;36m<module>\u001b[1;34m\u001b[0m\n\u001b[0;32m      1\u001b[0m \u001b[1;31m# 매치가 되지 않으면 에러 발생\u001b[0m\u001b[1;33m\u001b[0m\u001b[1;33m\u001b[0m\u001b[1;33m\u001b[0m\u001b[0m\n\u001b[0;32m      2\u001b[0m \u001b[0mm\u001b[0m \u001b[1;33m=\u001b[0m \u001b[0mp\u001b[0m\u001b[1;33m.\u001b[0m\u001b[0mmatch\u001b[0m\u001b[1;33m(\u001b[0m\u001b[1;34m\"caffe\"\u001b[0m\u001b[1;33m)\u001b[0m\u001b[1;33m\u001b[0m\u001b[1;33m\u001b[0m\u001b[0m\n\u001b[1;32m----> 3\u001b[1;33m \u001b[0mprint\u001b[0m\u001b[1;33m(\u001b[0m\u001b[0mm\u001b[0m\u001b[1;33m.\u001b[0m\u001b[0mgroup\u001b[0m\u001b[1;33m(\u001b[0m\u001b[1;33m)\u001b[0m\u001b[1;33m)\u001b[0m\u001b[1;33m\u001b[0m\u001b[1;33m\u001b[0m\u001b[0m\n\u001b[0m",
      "\u001b[1;31mAttributeError\u001b[0m: 'NoneType' object has no attribute 'group'"
     ]
    }
   ],
   "source": [
    "# 매치가 되지 않으면 에러 발생\n",
    "m = p.match(\"caffe\")\n",
    "print(m.group())"
   ]
  },
  {
   "cell_type": "code",
   "execution_count": 10,
   "metadata": {},
   "outputs": [
    {
     "name": "stdout",
     "output_type": "stream",
     "text": [
      "매칭되지 않음\n"
     ]
    }
   ],
   "source": [
    "# 매치가 되었을 경우에만 출력\n",
    "if m:\n",
    "    print(m.group())\n",
    "else:\n",
    "    print(\"매칭되지 않음\")\n"
   ]
  },
  {
   "cell_type": "code",
   "execution_count": 19,
   "metadata": {},
   "outputs": [
    {
     "name": "stdout",
     "output_type": "stream",
     "text": [
      "m.group():  case\n",
      "m.string: case\n",
      "m.start():  0\n",
      "m.end():  4\n",
      "m.span():  (0, 4)\n"
     ]
    }
   ],
   "source": [
    "def print_match(m):\n",
    "    if m:\n",
    "        print(\"m.group(): \", m.group()) # 일치하는 문자열 반환\n",
    "        print(\"m.string:\", m.string)    # 입력받은 문자열 반환, string은 함수가 아니라 변수이므로 () 없음\n",
    "        print(\"m.start(): \", m.start()) # 일치하는 문자열의 시작 index\n",
    "        print(\"m.end(): \", m.end())     # 일치하는 문자열의 끝 인덱스\n",
    "        print(\"m.span(): \", m.span())   # 일치하는 문자열의 시작 / 끝 index\n",
    "    else:\n",
    "        print(\"매칭되지 않음\")\n",
    "\n",
    "m = p.match(\"case\")\n",
    "print_match(m)"
   ]
  },
  {
   "cell_type": "code",
   "execution_count": 12,
   "metadata": {},
   "outputs": [
    {
     "name": "stdout",
     "output_type": "stream",
     "text": [
      "care\n"
     ]
    }
   ],
   "source": [
    "m = p.match(\"care\")\n",
    "print_match(m)"
   ]
  },
  {
   "cell_type": "code",
   "execution_count": 13,
   "metadata": {},
   "outputs": [
    {
     "name": "stdout",
     "output_type": "stream",
     "text": [
      "매칭되지 않음\n"
     ]
    }
   ],
   "source": [
    "m = p.match(\"good care\")\n",
    "print_match(m)"
   ]
  },
  {
   "cell_type": "code",
   "execution_count": 14,
   "metadata": {},
   "outputs": [
    {
     "name": "stdout",
     "output_type": "stream",
     "text": [
      "care\n"
     ]
    }
   ],
   "source": [
    "# match: 주어진 문자열의 처음부터 일치하는지 확인\n",
    "m = p.match(\"careless\")\n",
    "print_match(m)"
   ]
  },
  {
   "cell_type": "code",
   "execution_count": 15,
   "metadata": {},
   "outputs": [
    {
     "name": "stdout",
     "output_type": "stream",
     "text": [
      "care\n"
     ]
    }
   ],
   "source": [
    "# search: 주어진 문자열 중에 일치히는게 있는지 확인\n",
    "m = p.search(\"good care\")\n",
    "print_match(m)"
   ]
  },
  {
   "cell_type": "code",
   "execution_count": 20,
   "metadata": {},
   "outputs": [
    {
     "name": "stdout",
     "output_type": "stream",
     "text": [
      "m.group():  care\n",
      "m.string: careless\n",
      "m.start():  0\n",
      "m.end():  4\n",
      "m.span():  (0, 4)\n"
     ]
    }
   ],
   "source": [
    "# 단어 split 등을 적용해서 분리할 때 적용해도 되지 않을까? 싶음\n",
    "m = p.search(\"careless\")\n",
    "print_match(m)"
   ]
  },
  {
   "cell_type": "code",
   "execution_count": 21,
   "metadata": {},
   "outputs": [
    {
     "name": "stdout",
     "output_type": "stream",
     "text": [
      "m.group():  care\n",
      "m.string: good care\n",
      "m.start():  5\n",
      "m.end():  9\n",
      "m.span():  (5, 9)\n"
     ]
    }
   ],
   "source": [
    "m = p.search(\"good care\")\n",
    "print_match(m)"
   ]
  },
  {
   "cell_type": "code",
   "execution_count": 22,
   "metadata": {},
   "outputs": [
    {
     "name": "stdout",
     "output_type": "stream",
     "text": [
      "['care']\n"
     ]
    }
   ],
   "source": [
    "# findall : 일치하는 모든 것을 리스트 형태로 반환\n",
    "lst = p.findall(\"careless\")\n",
    "print(lst)"
   ]
  },
  {
   "cell_type": "code",
   "execution_count": 23,
   "metadata": {},
   "outputs": [
    {
     "name": "stdout",
     "output_type": "stream",
     "text": [
      "['care']\n"
     ]
    }
   ],
   "source": [
    "lst = p.findall(\"good care\")\n",
    "print(lst)"
   ]
  },
  {
   "cell_type": "code",
   "execution_count": 24,
   "metadata": {},
   "outputs": [
    {
     "name": "stdout",
     "output_type": "stream",
     "text": [
      "['care', 'cafe']\n"
     ]
    }
   ],
   "source": [
    "lst = p.findall(\"good care cafe\")\n",
    "print(lst)"
   ]
  }
 ],
 "metadata": {
  "interpreter": {
   "hash": "b3ba2566441a7c06988d0923437866b63cedc61552a5af99d1f4fb67d367b25f"
  },
  "kernelspec": {
   "display_name": "Python 3.8.8 ('base')",
   "language": "python",
   "name": "python3"
  },
  "language_info": {
   "codemirror_mode": {
    "name": "ipython",
    "version": 3
   },
   "file_extension": ".py",
   "mimetype": "text/x-python",
   "name": "python",
   "nbconvert_exporter": "python",
   "pygments_lexer": "ipython3",
   "version": "3.8.8"
  },
  "orig_nbformat": 4
 },
 "nbformat": 4,
 "nbformat_minor": 2
}
