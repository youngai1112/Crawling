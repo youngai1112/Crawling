{
 "cells": [
  {
   "cell_type": "markdown",
   "metadata": {},
   "source": [
    "## chrome\n",
    "- XPath 경로 찾기에 최적화된 브라우저\n",
    "- 개발자 도구: 우클릭 > 검사 또는 F12\n",
    "    - 선택한 element에 대한 위치가 html 문서상에 표시\n",
    "    - 화면에 표시되는 부분이 어느 element에 해당하는지 알 수 있다.\n",
    "- XPath를 찾고 싶을 때: 특정 엘리먼트를 우클릭 > Copy > XPath > 원하는 곳에 붙여넣기"
   ]
  },
  {
   "cell_type": "markdown",
   "metadata": {},
   "source": []
  }
 ],
 "metadata": {
  "language_info": {
   "name": "python"
  },
  "orig_nbformat": 4
 },
 "nbformat": 4,
 "nbformat_minor": 2
}
