{
 "cells": [
  {
   "cell_type": "code",
   "execution_count": 5,
   "metadata": {},
   "outputs": [
    {
     "name": "stdout",
     "output_type": "stream",
     "text": [
      "9.98\n",
      "9.97\n",
      "9.97\n",
      "9.97\n",
      "9.98\n",
      "9.98\n",
      "9.98\n",
      "9.97\n",
      "9.98\n",
      "9.98\n",
      "전체 점수:  99.76000000000002\n",
      "평균 점수:  9.976000000000003\n"
     ]
    }
   ],
   "source": [
    "import requests\n",
    "from bs4 import BeautifulSoup\n",
    "\n",
    "url = \"https://comic.naver.com/webtoon/list?titleId=748105&weekday=sun\"\n",
    "res = requests.get(url)\n",
    "res.raise_for_status()\n",
    "\n",
    "soup = BeautifulSoup(res.text, \"lxml\")\n",
    "\n",
    "# 평점 구하기\n",
    "total_rates = 0\n",
    "cartoons = soup.find_all(\"div\", attrs={\"class\":\"rating_type\"})\n",
    "for cartoon in cartoons:\n",
    "    rate = cartoon.find(\"strong\").get_text()\n",
    "    print(rate)\n",
    "    total_rates += float(rate)\n",
    "print(\"전체 점수: \", total_rates)\n",
    "print(\"평균 점수: \", total_rates / len(cartoons))\n"
   ]
  },
  {
   "cell_type": "code",
   "execution_count": null,
   "metadata": {},
   "outputs": [],
   "source": []
  }
 ],
 "metadata": {
  "interpreter": {
   "hash": "b3ba2566441a7c06988d0923437866b63cedc61552a5af99d1f4fb67d367b25f"
  },
  "kernelspec": {
   "display_name": "Python 3.8.8 ('base')",
   "language": "python",
   "name": "python3"
  },
  "language_info": {
   "codemirror_mode": {
    "name": "ipython",
    "version": 3
   },
   "file_extension": ".py",
   "mimetype": "text/x-python",
   "name": "python",
   "nbconvert_exporter": "python",
   "pygments_lexer": "ipython3",
   "version": "3.8.8"
  },
  "orig_nbformat": 4
 },
 "nbformat": 4,
 "nbformat_minor": 2
}
