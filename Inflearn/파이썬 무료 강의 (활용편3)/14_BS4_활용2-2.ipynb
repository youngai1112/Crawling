{
 "cells": [
  {
   "cell_type": "code",
   "execution_count": 1,
   "metadata": {},
   "outputs": [
    {
     "name": "stdout",
     "output_type": "stream",
     "text": [
      "2367326\n"
     ]
    }
   ],
   "source": [
    "import requests\n",
    "from bs4 import BeautifulSoup\n",
    "\n",
    "url = \"https://browse.gmarket.co.kr/search?keyword=%EB%85%B8%ED%8A%B8%EB%B6%81&k=32&p=1\"\n",
    "res = requests.get(url)\n",
    "res.raise_for_status()\n",
    "\n",
    "soup = BeautifulSoup(res.text, \"lxml\")\n",
    "print(len(res.text))"
   ]
  },
  {
   "cell_type": "code",
   "execution_count": 11,
   "metadata": {},
   "outputs": [
    {
     "name": "stdout",
     "output_type": "stream",
     "text": [
      " 갤럭시북 프로360 NT950QDB-K71A 특가159만 사은품증정  1,949,000 만족도 96% 입니다.\n",
      " 갤럭시북 프로 NT950XDC-X71A 특가149만+SSD256G  1,849,000 만족도 92% 입니다.\n",
      " 프로듀오 UX581LV-H2030TS OLED 고사양 터치노트북  3,299,000 만족도 96% 입니다.\n",
      " 그램 16Z95P-GA76K 노트북 특가195만대 i7/16/512/윈11  2,329,000 만족도 92% 입니다.\n",
      " 서피스북3 15in i7 16GB 256GB GTX1660 TI  2,427,200 만족도 80% 입니다.\n",
      " LG전자 울트라PC 13UD70Q-GX50K 카할포함 특가 79만  1,069,000 만족도 80% 입니다.\n",
      " 삼성 6세대 노트북9 metal NT901X5L I5 6200U 8G 256G  484,560 평점 없음\n",
      " G5 GD GEN11 i5 인텔11세대 RTX3050 게이밍 특.가103만  1,249,000 만족도 86% 입니다.\n",
      " ThinkBook 14 G3 ACL-21A2000BKR 특가59/메모리사은품  748,740 만족도 96% 입니다.\n",
      " LG그램 2022 17Z95P-GA76K 빅세일특가 최대 29% 192만  2,299,000 만족도 98% 입니다.\n",
      " LG그램 2022 17ZD95P-GX56K 빅세일특가 최대 29% 145만  1,849,000 만족도 98% 입니다.\n",
      " 울트라PC 14U390-ME1TK ZOOM수업 화상회의 Win10 HOME  387,150 만족도 92% 입니다.\n",
      " 인텔i7 17인치 노트북 PC 리퍼/가성비/경량  1,444,190 만족도 88% 입니다.\n",
      " 14ZD95P-GX50K / 2022 신모델 인텔i5 고성능 노트북  1,439,000 만족도 94% 입니다.\n",
      " 그램 16ZD95P-GX50K 노트북 혜택가 118만 i5/8GB/256GB  1,539,000 만족도 96% 입니다.\n",
      " 울트라PC 17UD70P-GX56K 특가101만 노트북i5/8GB/256GB  1,329,000 만족도 100% 입니다.\n",
      " 그램360 16TD90P-GX7DK 노트북 특가165만 i7/16/256  2,049,000 만족도 90% 입니다.\n",
      " Lenovo V14 GEN2 82KC0011KR 특가40만 R5/메모리사은품  511,230 만족도 90% 입니다.\n",
      " 게이밍/사무용노트북 i3-6세대/8G/SSD128G/윈도우10  371,420 만족도 80% 입니다.\n",
      " 갤럭시북 프로 NT930XDY-A51A 빅특가99만  1,269,000 만족도 94% 입니다.\n",
      "  안테나샵  15 슬림-와이드 노트북 가방 5컬러택 1  48,650 평점 없음\n",
      " 아이디어패드 L3-15ITL i5 빅세일 44만 한컴2020 증정  612,000 만족도 94% 입니다.\n",
      " LG울트라PC 15U50P-KA7DK   최종132만 윈도우11탑재  1,699,000 평점 없음\n",
      " 15UD50P-GX30K 인텔 i3 학생용 가성비 노트북  779,000 만족도 60% 입니다.\n",
      " 15U40Q-GA76K 2022 신모델 윈도우11탑재 5700U 고성능  1,369,000 만족도 90% 입니다.\n",
      " 노트북 플러스2 NT550XDZ-AD5A 전회원 54만원 구매가능  697,000 만족도 96% 입니다.\n",
      " 그램17 17ZD90P-GX5SK 역대급특가 129만 대화면 노트북  1,789,000 만족도 94% 입니다.\n",
      " 갤럭시북 프로 NT950XDY-A51A 특가99만 램16G 노트북  1,349,000 만족도 96% 입니다.\n",
      " 갤럭시북 NT750XDZ-A51A 최종74만 1.55kg 15인치  959,000 만족도 94% 입니다.\n",
      " 그램15 15ZD95N-GX56K 빅세일특가 109만 16G램 노트북  1,439,000 만족도 92% 입니다.\n",
      " ASUS K3500PC-KJ153 재고확보84만i5-11300H/16G/3050  1,099,000 만족도 94% 입니다.\n",
      " LG 그램15 15ZD95N-GX56K 실구매 109만/램16GB  1,439,000 만족도 94% 입니다.\n",
      " UM325SA-KG084 빅세일특가 최종68만 삼성OLED  899,000 만족도 98% 입니다.\n",
      " 레노버 아이디어패드 Slim3 14ALC R5 DOS 베이지 41만  537,540 만족도 96% 입니다.\n",
      " 노트북 플러스2 NT550XDA-K78A 가성비 혜택가:87만원  1,099,000 만족도 94% 입니다.\n",
      " 갤럭시북 프로360 NT950QDB-K71A 최종164만 2in1  1,999,000 만족도 96% 입니다.\n",
      " 14s-fq1069AU 특가49만 라이젠 R7 FHD 가성비 노트북  665,590 만족도 90% 입니다.\n",
      " Inspiron15 5510 DN5510-UB02KR 한정특가79만 i7/MX450  1,081,470 만족도 98% 입니다.\n",
      " ASUS 노트북 D515UA-BQ022 루시엔R5/SSD256G/8G/빅세일  582,050 만족도 94% 입니다.\n",
      " 비보북 Pro 15 OLED M3500QC-L1085 빅세일102만  1,349,000 만족도 94% 입니다.\n",
      " VICTUS 16-d0189TX 특가121만 i7 RTX3060 게이밍노트북  1,719,470 만족도 98% 입니다.\n",
      " LEGION 5 Pro 16ACH R7 STORM 3060/예약판매/최종149만  1,845,000 만족도 88% 입니다.\n",
      " UM425UAZ-KI028 노트북  R7/16GB/한정수량 폭탄할인  999,000 만족도 94% 입니다.\n",
      " ThinkBook 15 G3 ACL세잔-21A4004MKR특가57만 R5 256G  723,750 만족도 96% 입니다.\n",
      " 갤럭시북 NT750XDZ-A71A i7고성능노트북 혜택가:98만원  1,199,000 만족도 96% 입니다.\n",
      " ASUS 젠북 UM325UAZ-KG004 최종62만/OLED/R5/16G/512G  849,000 만족도 92% 입니다.\n",
      " GP66 Leopard 11UG RTX3070 탑재/최종가159만원  1,949,000 만족도 96% 입니다.\n",
      " ROG Flow X13 GV301QE-K6052T 역대급특가156만 터치펜  1,965,000 만족도 98% 입니다.\n",
      " LG울트라PC 15UD40Q-GX50K 실구매 69만/라이젠  890,670 만족도 84% 입니다.\n",
      " ASUS 젠북듀오 UX482EGR-KA377W 초특가 129만 당일출고  1,674,000 만족도 94% 입니다.\n",
      " FX506HM-HN003 인텔11세대 i9 RTX3060 최종 134만  1,741,110 만족도 96% 입니다.\n",
      " SLIM5-15ITL Premiere i5 Plus FreeDos 71만빅스혜택가  889,000 만족도 96% 입니다.\n",
      " ASUS 젠북 14 UX425EA-KI117 노트북 한컴증정/예약판매  949,000 만족도 94% 입니다.\n",
      " ASUS 노트북 M513UA-L1284 OLED/루시엔R5/디지털빅세일  749,000 만족도 96% 입니다.\n",
      " 갤럭시북 프로 NT950XDC-X71A 특가149만+SSD256G  1,849,000 만족도 92% 입니다.\n",
      " SLIM5 Pro 14ACN R5 82L700A2KR/ R5/MX450/ Bigs  996,550 만족도 94% 입니다.\n",
      " ASUS 노트북 D515DA-BQ270 R3/SSD256G//디지털빅세일  391,050 만족도 94% 입니다.\n",
      " X513EA-BQ031 빅세일 최종45만|11세대i5 인기 노트북  642,370 만족도 94% 입니다.\n",
      " LG 그램16 16ZD95P-GX56K 최종134만 신모델 인텔i5 16G  1,729,000 만족도 96% 입니다.\n",
      " 갤럭시북 프로 NT950XDX-G51A 특가:116만 i5 램16G  1,489,000 만족도 92% 입니다.\n",
      " 삼성전자 노트북 플러스2 NT550XDZ-AD3A 최종46만 인강  599,000 만족도 96% 입니다.\n",
      " 젠북 14X OLED UM5401QA-KN029 빅세일특가102만 한컴  1,349,000 만족도 96% 입니다.\n",
      " LG 그램16 16ZD90P-GX5TK 최종126만 인텔i5 16G 256G  1,637,000 만족도 94% 입니다.\n",
      " 그램 16ZD95P-GX50K 노트북 혜택가 118만 i5/8GB/256GB  1,539,000 만족도 96% 입니다.\n",
      " Slim3-17ALC R5 라이젠 노트북 BIG SALE 58만 예약판매  819,280 평점 없음\n",
      " GP76 Leopard 11UG (11세대 i7/RTX3070/144) 빅스167만  1,999,000 만족도 98% 입니다.\n",
      " 갤럭시북 프로360 NT930QDB-K71A 대학생 게이밍노트북  1,869,000 만족도 96% 입니다.\n",
      " 노트북 플러스2 NT550XDA-K14A 화이트 빅세일41만 Win  529,000 만족도 94% 입니다.\n",
      " Inspiron 14 5415 WH01KR /혜택:59만/ 램8G 무상up  809,000 만족도 100% 입니다.\n",
      " 갤럭시북 프로 NT950XDB-K71A 15인치 대학생 인강용  1,699,000 만족도 96% 입니다.\n",
      " OMEN 16-b0092TX 특가164만 i7 RTX3060 Win11 게이밍  2,029,610 만족도 100% 입니다.\n",
      " ASUS TUF FX506HM-HN184 빅세일 최종 111만원대 인텔 i7 8GB RTX3060 512GB 에이수스 게이밍 노트북  1,449,000 만족도 94% 입니다.\n",
      " 갤럭시북 프로360 NT950QDB-K71A 특가159만 사은품증정  1,949,000 만족도 96% 입니다.\n",
      " 울트라PC 15U50P-GR5SK 꿀성비인기노트북  1,259,000 평점 없음\n",
      " Victus 16-e0106AX 노트북 최종95만/한컴/R5/RTX3050Ti  1,260,000 만족도 96% 입니다.\n",
      " 갤럭시북 프로360 NT950QDY-A51A 특가139만+SSD256G  1,689,000 만족도 94% 입니다.\n",
      " 젠북 OLED UX325EA-KG354T 빅특가82만 i7 / Win10 한컴  1,110,810 만족도 98% 입니다.\n",
      " 갤럭시북 프로 NT930XDY-A51A 빅특가99만  1,269,000 만족도 94% 입니다.\n",
      " VICTUS 16-d0186TX 특가99만 i7 RTX3050Ti 게이밍  1,330,000 만족도 100% 입니다.\n",
      " LG그램 2022 신제품 16ZD95P-GX5LK  최종138만 고사양  1,769,000 만족도 88% 입니다.\n",
      " 15-ep1062TX 특가186만 i7 RTX3060 win11 크리에이터  2,187,410 만족도 98% 입니다.\n",
      " 파빌리온 Aero 13-be0176AU 특가59만 R5 가성비노트북  849,560 만족도 100% 입니다.\n",
      " OMEN 16-c0147AX 특가179만 R7 RTX3070 게이밍 노트북  2,095,110 만족도 100% 입니다.\n",
      " OMEN 16-c0145AX 특가109만 R5 RTX3050Ti 게이밍노트북  1,392,440 만족도 100% 입니다.\n",
      " 파빌리온 게이밍 15-dk2088TX 특가109만 i7 RTX3050Ti  1,275,330 만족도 100% 입니다.\n",
      " OMEN 15-ek1053TX 특가169만 i7 RTX3070 Win11 게이밍  2,076,000 만족도 100% 입니다.\n",
      " ASUS 노트북 M513UA-L1251 OLED/R7/SSD512G/ 대박할인  899,000 만족도 96% 입니다.\n",
      " A7 K1 R7 특가129만 라이젠 R7/RTX3060 게이밍 노트북  1,691,380 만족도 88% 입니다.\n",
      " TUF FX506HE-HN010 게이밍 노트북  특가102만 램증정  1,349,000 만족도 96% 입니다.\n",
      " TUF 게이밍 FX516PR-AZ019 최종 149만/당일출고  1,899,000 만족도 94% 입니다.\n",
      " LG그램 2022 신제품 15ZD95P-GX56K  단독123만 역대급  1,599,000 만족도 98% 입니다.\n",
      " LG 그램16 16ZD95P-GX76K 최종157만 신모델 인텔i7 16G  1,969,000 만족도 94% 입니다.\n",
      " 갤럭시북 NT750XDA-X71A MX450 Win11 혜택가:128만원  1,579,000 만족도 96% 입니다.\n"
     ]
    }
   ],
   "source": [
    "import re\n",
    "items = soup.find_all('div', attrs={\"class\":re.compile(\"^box__component box__component-itemcard box__component-itemcard--general\")})\n",
    "\n",
    "for item in items:\n",
    "    name = item.find(\"span\", attrs={\"class\":\"text__item\"}).get_text()              # 제품명\n",
    "\n",
    "    price = item.find(\"strong\", attrs={\"class\":\"text text__value\"}).get_text()      # 가격\n",
    "\n",
    "    rate = item.find(\"span\", attrs={\"class\":\"image__awards-points\"})                # 평점\n",
    "    if rate:\n",
    "        rate = rate.get_text()\n",
    "    else:\n",
    "        rate = \"평점 없음\"\n",
    "\n",
    "    print(name, price, rate)"
   ]
  },
  {
   "cell_type": "code",
   "execution_count": null,
   "metadata": {},
   "outputs": [],
   "source": []
  }
 ],
 "metadata": {
  "interpreter": {
   "hash": "b3ba2566441a7c06988d0923437866b63cedc61552a5af99d1f4fb67d367b25f"
  },
  "kernelspec": {
   "display_name": "Python 3.8.8 ('base')",
   "language": "python",
   "name": "python3"
  },
  "language_info": {
   "codemirror_mode": {
    "name": "ipython",
    "version": 3
   },
   "file_extension": ".py",
   "mimetype": "text/x-python",
   "name": "python",
   "nbconvert_exporter": "python",
   "pygments_lexer": "ipython3",
   "version": "3.8.8"
  },
  "orig_nbformat": 4
 },
 "nbformat": 4,
 "nbformat_minor": 2
}
