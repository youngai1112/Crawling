{
 "cells": [
  {
   "cell_type": "code",
   "execution_count": 7,
   "metadata": {},
   "outputs": [
    {
     "name": "stdout",
     "output_type": "stream",
     "text": [
      "<class 'list'>\n"
     ]
    }
   ],
   "source": [
    "import csv\n",
    "import requests\n",
    "from bs4 import BeautifulSoup\n",
    "\n",
    "url = \"https://finance.naver.com/sise/sise_market_sum.naver?&page=1\"\n",
    "res = requests.get(url)\n",
    "res.raise_for_status()\n",
    "soup = BeautifulSoup(res.text, \"lxml\")\n",
    "\n",
    "filename = \"시가총액1-200.csv\"\n",
    "# 엑셀파일에 한글 깨짐 현상이 나타났다면, encoding=\"utf-8-sig\" 재설정\n",
    "f = open(filename, \"w\", encoding=\"utf-8-sig\", newline=\"\")    # newline=\"\" => 한 줄 띄어쓰기 X\n",
    "writer = csv.writer(f)\n",
    "\n",
    "title = \"N\t종목명\t현재가\t전일비\t등락률\t액면가\t시가총액\t상장주식수\t외국인비율\t거래량\tPER\tROE\t토론실\".split(\"\\t\")\n",
    "print(type(title))\n",
    "writer.writerow(title)\n",
    "\n",
    "for page in range(1,2):\n",
    "    res = requests.get(url + str(page))\n",
    "    res.raise_for_status()\n",
    "    soup = BeautifulSoup(res.text, \"lxml\")\n",
    "\n",
    "    data_rows = soup.find(\"table\", attrs={\"class\":\"type_2\"}).find(\"tbody\").find_all(\"tr\")\n",
    "    for row in data_rows:\n",
    "        columns = row.find_all(\"td\")\n",
    "        if len(columns) <= 1:   # 의미 없는 데이터는 skip\n",
    "            continue\n",
    "        data = [column.get_text().strip() for column in columns]\n",
    "        # print(data)\n",
    "        writer.writerow(data)"
   ]
  },
  {
   "cell_type": "code",
   "execution_count": null,
   "metadata": {},
   "outputs": [],
   "source": []
  }
 ],
 "metadata": {
  "interpreter": {
   "hash": "b3ba2566441a7c06988d0923437866b63cedc61552a5af99d1f4fb67d367b25f"
  },
  "kernelspec": {
   "display_name": "Python 3.8.8 ('base')",
   "language": "python",
   "name": "python3"
  },
  "language_info": {
   "codemirror_mode": {
    "name": "ipython",
    "version": 3
   },
   "file_extension": ".py",
   "mimetype": "text/x-python",
   "name": "python",
   "nbconvert_exporter": "python",
   "pygments_lexer": "ipython3",
   "version": "3.8.8"
  },
  "orig_nbformat": 4
 },
 "nbformat": 4,
 "nbformat_minor": 2
}
