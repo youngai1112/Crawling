{
 "cells": [
  {
   "cell_type": "code",
   "execution_count": 1,
   "metadata": {},
   "outputs": [
    {
     "name": "stderr",
     "output_type": "stream",
     "text": [
      "<ipython-input-1-172a533d1364>:2: DeprecationWarning: executable_path has been deprecated, please pass in a Service object\n",
      "  browser = webdriver.Chrome(\"selenium\\chromedriver_win32\\chromedriver.exe\")\n"
     ]
    }
   ],
   "source": [
    "from selenium import webdriver\n",
    "browser = webdriver.Chrome(\"selenium\\chromedriver_win32\\chromedriver.exe\")\n",
    "browser.maximize_window()\n",
    "\n",
    "# 페이지 이동\n",
    "url = \"https://play.google.com/store/movies/collection/cluster?clp=0g4XChUKD3RvcHNlbGxpbmdfcGFpZBAHGAQ%3D:S:ANO1ljJvXQM&gsr=ChrSDhcKFQoPdG9wc2VsbGluZ19wYWlkEAcYBA%3D%3D:S:ANO1ljK7jAA&hl=ko&gl=US\"\n",
    "browser.get(url)\n",
    "\n",
    "# 1. 스크롤 내리기 : 한페이지를 스크롤 다운\n",
    "#   바탕화면 > 마우스 우클릭 > 디스플레이 설정 메뉴에서 PC 해상도를 확인 가능\n",
    "#   모니터(해상도)의 높이인 1080 위치로 스크롤 내리기\n",
    "#   0이면 위로 스크롤 올리기\n",
    "#   예시) browser.execute_script(\"window.scrollTo(0, 2080)\")\n",
    "\n",
    "# 2. 지정한 위치로 스크롤 내리기\n",
    "#   화면 가장 아래로 스크롤 내리기\n",
    "#   예시) browser.execute_script(\"window.scrollTo(0, document.body.scrollHeight)\")"
   ]
  },
  {
   "cell_type": "code",
   "execution_count": 2,
   "metadata": {},
   "outputs": [
    {
     "name": "stdout",
     "output_type": "stream",
     "text": [
      "스크롤 완료\n"
     ]
    }
   ],
   "source": [
    "import time\n",
    "interval = 2    # 2초에 한번씩 스크롤 내림\n",
    "\n",
    "# 현재 문서 높이를 가져와서 저장\n",
    "prev_height = browser.execute_script(\"return document.body.scrollHeight\")\n",
    "\n",
    "# 반복 수행\n",
    "while True:\n",
    "    # 스크롤을 가장 아래로 내림\n",
    "    browser.execute_script(\"window.scrollTo(0, document.body.scrollHeight)\")\n",
    "\n",
    "    # 페이지 로딩 대기\n",
    "    time.sleep(interval)\n",
    "\n",
    "    # 현재 문서 높이를 가져와서 저장\n",
    "    curr_height = browser.execute_script(\"return document.body.scrollHeight\")\n",
    "    if curr_height == prev_height:\n",
    "        break\n",
    "\n",
    "    prev_height = curr_height\n",
    "\n",
    "print(\"스크롤 완료\")"
   ]
  }
 ],
 "metadata": {
  "interpreter": {
   "hash": "b3ba2566441a7c06988d0923437866b63cedc61552a5af99d1f4fb67d367b25f"
  },
  "kernelspec": {
   "display_name": "Python 3.8.8 ('base')",
   "language": "python",
   "name": "python3"
  },
  "language_info": {
   "codemirror_mode": {
    "name": "ipython",
    "version": 3
   },
   "file_extension": ".py",
   "mimetype": "text/x-python",
   "name": "python",
   "nbconvert_exporter": "python",
   "pygments_lexer": "ipython3",
   "version": "3.8.8"
  },
  "orig_nbformat": 4
 },
 "nbformat": 4,
 "nbformat_minor": 2
}
