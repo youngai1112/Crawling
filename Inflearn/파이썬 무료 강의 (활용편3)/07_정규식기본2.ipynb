{
 "cells": [
  {
   "cell_type": "markdown",
   "metadata": {},
   "source": [
    "## 순서\n",
    "1. p = re.compile(\"원하는 형태\")\n",
    "    - 원하는 형태 : 정규식\n",
    "    - `.` : 하나의 문자를 의미\n",
    "    - `^` : 문자열의 시작\n",
    "    - `$` : 문자열의 끝\n",
    "2. m = p.match(\"비교할 문자열\")\n",
    "    - 주어진 문자열이 처음부터 일치하는지 확인\n",
    "3. m = p.search(\"비교할 문자열\")\n",
    "    - 주어진 문자열 중에 일치하는게 있는지 확인\n",
    "4. lst = p.findall(\"비교할 문자열\")\n",
    "    - 일치하는 모든 것을 리스트 형태로 반환\n"
   ]
  },
  {
   "cell_type": "markdown",
   "metadata": {},
   "source": [
    "## 정규식에 대해 더 알고 싶다면\n",
    "- 출처 : https://www.w3schools.com/python/python_regex.asp\n",
    "- 출처 : https://docs.python.org/3/library/re.html?highlight=re#module-re"
   ]
  }
 ],
 "metadata": {
  "interpreter": {
   "hash": "b3ba2566441a7c06988d0923437866b63cedc61552a5af99d1f4fb67d367b25f"
  },
  "kernelspec": {
   "display_name": "Python 3.8.8 ('base')",
   "language": "python",
   "name": "python3"
  },
  "language_info": {
   "codemirror_mode": {
    "name": "ipython",
    "version": 3
   },
   "file_extension": ".py",
   "mimetype": "text/x-python",
   "name": "python",
   "nbconvert_exporter": "python",
   "pygments_lexer": "ipython3",
   "version": "3.8.8"
  },
  "orig_nbformat": 4
 },
 "nbformat": 4,
 "nbformat_minor": 2
}
