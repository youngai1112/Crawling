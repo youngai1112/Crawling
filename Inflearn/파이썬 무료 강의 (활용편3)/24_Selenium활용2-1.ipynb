{
 "cells": [
  {
   "cell_type": "markdown",
   "metadata": {},
   "source": [
    "- 동적 페이지 웹 크롤링\n",
    "    - 페이지가 접속될 때, 불러와지는 것이 아닌 사용자가 어떤 동작을 했을 때가 되어서야 동작을 하는 경우"
   ]
  },
  {
   "cell_type": "code",
   "execution_count": 9,
   "metadata": {},
   "outputs": [
    {
     "name": "stdout",
     "output_type": "stream",
     "text": [
      "50\n"
     ]
    }
   ],
   "source": [
    "import requests\n",
    "from bs4 import BeautifulSoup\n",
    "\n",
    "url = \"https://play.google.com/store/movies/collection/cluster?clp=0g4XChUKD3RvcHNlbGxpbmdfcGFpZBAHGAQ%3D:S:ANO1ljJvXQM&gsr=ChrSDhcKFQoPdG9wc2VsbGluZ19wYWlkEAcYBA%3D%3D:S:ANO1ljK7jAA&hl=ko&gl=US\"\n",
    "# 크롬에서 접속한 UserAgent 정보를 가지고 올 것이다. \n",
    "# \"Accept-Language\" : 한글로 된 페이지를 달라고 요청 -> 한글 페이지가 있다면 한글 페이지로 응답, 없다면 기본페이지로 응답\n",
    "headers = {\n",
    "    \"User-Agent\": \"Mozilla/5.0 (Windows NT 10.0; Win64; x64) AppleWebKit/537.36 (KHTML, like Gecko) Chrome/98.0.4758.102 Safari/537.36\",\n",
    "    \"Accept-Language\": \"ko-KR,ko\"\n",
    "}\n",
    "res = requests.get(url, headers=headers)\n",
    "res.raise_for_status()\n",
    "soup = BeautifulSoup(res.text, \"lxml\")\n",
    "\n",
    "# 모든 영화에 대한 정보 불러오기\n",
    "movies = soup.find_all(\"div\", attrs={\"class\":\"ImZGtf mpg5gc\"})\n",
    "print(len(movies))"
   ]
  },
  {
   "cell_type": "code",
   "execution_count": 10,
   "metadata": {},
   "outputs": [],
   "source": [
    "with open(\"movie.html\", \"w\", encoding=\"utf8\") as f:\n",
    "    # f.write(res.text)\n",
    "    f.write(soup.prettify())    # html 문서를 예쁘게 출력"
   ]
  },
  {
   "cell_type": "markdown",
   "metadata": {},
   "source": [
    "- 접속 가능한 UserAgent 정보를 통해서, 구글 무비에서는 서로 다른 페이지를 리턴 해준다. \n",
    "    - 한국에서, 크롬을 이용해 정보를 요청했을 때는 한글로 페이지가 뜨고\n",
    "    - requests를 통해서 접속했을 때는 아마도 미국에서 접속한 것을 default로 맞추어 정보를 주는 것으로 보인다."
   ]
  },
  {
   "cell_type": "code",
   "execution_count": 11,
   "metadata": {},
   "outputs": [
    {
     "name": "stdout",
     "output_type": "stream",
     "text": [
      "Ghostbusters: Afterlife\n",
      "듄\n",
      "The King's Man\n",
      "Venom: Let There Be Carnage\n",
      "No Time To Die\n",
      "프리 가이\n",
      "Sing 2\n",
      "Resident Evil: Welcome to Raccoon City\n",
      "Spider-Man: Far from Home\n",
      "Eternals\n",
      "Encanto\n",
      "하우스 오브 구찌\n",
      "Kingsman: The Secret Service\n",
      "매트릭스: 리저렉션\n",
      "Ted K\n",
      "F9: The Fast Saga\n",
      "Clean\n",
      "Sing\n",
      "Spider-Man: Homecoming\n",
      "Clifford The Big Red Dog\n",
      "The Ledge\n",
      "슈퍼배드 3\n",
      "쥬라기 월드 : 폴른 킹덤\n",
      "Last Survivors\n",
      "Last Looks\n",
      "Supercool\n",
      "American Underdog\n",
      "Idiocracy\n",
      "Spider-Man: Into The Spider-Verse\n",
      "The 355\n",
      "Last Night in Soho\n",
      "Jurassic World\n",
      "프렌치 디스패치\n",
      "John Wick\n",
      "Redeeming Love\n",
      "The Amazing Spider-Man™\n",
      "Chronicles of Narnia: The Lion, the Witch and the Wardrobe\n",
      "빅쇼트\n",
      "콰이어트 플레이스 2\n",
      "The Wolf of Wall Street\n",
      "퍼피 구조대 더 무비\n",
      "아담스 패밀리 2\n",
      "Interstellar\n",
      "Jackass: The Movie\n",
      "Venom\n",
      "The Amazing Spider-Man 2\n",
      "The Chronicles of Narnia: Prince Caspian\n",
      "King Richard\n",
      "올드\n",
      "The Hating Game\n"
     ]
    }
   ],
   "source": [
    "for movie in movies:\n",
    "    title = movie.find(\"div\", attrs={\"class\":\"WsMG1c nnK0zc\"}).get_text()\n",
    "    print(title)"
   ]
  }
 ],
 "metadata": {
  "interpreter": {
   "hash": "b3ba2566441a7c06988d0923437866b63cedc61552a5af99d1f4fb67d367b25f"
  },
  "kernelspec": {
   "display_name": "Python 3.8.8 ('base')",
   "language": "python",
   "name": "python3"
  },
  "language_info": {
   "codemirror_mode": {
    "name": "ipython",
    "version": 3
   },
   "file_extension": ".py",
   "mimetype": "text/x-python",
   "name": "python",
   "nbconvert_exporter": "python",
   "pygments_lexer": "ipython3",
   "version": "3.8.8"
  },
  "orig_nbformat": 4
 },
 "nbformat": 4,
 "nbformat_minor": 2
}
