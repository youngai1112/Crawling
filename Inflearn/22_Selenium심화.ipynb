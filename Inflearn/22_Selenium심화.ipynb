{
 "cells": [
  {
   "cell_type": "code",
   "execution_count": 8,
   "metadata": {},
   "outputs": [
    {
     "name": "stderr",
     "output_type": "stream",
     "text": [
      "<ipython-input-8-6ad7c8958ca7>:4: DeprecationWarning: executable_path has been deprecated, please pass in a Service object\n",
      "  browser = webdriver.Chrome(\"selenium\\chromedriver_win32\\chromedriver.exe\")\n"
     ]
    }
   ],
   "source": [
    "import time\n",
    "from selenium import webdriver\n",
    "\n",
    "browser = webdriver.Chrome(\"selenium\\chromedriver_win32\\chromedriver.exe\")\n",
    "browser.get(\"http://naver.com\")"
   ]
  },
  {
   "cell_type": "code",
   "execution_count": 9,
   "metadata": {},
   "outputs": [
    {
     "name": "stderr",
     "output_type": "stream",
     "text": [
      "<ipython-input-9-7f05b7666325>:2: DeprecationWarning: find_element_by_* commands are deprecated. Please use find_element() instead\n",
      "  elem = browser.find_element_by_class_name(\"link_login\")\n"
     ]
    }
   ],
   "source": [
    "# 로그인 버튼 클릭\n",
    "elem = browser.find_element_by_class_name(\"link_login\")\n",
    "elem.click()"
   ]
  },
  {
   "cell_type": "code",
   "execution_count": 10,
   "metadata": {},
   "outputs": [
    {
     "name": "stderr",
     "output_type": "stream",
     "text": [
      "<ipython-input-10-69f43c85b0a2>:2: DeprecationWarning: find_element_by_* commands are deprecated. Please use find_element() instead\n",
      "  browser.find_element_by_id(\"id\").send_keys(\"naver_id\")\n",
      "<ipython-input-10-69f43c85b0a2>:3: DeprecationWarning: find_element_by_* commands are deprecated. Please use find_element() instead\n",
      "  browser.find_element_by_id(\"pw\").send_keys(\"password\")\n"
     ]
    }
   ],
   "source": [
    "# id, pw 입력\n",
    "browser.find_element_by_id(\"id\").send_keys(\"naver_id\")\n",
    "browser.find_element_by_id(\"pw\").send_keys(\"password\")"
   ]
  },
  {
   "cell_type": "code",
   "execution_count": 11,
   "metadata": {},
   "outputs": [
    {
     "name": "stderr",
     "output_type": "stream",
     "text": [
      "<ipython-input-11-ffdf2798002c>:2: DeprecationWarning: find_element_by_* commands are deprecated. Please use find_element() instead\n",
      "  browser.find_element_by_id(\"log.login\").click()\n"
     ]
    }
   ],
   "source": [
    "# 로그인 버튼 클릭\n",
    "browser.find_element_by_id(\"log.login\").click()\n",
    "\n",
    "# 로딩 시간 감안하여 딜레이 시간 입력\n",
    "time.sleep(3)"
   ]
  },
  {
   "cell_type": "code",
   "execution_count": 12,
   "metadata": {},
   "outputs": [
    {
     "name": "stderr",
     "output_type": "stream",
     "text": [
      "<ipython-input-12-9c9bbfd5cb8b>:2: DeprecationWarning: find_element_by_* commands are deprecated. Please use find_element() instead\n",
      "  browser.find_element_by_id(\"id\").send_keys(\"naver_id\")\n"
     ]
    }
   ],
   "source": [
    "# id를 새로 입력\n",
    "browser.find_element_by_id(\"id\").send_keys(\"naver_id\")"
   ]
  },
  {
   "cell_type": "code",
   "execution_count": 13,
   "metadata": {},
   "outputs": [
    {
     "name": "stderr",
     "output_type": "stream",
     "text": [
      "<ipython-input-13-5b1e38b31852>:2: DeprecationWarning: find_element_by_* commands are deprecated. Please use find_element() instead\n",
      "  browser.find_element_by_id(\"id\").clear()\n",
      "<ipython-input-13-5b1e38b31852>:3: DeprecationWarning: find_element_by_* commands are deprecated. Please use find_element() instead\n",
      "  browser.find_element_by_id(\"id\").send_keys(\"naver_id\")\n"
     ]
    }
   ],
   "source": [
    "# 이전에 입력했던 입력 데이터를 지우고, 새로운 입력값 타이핑하기\n",
    "browser.find_element_by_id(\"id\").clear()\n",
    "browser.find_element_by_id(\"id\").send_keys(\"naver_id\")\n"
   ]
  },
  {
   "cell_type": "code",
   "execution_count": 14,
   "metadata": {},
   "outputs": [
    {
     "name": "stdout",
     "output_type": "stream",
     "text": [
      "<html lang=\"ko\"><head>\n",
      "    <meta charset=\"UTF-8\">\n",
      "    <meta http-equiv=\"X-UA-Compatible\" content=\"IE=edge, chrome=1\">\n",
      "    <meta name=\"viewport\" content=\"width=device-width, initial-scale=1.0, maximum-scale=1.0, user-scalable=no\">\n",
      "    <meta property=\"og:type\" content=\"website\">\n",
      "    <meta property=\"og:title\" content=\"[네이버: 로그인]\">\n",
      "    <meta property=\"og:description\" content=\"안전한 로그인을 위해 주소창의 URL과 자물쇠 마크를 확인하세요!\">\n",
      "    <meta property=\"og:image\" content=\"https://ssl.pstatic.net/sstatic/search/common/og_v3.png\">\n",
      "    <meta property=\"og:image:type\" content=\"image/png\">\n",
      "    <meta property=\"og:image:width\" content=\"1200\">\n",
      "    <meta property=\"og:image:height\" content=\"1200\">\n",
      "    <title>네이버 : 로그인</title>\n",
      "    <link rel=\"stylesheet\" type=\"text/css\" href=\"/login/css/global/desktop/w_20220216.css?20210812\">\n",
      "<link id=\"rcapt_css\" rel=\"stylesheet\" type=\"text/css\" href=\"https://rcaptcha.nid.naver.com/rcaptCss?key=SQhF8kvlW4XDUu\" media=\"all\"><script type=\"text/javascript\" src=\"https://ssl.pstatic.net/tveta/libs/glad/prod/0.4.1/gfp-ext-nda.js\" async=\"\"></script></head>\n",
      "<body>\n",
      "<div id=\"wrap\" class=\"wrap\">\n",
      "    <div class=\"u_skip\"><a href=\"https://www.naver.com\">본문 바로가기</a></div>\n",
      "    <header class=\"header\" role=\"banner\">\n",
      "        <div class=\"header_inner\">\n",
      "            <a href=\"https://www.naver.com\" class=\"logo\">\n",
      "                <h1 class=\"blind\">NAVER</h1>\n",
      "            </a>\n",
      "        </div>\n",
      "    </header>\n",
      "\n",
      "    <div id=\"container\" class=\"container\">\n",
      "        <!-- content -->\n",
      "        <div class=\"content\">\n",
      "            <div class=\"login_wrap\">\n",
      "                <ul class=\"menu_wrap\" role=\"tablist\">\n",
      "                    <li class=\"menu_item\" role=\"presentation\">\n",
      "                        <a href=\"#none\" id=\"loinid\" class=\"menu_id on\" role=\"tab\" aria-selected=\"true\">\n",
      "                            <span class=\"menu_text\"><span class=\"text\">ID 로그인</span></span>\n",
      "                        </a>\n",
      "                    </li>\n",
      "                    <li class=\"menu_item\" role=\"presentation\">\n",
      "                        <a href=\"#none\" id=\"ones\" class=\"menu_ones\" role=\"tab\" aria-selected=\"false\">\n",
      "                            <span class=\"menu_text\"><span class=\"text\">일회용 번호</span></span>\n",
      "                        </a>\n",
      "                    </li>\n",
      "                    <li class=\"menu_item\" role=\"presentation\">\n",
      "                        <a href=\"#none\" id=\"qrcode\" class=\"menu_qr\" role=\"tab\" aria-selected=\"false\">\n",
      "                            <span class=\"menu_text\"><span class=\"text\">QR코드</span></span>\n",
      "                        </a>\n",
      "                        <!--넛지배너-->\n",
      "                        <div class=\"nudge_banner\" id=\"nudge_tooltip\">\n",
      "                            <span class=\"nudge_text\">PC방 등 공용PC라면 QR코드 로그인이 더 안전해요.</span>\n",
      "                            <button type=\"button\" id=\"nudge_close\" class=\"nudge_close\"><span class=\"icon_nudge_close\"></span></button>\n",
      "                        </div>\n",
      "                    </li>\n",
      "                </ul>\n",
      "                <form id=\"frmNIDLogin\" name=\"frmNIDLogin\" target=\"_top\" autocomplete=\"off\" action=\"https://nid.naver.com/nidlogin.login\" method=\"POST\">\n",
      "                    <input type=\"hidden\" id=\"localechange\" name=\"localechange\" value=\"\">\n",
      "                    <input type=\"hidden\" name=\"dynamicKey\" id=\"dynamicKey\" value=\"VlV7KEIgTUs3t8mVIfjcqsxkPZdTT5dUZ-kB7jqHpku5teLzFu90hd2YhBax5piwF8bgrvDGifblt_Ua6nBci0TwI5XtKVtJUbxuIl_mnTM\">\n",
      "                    <input type=\"hidden\" name=\"logintp\" id=\"logintp\" value=\"null\">\n",
      "<input type=\"hidden\" name=\"encpw\" id=\"encpw\" value=\"\">\n",
      "<input type=\"hidden\" name=\"enctp\" id=\"enctp\" value=\"1\">\n",
      "<input type=\"hidden\" name=\"svctype\" id=\"svctype\" value=\"1\">\n",
      "<input type=\"hidden\" name=\"smart_LEVEL\" id=\"smart_LEVEL\" value=\"1\">\n",
      "<input type=\"hidden\" name=\"encnm\" id=\"encnm\" value=\"\">\n",
      "<input type=\"hidden\" name=\"bvsd\" id=\"bvsd\" value=\"\">\n",
      "<input type=\"hidden\" name=\"locale\" id=\"locale\" value=\"ko_KR\">\n",
      "<input type=\"hidden\" name=\"chptchakey\" id=\"chptchakey\" value=\"kJkxbRzzGx2jWppi\">\n",
      "<input type=\"hidden\" name=\"captcha_type\" id=\"captcha_type\" value=\"receipt\">\n",
      "<input type=\"hidden\" name=\"url\" id=\"url\" value=\"https://www.naver.com\">\n",
      "<input type=\"hidden\" name=\"rcaptchakey\" id=\"rcaptchakey\" value=\"SQhF8kvlW4XDUu\">\n",
      "\n",
      "\n",
      "                    <ul class=\"panel_wrap\">\n",
      "                        <li class=\"panel_item\" style=\"display: block;\">\n",
      "                            <div class=\"panel_inner\" role=\"tabpanel\" aria-controls=\"loinid\">\n",
      "                                <div class=\"message_wrap\">\n",
      "                                    <span class=\"message_text\">아이디(로그인 전용 아이디), 비밀번호 또는 <br>자동입력 방지 문자를 잘못 입력했습니다. <br>입력하신 내용을 다시 확인해주세요.</span>\n",
      "                                </div>\n",
      "                                <div class=\"id_pw_wrap\">\n",
      "                                    <div class=\"input_row\" id=\"id_line\">\n",
      "                                        <div class=\"icon_cell\" id=\"id_cell\">\n",
      "                                            <span class=\"icon_id\">\n",
      "                                                <span class=\"blind\">아이디</span>\n",
      "                                            </span>\n",
      "                                        </div>\n",
      "                                        <input type=\"text\" id=\"id\" name=\"id\" placeholder=\"아이디\" title=\"아이디\" class=\"input_text\" maxlength=\"41\" value=\"naver_id\">\n",
      "                                        <span role=\"button\" class=\"btn_delete\" id=\"id_clear\" style=\"display: block;\">\n",
      "                                            <span class=\"icon_delete\">\n",
      "\t\t\t\t\t\t\t\t\t\t\t\t<span class=\"blind\">삭제</span>\n",
      "                                            </span>\n",
      "                                        </span>\n",
      "                                    </div>\n",
      "                                    <div class=\"input_row\" id=\"pw_line\">\n",
      "                                        <div class=\"icon_cell\" id=\"pw_cell\">\n",
      "                                            <span class=\"icon_pw\">\n",
      "                                                <span class=\"blind\">비밀번호</span>\n",
      "                                            </span>\n",
      "                                        </div>\n",
      "                                        <input type=\"password\" id=\"pw\" name=\"pw\" placeholder=\"비밀번호\" title=\"비밀번호\" class=\"input_text\" maxlength=\"16\">\n",
      "                                        <span role=\"button\" class=\"btn_delete\" id=\"pw_clear\" style=\"display: none;\">\n",
      "                                            <span class=\"icon_delete\">\n",
      "                                                <span class=\"blind\">삭제</span>\n",
      "                                            </span>\n",
      "                                        </span>\n",
      "                                    </div>\n",
      "                                </div>\n",
      "                                <div class=\"captcha_wrap\">\n",
      "                                    <div id=\"rcapt\"><p class=\"captcha_img_cover\">\n",
      "\t<img id=\"captchaimg\" src=\"data:image/png;base64,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\" width=\"100%\" height=\"100%\" alt=\"캡차이미지\" class=\"captcha_img\">\n",
      "</p>\n",
      "<p class=\"captcha_desc\" data-detect=\"note\">해당 영수증은 가상으로 제작된 것으로 실제 영수증 사진이 아닙니다.</p>\n",
      "<p class=\"captcha_message\" id=\"captcha_info\">가격이 400원인 물건은 총 몇 개 구매했습니까?</p>\n",
      "<div class=\"captcha_form\">\n",
      "\t<div class=\"input_row\" id=\"cap_line\">\n",
      "\t\t<input type=\"text\" id=\"captcha\" name=\"captcha\" placeholder=\"정답을 입력해주세요.\" title=\"정답을 입력해주세요.\" class=\"input_text\" data-detect=\"code\">\n",
      "\t</div>\n",
      "\t<div class=\"captcha_btn\">\n",
      "\t\t<button type=\"button\" id=\"reload\" class=\"reload\"><span class=\"blind\">새로고침</span></button>\n",
      "\t\t<button type=\"button\" id=\"voice\" class=\"voice\"><span class=\"blind\">음성으로 전환</span></button>\n",
      "\t</div>\n",
      "</div></div>\n",
      "                                    <div id=\"rcapt_sound\" style=\"display:none;\">\n",
      "                                        <div class=\"voice_box\">\n",
      "                                            <p class=\"icon_voice\"></p>\n",
      "                                            <p class=\"voice_text\" id=\"audio_txt\">음성으로 안내되고 있습니다.</p>\n",
      "                                        </div>\n",
      "                                        <p class=\"captcha_desc\">음성 안내는 시작음 3회 반복 후 재생됩니다.</p>\n",
      "                                        <p class=\"captcha_message\">스피커에서 들리는 내용을 하단 입력영역에 숫자로 입력해주세요.</p>\n",
      "                                        <div class=\"captcha_form\">\n",
      "                                            <div class=\"input_row\" id=\"sound_line\">\n",
      "                                                <input type=\"text\" id=\"chptcha\" name=\"chptcha\" placeholder=\"정답을 입력해주세요.\" title=\"정답을 입력해주세요.\" class=\"input_text\">\n",
      "                                            </div>\n",
      "                                            <div class=\"captcha_btn\">\n",
      "                                                <button type=\"button\" id=\"play_audio\" class=\"reload\"><span class=\"blind\">새로고침</span></button>\n",
      "                                                <button type=\"button\" id=\"swap_captcha\" class=\"image\"><span class=\"blind\">이미지로 전환</span></button>\n",
      "                                            </div>\n",
      "                                        </div>\n",
      "                                    </div>\n",
      "                                    <script type=\"text/javascript\" charset=\"utf-8\" src=\"https://rcaptcha.nid.naver.com/rcapt.js?key=SQhF8kvlW4XDUu&amp;svc=nid\"></script>\n",
      "                                </div>\n",
      "\n",
      "                                <div class=\"login_keep_wrap\" id=\"login_keep_wrap\">\n",
      "                                    <div class=\"keep_check\">\n",
      "                                        <input type=\"checkbox\" id=\"keep\" name=\"nvlong\" class=\"input_keep\" value=\"off\">\n",
      "                                        <label for=\"keep\" class=\"keep_text\">로그인 상태 유지</label>\n",
      "                                    </div>\n",
      "                                    <div class=\"ip_check\">\n",
      "                                        <a href=\"/login/ext/help_ip3.html\" target=\"_blank\" id=\"ipguide\" title=\"IP보안\"><span class=\"ip_text\">IP보안</span></a>\n",
      "                                        <span class=\"switch\">\n",
      "                                            <input type=\"checkbox\" id=\"switch\" class=\"switch_checkbox\" value=\"off\">\n",
      "                                            <label for=\"switch\" class=\"switch_btn\">\n",
      "                                                <span class=\"blind\" id=\"switch_blind\">on</span>\n",
      "                                            </label>\n",
      "                                        </span>\n",
      "                                    </div>\n",
      "                                </div>\n",
      "                                <div class=\"login_error_wrap\" id=\"err_capslock\" style=\"display: none;\">\n",
      "                                    <div class=\"error_message\">\n",
      "                                        <strong>CapsLock</strong>이 켜져 있습니다.\n",
      "                                    </div>\n",
      "                                </div>\n",
      "                                <div class=\"login_error_wrap\" id=\"captcha_error_msg\" style=\"display:none;\">\n",
      "                                    <div class=\"error_message\" id=\"captcha_error_message\">\n",
      "                                        자동입력 방지문자를 입력해 주세요!\n",
      "                                    </div>\n",
      "                                </div>\n",
      "                                <div class=\"login_error_wrap\" id=\"err_empty_id\" style=\"display: none;\">\n",
      "                                    <div class=\"error_message\">\n",
      "                                        <strong>아이디</strong>를 입력해 주세요.\n",
      "                                    </div>\n",
      "                                </div>\n",
      "\n",
      "                                <div class=\"login_error_wrap\" id=\"err_empty_pw\" style=\"display: none;\">\n",
      "                                    <div class=\"error_message\">\n",
      "                                        <strong>비밀번호</strong>를 입력해 주세요.\n",
      "                                    </div>\n",
      "                                </div>\n",
      "                                <div class=\"btn_login_wrap\">\n",
      "                                    <button type=\"submit\" class=\"btn_login\" id=\"log.login\">\n",
      "                                        <span class=\"btn_text\">로그인</span>\n",
      "                                    </button>\n",
      "\n",
      "                                </div>\n",
      "                            </div>\n",
      "                        </li>\n",
      "                    </ul>\n",
      "                </form>\n",
      "            </div>\n",
      "            <ul class=\"find_wrap\" id=\"find_wrap\">\n",
      "\n",
      "                <li><a target=\"_blank\" href=\"https://nid.naver.com/user2/api/route?m=routePwInquiry&amp;lang=ko_KR\" class=\"find_text\">비밀번호 찾기</a></li>\n",
      "                <li><a target=\"_blank\" href=\"https://nid.naver.com/user2/api/route?m=routeIdInquiry&amp;lang=ko_KR\" class=\"find_text\">아이디 찾기</a></li>\n",
      "                <li><a target=\"_blank\" href=\"https://nid.naver.com/user2/V2Join?m=agree&amp;lang=ko_KR\" class=\"find_text\">회원가입</a>\n",
      "                </li>\n",
      "\n",
      "            </ul>\n",
      "            <!--배너-->\n",
      "            <div id=\"gladbanner\" class=\"banner_wrap\"><div style=\"width: 100%; height: auto; margin: 0px auto;\"><iframe id=\"gladbanner_tgtLREC\" frameborder=\"no\" scrolling=\"no\" tabindex=\"-1\" name=\"\" style=\"width: 100%; height: 147px; visibility: inherit; display: block; border: 0px; vertical-align: bottom;\" sandbox=\"allow-forms allow-popups allow-popups-to-escape-sandbox allow-same-origin allow-scripts allow-top-navigation-by-user-activation\" src=\"https://ssl.pstatic.net/tveta/libs/glad/prod/0.4.1/res/r.html\"></iframe></div></div>\n",
      "        </div>\n",
      "        <!-- //content -->\n",
      "    </div>\n",
      "\n",
      "    <!-- footer -->\n",
      "    <div class=\"footer\">\n",
      "        <div class=\"footer_inner\">\n",
      "            <!--[주]고객센터,제휴문의,서비스안내-->\n",
      "            <ul class=\"footer_link\" id=\"footer_link\">\n",
      "                <li><a target=\"_blank\" class=\"footer_item\" href=\"http://www.naver.com/rules/service.html\" id=\"fot.agreement\"><span class=\"text\">이용약관</span></a></li>\n",
      "                <li><a target=\"_blank\" class=\"footer_item\" href=\"http://www.naver.com/rules/privacy.html\" id=\"fot.privacy\"><span class=\"text\">개인정보처리방침</span></a></li>\n",
      "                <li><a target=\"_blank\" class=\"footer_item\" href=\"http://www.naver.com/rules/disclaimer.html\" id=\"fot.disclaimer\"><span class=\"text\">책임의 한계와 법적고지</span></a></li>\n",
      "                <li><a target=\"_blank\" class=\"footer_item\" href=\"https://help.naver.com/support/service/main.nhn?serviceNo=532\" id=\"fot.help\"><span class=\"text\">회원정보 고객센터</span></a></li>\n",
      "            </ul>\n",
      "            <div class=\"footer_copy\">\n",
      "                <a id=\"fot.naver\" target=\"_blank\" href=\"https://www.navercorp.com\">\n",
      "                    <span class=\"footer_logo\"><span class=\"blind\">네이버</span></span>\n",
      "                </a>\n",
      "                <span class=\"text\">Copyright</span>\n",
      "                <span class=\"corp\">© NAVER Corp.</span>\n",
      "                <span class=\"text\">All Rights Reserved.</span>\n",
      "            </div>\n",
      "        </div>\n",
      "    </div>\n",
      "\n",
      "</div>\n",
      "<input type=\"hidden\" id=\"nid_buk\" name=\"nid_buk\" value=\"\">\n",
      "<input type=\"hidden\" id=\"removeLink\" name=\"removeLink\" value=\"\">\n",
      "<input type=\"hidden\" id=\"hide_util\" name=\"hide_util\" value=\"\">\n",
      "<input type=\"hidden\" id=\"locale\" name=\"locale\" value=\"ko_KR\">\n",
      "<input type=\"hidden\" id=\"session_keys\" name=\"session_keys\" value=\"\">\n",
      "<input type=\"hidden\" id=\"ncaptchaSplit\" name=\"ncaptchaSplit\" value=\"none\">\n",
      "<input type=\"hidden\" id=\"failUrl\" name=\"failUrl\" value=\"\">\n",
      "<input type=\"hidden\" id=\"nclicks_nsc\" name=\"nclicks_nsc\" value=\"nid.login_kr\">\n",
      "<input type=\"hidden\" id=\"id_error_msg\" name=\"id_error_msg\" value=\"<strong>아이디</strong>를 입력해주세요.\">\n",
      "<input type=\"hidden\" id=\"pw_error_msg\" name=\"pw_error_msg\" value=\"<strong>비밀번호</strong>를 입력해주세요.\">\n",
      "<input type=\"hidden\" id=\"changeToSound\" name=\"pw_error_msg\" value=\"음성으로 듣기\">\n",
      "<input type=\"hidden\" id=\"changeToPicture\" name=\"changeToPicture\" value=\"이미지로 보기\">\n",
      "<input type=\"hidden\" id=\"ispopup\" name=\"ispopup\" value=\"false\">\n",
      "<script type=\"text/javascript\" src=\"/login/js/bvsd.1.3.4.min.js\"></script>\n",
      "<script type=\"text/javascript\" async=\"\" src=\"https://ssl.pstatic.net/tveta/libs/glad/prod/gfp-core.js\"></script>\n",
      "<script type=\"text/javascript\" src=\"/login/js/v2/default/common_202201.js?v=20220210\"></script>\n",
      "<script type=\"text/javascript\" src=\"/login/js/v2/default/rcaptcha.js?v=20210910\"></script>\n",
      "<div id=\"nv_stat\" style=\"display:none;\">60</div>\n",
      "\n",
      "\n",
      "</body></html>\n"
     ]
    }
   ],
   "source": [
    "# html 정보 출력\n",
    "print(browser.page_source)"
   ]
  },
  {
   "cell_type": "code",
   "execution_count": 15,
   "metadata": {},
   "outputs": [],
   "source": [
    "# 브라우저 종료\n",
    "browser.close()     # 현재 탭만 종료\n",
    "browser.quit()      # 전체 브라우저 종료"
   ]
  },
  {
   "cell_type": "code",
   "execution_count": null,
   "metadata": {},
   "outputs": [],
   "source": []
  }
 ],
 "metadata": {
  "interpreter": {
   "hash": "b3ba2566441a7c06988d0923437866b63cedc61552a5af99d1f4fb67d367b25f"
  },
  "kernelspec": {
   "display_name": "Python 3.8.8 ('base')",
   "language": "python",
   "name": "python3"
  },
  "language_info": {
   "codemirror_mode": {
    "name": "ipython",
    "version": 3
   },
   "file_extension": ".py",
   "mimetype": "text/x-python",
   "name": "python",
   "nbconvert_exporter": "python",
   "pygments_lexer": "ipython3",
   "version": "3.8.8"
  },
  "orig_nbformat": 4
 },
 "nbformat": 4,
 "nbformat_minor": 2
}
