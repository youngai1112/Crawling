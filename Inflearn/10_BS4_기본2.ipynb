{
 "cells": [
  {
   "cell_type": "code",
   "execution_count": 1,
   "metadata": {},
   "outputs": [],
   "source": [
    "import requests\n",
    "from bs4 import BeautifulSoup\n",
    "\n",
    "url = \"https://comic.naver.com/webtoon/weekday\"\n",
    "res = requests.get(url)\n",
    "res.raise_for_status()  \n",
    "\n",
    "soup = BeautifulSoup(res.text, \"lxml\")"
   ]
  },
  {
   "cell_type": "code",
   "execution_count": 2,
   "metadata": {},
   "outputs": [
    {
     "name": "stdout",
     "output_type": "stream",
     "text": [
      "<li class=\"rank01\">\n",
      "<a href=\"/webtoon/detail?titleId=597447&amp;no=429\" onclick=\"nclk_v2(event,'rnk*p.cont','597447','1')\" title=\"프리드로우-제426화 임재익 근황 (1) \">프리드로우-제426화 임재익 근황 (1)</a>\n",
      "<span class=\"rankBox\">\n",
      "<img alt=\"변동없음\" height=\"10\" src=\"https://ssl.pstatic.net/static/comic/images/migration/common/arrow_no.gif\" title=\"변동없음\" width=\"7\"/> 0\n",
      "\t\t\t\t\t\t\n",
      "\t\t\t\t\t\n",
      "\t\t\t\t</span>\n",
      "</li>\n"
     ]
    }
   ],
   "source": [
    "print(soup.find(\"li\", attrs={\"class\":\"rank01\"}))"
   ]
  },
  {
   "cell_type": "code",
   "execution_count": 3,
   "metadata": {},
   "outputs": [
    {
     "name": "stdout",
     "output_type": "stream",
     "text": [
      "<a href=\"/webtoon/detail?titleId=597447&amp;no=429\" onclick=\"nclk_v2(event,'rnk*p.cont','597447','1')\" title=\"프리드로우-제426화 임재익 근황 (1) \">프리드로우-제426화 임재익 근황 (1)</a>\n"
     ]
    }
   ],
   "source": [
    "rank1 = soup.find(\"li\", attrs={\"class\":\"rank01\"})\n",
    "print(rank1.a)"
   ]
  },
  {
   "cell_type": "markdown",
   "metadata": {},
   "source": [
    "- 다음 형제 element로 넘어가는 방법"
   ]
  },
  {
   "cell_type": "code",
   "execution_count": 13,
   "metadata": {},
   "outputs": [
    {
     "name": "stdout",
     "output_type": "stream",
     "text": [
      "프리드로우-제426화 임재익 근황 (1)\n"
     ]
    }
   ],
   "source": [
    "print(rank1.a.get_text())"
   ]
  },
  {
   "cell_type": "code",
   "execution_count": 6,
   "metadata": {},
   "outputs": [
    {
     "name": "stdout",
     "output_type": "stream",
     "text": [
      "\n",
      "\n"
     ]
    }
   ],
   "source": [
    "# 개행이 있을 수 있다.\n",
    "print(rank1.next_sibling)"
   ]
  },
  {
   "cell_type": "code",
   "execution_count": 8,
   "metadata": {},
   "outputs": [
    {
     "name": "stdout",
     "output_type": "stream",
     "text": [
      "<li class=\"rank02\">\n",
      "<a href=\"/webtoon/detail?titleId=727188&amp;no=148\" onclick=\"nclk_v2(event,'rnk*p.cont','727188','2')\" title=\"취사병 전설이 되다-148화 : 호영아, 그건 아니야\">취사병 전설이 되다-148화 : 호영아, 그건 아니야</a>\n",
      "<span class=\"rankBox\">\n",
      "<img alt=\"변동없음\" height=\"10\" src=\"https://ssl.pstatic.net/static/comic/images/migration/common/arrow_no.gif\" title=\"변동없음\" width=\"7\"/> 0\n",
      "\t\t\t\t\t\t\n",
      "\t\t\t\t\t\n",
      "\t\t\t\t</span>\n",
      "</li>\n"
     ]
    }
   ],
   "source": [
    "print(rank1.next_sibling.next_sibling)\n",
    "rank2 = rank1.next_sibling.next_sibling"
   ]
  },
  {
   "cell_type": "code",
   "execution_count": 12,
   "metadata": {},
   "outputs": [
    {
     "name": "stdout",
     "output_type": "stream",
     "text": [
      "먹는 인생-31화 캐러멜 커스터드푸딩\n"
     ]
    }
   ],
   "source": [
    "rank3 = rank2.next_sibling.next_sibling\n",
    "print(rank3.a.get_text())"
   ]
  },
  {
   "cell_type": "markdown",
   "metadata": {},
   "source": [
    "- 이전 형제로 넘어가는 방법"
   ]
  },
  {
   "cell_type": "code",
   "execution_count": 15,
   "metadata": {},
   "outputs": [
    {
     "name": "stdout",
     "output_type": "stream",
     "text": [
      "취사병 전설이 되다-148화 : 호영아, 그건 아니야\n"
     ]
    }
   ],
   "source": [
    "rank2 = rank3.previous_sibling.previous_sibling\n",
    "print(rank2.a.get_text())"
   ]
  },
  {
   "cell_type": "markdown",
   "metadata": {},
   "source": [
    "- 부모로 넘어가는 방법"
   ]
  },
  {
   "cell_type": "code",
   "execution_count": 16,
   "metadata": {},
   "outputs": [
    {
     "name": "stdout",
     "output_type": "stream",
     "text": [
      "<ol class=\"asideBoxRank\" id=\"realTimeRankFavorite\">\n",
      "<li class=\"rank01\">\n",
      "<a href=\"/webtoon/detail?titleId=597447&amp;no=429\" onclick=\"nclk_v2(event,'rnk*p.cont','597447','1')\" title=\"프리드로우-제426화 임재익 근황 (1) \">프리드로우-제426화 임재익 근황 (1)</a>\n",
      "<span class=\"rankBox\">\n",
      "<img alt=\"변동없음\" height=\"10\" src=\"https://ssl.pstatic.net/static/comic/images/migration/common/arrow_no.gif\" title=\"변동없음\" width=\"7\"/> 0\n",
      "\t\t\t\t\t\t\n",
      "\t\t\t\t\t\n",
      "\t\t\t\t</span>\n",
      "</li>\n",
      "<li class=\"rank02\">\n",
      "<a href=\"/webtoon/detail?titleId=727188&amp;no=148\" onclick=\"nclk_v2(event,'rnk*p.cont','727188','2')\" title=\"취사병 전설이 되다-148화 : 호영아, 그건 아니야\">취사병 전설이 되다-148화 : 호영아, 그건 아니야</a>\n",
      "<span class=\"rankBox\">\n",
      "<img alt=\"변동없음\" height=\"10\" src=\"https://ssl.pstatic.net/static/comic/images/migration/common/arrow_no.gif\" title=\"변동없음\" width=\"7\"/> 0\n",
      "\t\t\t\t\t\t\n",
      "\t\t\t\t\t\n",
      "\t\t\t\t</span>\n",
      "</li>\n",
      "<li class=\"rank03\">\n",
      "<a href=\"/webtoon/detail?titleId=784255&amp;no=32\" onclick=\"nclk_v2(event,'rnk*p.cont','784255','3')\" title=\"먹는 인생-31화 캐러멜 커스터드푸딩\">먹는 인생-31화 캐러멜 커스터드푸딩</a>\n",
      "<span class=\"rankBox\">\n",
      "<img alt=\"변동없음\" height=\"10\" src=\"https://ssl.pstatic.net/static/comic/images/migration/common/arrow_no.gif\" title=\"변동없음\" width=\"7\"/> 0\n",
      "\t\t\t\t\t\t\n",
      "\t\t\t\t\t\n",
      "\t\t\t\t</span>\n",
      "</li>\n",
      "<li class=\"rank04\">\n",
      "<a href=\"/webtoon/detail?titleId=774864&amp;no=24\" onclick=\"nclk_v2(event,'rnk*p.cont','774864','4')\" title=\"존잘주의-23화. 에라 모르겠당\">존잘주의-23화. 에라 모르겠당</a>\n",
      "<span class=\"rankBox\">\n",
      "<img alt=\"순위상승\" height=\"10\" src=\"https://ssl.pstatic.net/static/comic/images/migration/common/arrow_up.gif\" title=\"순위상승\" width=\"7\"/>3\n",
      "\t\t\t\t\t\t\n",
      "\t\t\t\t\t\t\n",
      "\t\t\t\t\t\n",
      "\t\t\t\t</span>\n",
      "</li>\n",
      "<li class=\"rank05\">\n",
      "<a href=\"/webtoon/detail?titleId=730694&amp;no=114\" onclick=\"nclk_v2(event,'rnk*p.cont','730694','5')\" title=\"초인의 시대-2부 22화\">초인의 시대-2부 22화</a>\n",
      "<span class=\"rankBox\">\n",
      "<img alt=\"순위하락\" height=\"10\" src=\"https://ssl.pstatic.net/static/comic/images/migration/common/arrow_down.gif\" title=\"순위하락\" width=\"7\"/>1\n",
      "\t\t\t\t\t\t\n",
      "\t\t\t\t\t\t\n",
      "\t\t\t\t\t\t\n",
      "\t\t\t\t\t\n",
      "\t\t\t\t</span>\n",
      "</li>\n",
      "<li class=\"rank06\">\n",
      "<a href=\"/webtoon/detail?titleId=721948&amp;no=143\" onclick=\"nclk_v2(event,'rnk*p.cont','721948','6')\" title=\"스터디그룹-시즌2 24화\">스터디그룹-시즌2 24화</a>\n",
      "<span class=\"rankBox\">\n",
      "<img alt=\"순위하락\" height=\"10\" src=\"https://ssl.pstatic.net/static/comic/images/migration/common/arrow_down.gif\" title=\"순위하락\" width=\"7\"/>1\n",
      "\t\t\t\t\t\t\n",
      "\t\t\t\t\t\t\n",
      "\t\t\t\t\t\t\n",
      "\t\t\t\t\t\n",
      "\t\t\t\t</span>\n",
      "</li>\n",
      "<li class=\"rank07\">\n",
      "<a href=\"/webtoon/detail?titleId=769568&amp;no=44\" onclick=\"nclk_v2(event,'rnk*p.cont','769568','7')\" title=\"반드시 해피엔딩-44화\">반드시 해피엔딩-44화</a>\n",
      "<span class=\"rankBox\">\n",
      "<img alt=\"순위하락\" height=\"10\" src=\"https://ssl.pstatic.net/static/comic/images/migration/common/arrow_down.gif\" title=\"순위하락\" width=\"7\"/>1\n",
      "\t\t\t\t\t\t\n",
      "\t\t\t\t\t\t\n",
      "\t\t\t\t\t\t\n",
      "\t\t\t\t\t\n",
      "\t\t\t\t</span>\n",
      "</li>\n",
      "<li class=\"rank08\">\n",
      "<a href=\"/webtoon/detail?titleId=787411&amp;no=34\" onclick=\"nclk_v2(event,'rnk*p.cont','787411','8')\" title=\"2022 서브병에 빠지다!-34화. &lt;소녀의세계&gt; 이상형\">2022 서브병에 빠지다!-34화. &lt;소녀의세계&gt; 이상형</a>\n",
      "<span class=\"rankBox\">\n",
      "<img alt=\"변동없음\" height=\"10\" src=\"https://ssl.pstatic.net/static/comic/images/migration/common/arrow_no.gif\" title=\"변동없음\" width=\"7\"/> 0\n",
      "\t\t\t\t\t\t\n",
      "\t\t\t\t\t\n",
      "\t\t\t\t</span>\n",
      "</li>\n",
      "<li class=\"rank09\">\n",
      "<a href=\"/webtoon/detail?titleId=775723&amp;no=33\" onclick=\"nclk_v2(event,'rnk*p.cont','775723','9')\" title=\"스퍼맨 : 전하지 못한 이야기-33화\">스퍼맨 : 전하지 못한 이야기-33화</a>\n",
      "<span class=\"rankBox\">\n",
      "<img alt=\"변동없음\" height=\"10\" src=\"https://ssl.pstatic.net/static/comic/images/migration/common/arrow_no.gif\" title=\"변동없음\" width=\"7\"/> 0\n",
      "\t\t\t\t\t\t\n",
      "\t\t\t\t\t\n",
      "\t\t\t\t</span>\n",
      "</li>\n",
      "<li class=\"rank10\">\n",
      "<a href=\"/webtoon/detail?titleId=746834&amp;no=81\" onclick=\"nclk_v2(event,'rnk*p.cont','746834','10')\" title=\"청춘 블라썸-81화: EP.3 가을의 꽃 (21)\">청춘 블라썸-81화: EP.3 가을의 꽃 (21)</a>\n",
      "<span class=\"rankBox\">\n",
      "<img alt=\"변동없음\" height=\"10\" src=\"https://ssl.pstatic.net/static/comic/images/migration/common/arrow_no.gif\" title=\"변동없음\" width=\"7\"/> 0\n",
      "\t\t\t\t\t\t\n",
      "\t\t\t\t\t\n",
      "\t\t\t\t</span>\n",
      "</li>\n",
      "</ol>\n"
     ]
    }
   ],
   "source": [
    "print(rank1.parent)"
   ]
  },
  {
   "cell_type": "markdown",
   "metadata": {},
   "source": [
    "- 개행 상관없이 형제 엘리먼트를 찾고 싶다면"
   ]
  },
  {
   "cell_type": "code",
   "execution_count": 17,
   "metadata": {},
   "outputs": [
    {
     "name": "stdout",
     "output_type": "stream",
     "text": [
      "취사병 전설이 되다-148화 : 호영아, 그건 아니야\n"
     ]
    }
   ],
   "source": [
    "# 개행 정보를 제외하고 li에 해당하는 태그만 찍힘\n",
    "rank2 = rank1.find_next_sibling(\"li\")\n",
    "print(rank2.a.get_text())"
   ]
  },
  {
   "cell_type": "code",
   "execution_count": 18,
   "metadata": {},
   "outputs": [
    {
     "name": "stdout",
     "output_type": "stream",
     "text": [
      "먹는 인생-31화 캐러멜 커스터드푸딩\n"
     ]
    }
   ],
   "source": [
    "rank3 = rank2.find_next_sibling(\"li\")\n",
    "print(rank3.a.get_text())"
   ]
  },
  {
   "cell_type": "code",
   "execution_count": 19,
   "metadata": {},
   "outputs": [
    {
     "name": "stdout",
     "output_type": "stream",
     "text": [
      "취사병 전설이 되다-148화 : 호영아, 그건 아니야\n"
     ]
    }
   ],
   "source": [
    "rank2 = rank3.find_previous_sibling(\"li\")\n",
    "print(rank2.a.get_text())"
   ]
  },
  {
   "cell_type": "markdown",
   "metadata": {},
   "source": [
    "- 해당 태그의 형제들을 모두 출력하고 싶을 때"
   ]
  },
  {
   "cell_type": "code",
   "execution_count": 21,
   "metadata": {},
   "outputs": [
    {
     "name": "stdout",
     "output_type": "stream",
     "text": [
      "[<li class=\"rank02\">\n",
      "<a href=\"/webtoon/detail?titleId=727188&amp;no=148\" onclick=\"nclk_v2(event,'rnk*p.cont','727188','2')\" title=\"취사병 전설이 되다-148화 : 호영아, 그건 아니야\">취사병 전설이 되다-148화 : 호영아, 그건 아니야</a>\n",
      "<span class=\"rankBox\">\n",
      "<img alt=\"변동없음\" height=\"10\" src=\"https://ssl.pstatic.net/static/comic/images/migration/common/arrow_no.gif\" title=\"변동없음\" width=\"7\"/> 0\n",
      "\t\t\t\t\t\t\n",
      "\t\t\t\t\t\n",
      "\t\t\t\t</span>\n",
      "</li>, <li class=\"rank03\">\n",
      "<a href=\"/webtoon/detail?titleId=784255&amp;no=32\" onclick=\"nclk_v2(event,'rnk*p.cont','784255','3')\" title=\"먹는 인생-31화 캐러멜 커스터드푸딩\">먹는 인생-31화 캐러멜 커스터드푸딩</a>\n",
      "<span class=\"rankBox\">\n",
      "<img alt=\"변동없음\" height=\"10\" src=\"https://ssl.pstatic.net/static/comic/images/migration/common/arrow_no.gif\" title=\"변동없음\" width=\"7\"/> 0\n",
      "\t\t\t\t\t\t\n",
      "\t\t\t\t\t\n",
      "\t\t\t\t</span>\n",
      "</li>, <li class=\"rank04\">\n",
      "<a href=\"/webtoon/detail?titleId=774864&amp;no=24\" onclick=\"nclk_v2(event,'rnk*p.cont','774864','4')\" title=\"존잘주의-23화. 에라 모르겠당\">존잘주의-23화. 에라 모르겠당</a>\n",
      "<span class=\"rankBox\">\n",
      "<img alt=\"순위상승\" height=\"10\" src=\"https://ssl.pstatic.net/static/comic/images/migration/common/arrow_up.gif\" title=\"순위상승\" width=\"7\"/>3\n",
      "\t\t\t\t\t\t\n",
      "\t\t\t\t\t\t\n",
      "\t\t\t\t\t\n",
      "\t\t\t\t</span>\n",
      "</li>, <li class=\"rank05\">\n",
      "<a href=\"/webtoon/detail?titleId=730694&amp;no=114\" onclick=\"nclk_v2(event,'rnk*p.cont','730694','5')\" title=\"초인의 시대-2부 22화\">초인의 시대-2부 22화</a>\n",
      "<span class=\"rankBox\">\n",
      "<img alt=\"순위하락\" height=\"10\" src=\"https://ssl.pstatic.net/static/comic/images/migration/common/arrow_down.gif\" title=\"순위하락\" width=\"7\"/>1\n",
      "\t\t\t\t\t\t\n",
      "\t\t\t\t\t\t\n",
      "\t\t\t\t\t\t\n",
      "\t\t\t\t\t\n",
      "\t\t\t\t</span>\n",
      "</li>, <li class=\"rank06\">\n",
      "<a href=\"/webtoon/detail?titleId=721948&amp;no=143\" onclick=\"nclk_v2(event,'rnk*p.cont','721948','6')\" title=\"스터디그룹-시즌2 24화\">스터디그룹-시즌2 24화</a>\n",
      "<span class=\"rankBox\">\n",
      "<img alt=\"순위하락\" height=\"10\" src=\"https://ssl.pstatic.net/static/comic/images/migration/common/arrow_down.gif\" title=\"순위하락\" width=\"7\"/>1\n",
      "\t\t\t\t\t\t\n",
      "\t\t\t\t\t\t\n",
      "\t\t\t\t\t\t\n",
      "\t\t\t\t\t\n",
      "\t\t\t\t</span>\n",
      "</li>, <li class=\"rank07\">\n",
      "<a href=\"/webtoon/detail?titleId=769568&amp;no=44\" onclick=\"nclk_v2(event,'rnk*p.cont','769568','7')\" title=\"반드시 해피엔딩-44화\">반드시 해피엔딩-44화</a>\n",
      "<span class=\"rankBox\">\n",
      "<img alt=\"순위하락\" height=\"10\" src=\"https://ssl.pstatic.net/static/comic/images/migration/common/arrow_down.gif\" title=\"순위하락\" width=\"7\"/>1\n",
      "\t\t\t\t\t\t\n",
      "\t\t\t\t\t\t\n",
      "\t\t\t\t\t\t\n",
      "\t\t\t\t\t\n",
      "\t\t\t\t</span>\n",
      "</li>, <li class=\"rank08\">\n",
      "<a href=\"/webtoon/detail?titleId=787411&amp;no=34\" onclick=\"nclk_v2(event,'rnk*p.cont','787411','8')\" title=\"2022 서브병에 빠지다!-34화. &lt;소녀의세계&gt; 이상형\">2022 서브병에 빠지다!-34화. &lt;소녀의세계&gt; 이상형</a>\n",
      "<span class=\"rankBox\">\n",
      "<img alt=\"변동없음\" height=\"10\" src=\"https://ssl.pstatic.net/static/comic/images/migration/common/arrow_no.gif\" title=\"변동없음\" width=\"7\"/> 0\n",
      "\t\t\t\t\t\t\n",
      "\t\t\t\t\t\n",
      "\t\t\t\t</span>\n",
      "</li>, <li class=\"rank09\">\n",
      "<a href=\"/webtoon/detail?titleId=775723&amp;no=33\" onclick=\"nclk_v2(event,'rnk*p.cont','775723','9')\" title=\"스퍼맨 : 전하지 못한 이야기-33화\">스퍼맨 : 전하지 못한 이야기-33화</a>\n",
      "<span class=\"rankBox\">\n",
      "<img alt=\"변동없음\" height=\"10\" src=\"https://ssl.pstatic.net/static/comic/images/migration/common/arrow_no.gif\" title=\"변동없음\" width=\"7\"/> 0\n",
      "\t\t\t\t\t\t\n",
      "\t\t\t\t\t\n",
      "\t\t\t\t</span>\n",
      "</li>, <li class=\"rank10\">\n",
      "<a href=\"/webtoon/detail?titleId=746834&amp;no=81\" onclick=\"nclk_v2(event,'rnk*p.cont','746834','10')\" title=\"청춘 블라썸-81화: EP.3 가을의 꽃 (21)\">청춘 블라썸-81화: EP.3 가을의 꽃 (21)</a>\n",
      "<span class=\"rankBox\">\n",
      "<img alt=\"변동없음\" height=\"10\" src=\"https://ssl.pstatic.net/static/comic/images/migration/common/arrow_no.gif\" title=\"변동없음\" width=\"7\"/> 0\n",
      "\t\t\t\t\t\t\n",
      "\t\t\t\t\t\n",
      "\t\t\t\t</span>\n",
      "</li>]\n"
     ]
    }
   ],
   "source": [
    "# rank1을 기준으로 다음 형제들을 모두 가져옴\n",
    "print(rank1.find_next_siblings(\"li\"))"
   ]
  },
  {
   "cell_type": "code",
   "execution_count": 22,
   "metadata": {},
   "outputs": [
    {
     "name": "stdout",
     "output_type": "stream",
     "text": [
      "<a href=\"/webtoon/detail?titleId=597447&amp;no=429\" onclick=\"nclk_v2(event,'rnk*p.cont','597447','1')\" title=\"프리드로우-제426화 임재익 근황 (1) \">프리드로우-제426화 임재익 근황 (1)</a>\n"
     ]
    }
   ],
   "source": [
    "webtoon = soup.find(\"a\", text=\"프리드로우-제426화 임재익 근황 (1)\")\n",
    "print(webtoon)"
   ]
  },
  {
   "cell_type": "code",
   "execution_count": null,
   "metadata": {},
   "outputs": [],
   "source": []
  }
 ],
 "metadata": {
  "interpreter": {
   "hash": "b3ba2566441a7c06988d0923437866b63cedc61552a5af99d1f4fb67d367b25f"
  },
  "kernelspec": {
   "display_name": "Python 3.8.8 ('base')",
   "language": "python",
   "name": "python3"
  },
  "language_info": {
   "codemirror_mode": {
    "name": "ipython",
    "version": 3
   },
   "file_extension": ".py",
   "mimetype": "text/x-python",
   "name": "python",
   "nbconvert_exporter": "python",
   "pygments_lexer": "ipython3",
   "version": "3.8.8"
  },
  "orig_nbformat": 4
 },
 "nbformat": 4,
 "nbformat_minor": 2
}
