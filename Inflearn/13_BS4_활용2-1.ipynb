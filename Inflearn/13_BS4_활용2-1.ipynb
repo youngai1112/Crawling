{
 "cells": [
  {
   "cell_type": "markdown",
   "metadata": {},
   "source": [
    "## HTTP METHOD\n",
    "1. 의미: 우리가 http 프로토콜을 통해서 서버에 요청을 보내면, 서버는 그 요청에 맞게 응답을 해줌.\n",
    "    - 그 요청 중 하나인 http method가 있다.\n",
    "- GET : 어떠한 내용을 누구나 볼 수 있게 url을 적어서 보내는 방식\n",
    "    - 예시: https://www.coupang.com/np/search`?`**minPrice**=1000`&`**maxPrice**=100000`&`**page**=1\n",
    "    - `?` 뒤에 있는 것들로부터의 **변수**=*값*을 의미\n",
    "    - 변수와 값들은 `&`로 구분, 여러개가 들어갈 수 있다.\n",
    "    - GET 방식은 한번 전송할 때, 보낼 수 있는 양에 제한이 있음\n",
    "        - 큰 데이터 전송 X\n",
    "- POST : url이 아닌 http body에 숨겨서 보내는 방식\n",
    "    - 예시: https://www.coupang.com/np/search?id=gaga&pw=1234\n",
    "    - 위와 같은 보안이 필요한 데이터는 POST 방식으로 숨겨서 보낼 수 있다. \n",
    "    - 제한이 없기 때문에, 크기가 큰 데이터나 파일 업로드가 가능하다.\n",
    "        - 개인정보 기재, 게시물 업로드 등..\n",
    "2. GET 방식을 쓰는 경우\n",
    "    - 웹 페이지에서 어떤 메뉴를 클릭하면 url이 계속 바뀌면서 url의 값들이 변경되는 경우\n",
    "    - GET 방식이기 때문에 웹 스크래핑 하기 편리하게 url을 조작해서 요청 가능\n",
    "3. POST 방식을 쓰는 경우\n",
    "    - 페이지는 바뀌어도 url 정보는 그대로일 경우 "
   ]
  }
 ],
 "metadata": {
  "interpreter": {
   "hash": "b3ba2566441a7c06988d0923437866b63cedc61552a5af99d1f4fb67d367b25f"
  },
  "kernelspec": {
   "display_name": "Python 3.8.8 ('base')",
   "language": "python",
   "name": "python3"
  },
  "language_info": {
   "name": "python",
   "version": "3.8.8"
  },
  "orig_nbformat": 4
 },
 "nbformat": 4,
 "nbformat_minor": 2
}
