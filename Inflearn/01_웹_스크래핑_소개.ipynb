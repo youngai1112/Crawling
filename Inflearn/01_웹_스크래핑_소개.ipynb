{
  "nbformat": 4,
  "nbformat_minor": 0,
  "metadata": {
    "colab": {
      "name": "01_웹 스크래핑 소개",
      "provenance": []
    },
    "kernelspec": {
      "name": "python3",
      "display_name": "Python 3"
    },
    "language_info": {
      "name": "python"
    }
  },
  "cells": [
    {
      "cell_type": "markdown",
      "source": [
        "# 웹 스크래핑 / 웹 크롤링\n",
        "- 웹 크롤링 : 웹 페이지 내에서 허용된 링크를 따라가며 데이터를 긁어오는 것\n",
        "- 웹 스크래핑 : 웹 페이지 내에서 필요한 부분만 가져오는 것"
      ],
      "metadata": {
        "id": "DHFb99ROhzgA"
      }
    },
    {
      "cell_type": "markdown",
      "source": [
        "# HTML / CSS / JS (Java Script) \n",
        "- `HTML`: **뼈대** \n",
        "- `CSS` : **예쁘게**\n",
        "- `JavaScript`: **살아있게**\n",
        "\n"
      ],
      "metadata": {
        "id": "nHLsdoZ9iqkA"
      }
    }
  ]
}