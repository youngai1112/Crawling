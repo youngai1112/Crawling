{
 "cells": [
  {
   "cell_type": "code",
   "execution_count": 7,
   "metadata": {},
   "outputs": [],
   "source": [
    "import requests\n",
    "from bs4 import BeautifulSoup\n",
    "\n",
    "url = \"https://play.google.com/store/movies/collection/cluster?clp=0g4XChUKD3RvcHNlbGxpbmdfcGFpZBAHGAQ%3D:S:ANO1ljJvXQM&gsr=ChrSDhcKFQoPdG9wc2VsbGluZ19wYWlkEAcYBA%3D%3D:S:ANO1ljK7jAA&hl=ko&gl=US\"\n",
    "headers = {\n",
    "    \"User-Agent\": \"Mozilla/5.0 (Windows NT 10.0; Win64; x64) AppleWebKit/537.36 (KHTML, like Gecko) Chrome/98.0.4758.102 Safari/537.36\",\n",
    "    \"Accept-Language\": \"ko-KR,ko\"\n",
    "}\n",
    "res = requests.get(url, headers=headers)\n",
    "res.raise_for_status()\n",
    "soup = BeautifulSoup(res.text, \"lxml\")"
   ]
  },
  {
   "cell_type": "code",
   "execution_count": 8,
   "metadata": {},
   "outputs": [
    {
     "name": "stdout",
     "output_type": "stream",
     "text": [
      "50\n"
     ]
    }
   ],
   "source": [
    "movies = soup.find_all(\"div\", attrs={\"class\":\"Vpfmgd\"})\n",
    "print(len(movies))"
   ]
  },
  {
   "cell_type": "code",
   "execution_count": 11,
   "metadata": {},
   "outputs": [
    {
     "name": "stdout",
     "output_type": "stream",
     "text": [
      "Ghostbusters: Afterlife   <할인되지 않은 영화 제외>\n",
      "듄   <할인되지 않은 영화 제외>\n",
      "The King's Man   <할인되지 않은 영화 제외>\n",
      "No Time To Die   <할인되지 않은 영화 제외>\n",
      "Venom: Let There Be Carnage   <할인되지 않은 영화 제외>\n",
      "Sing 2   <할인되지 않은 영화 제외>\n",
      "Resident Evil: Welcome to Raccoon City   <할인되지 않은 영화 제외>\n",
      "Spider-Man: Far from Home   <할인되지 않은 영화 제외>\n",
      "Kingsman: The Secret Service   <할인되지 않은 영화 제외>\n",
      "하우스 오브 구찌   <할인되지 않은 영화 제외>\n",
      "Encanto   <할인되지 않은 영화 제외>\n",
      "Eternals   <할인되지 않은 영화 제외>\n",
      "매트릭스: 리저렉션   <할인되지 않은 영화 제외>\n",
      "Ted K   <할인되지 않은 영화 제외>\n",
      "F9: The Fast Saga   <할인되지 않은 영화 제외>\n",
      "Clean   <할인되지 않은 영화 제외>\n",
      "Sing   <할인되지 않은 영화 제외>\n",
      "Spider-Man: Homecoming   <할인되지 않은 영화 제외>\n",
      "Clifford The Big Red Dog   <할인되지 않은 영화 제외>\n",
      "The Ledge   <할인되지 않은 영화 제외>\n",
      "슈퍼배드 3   <할인되지 않은 영화 제외>\n",
      "쥬라기 월드 : 폴른 킹덤   <할인되지 않은 영화 제외>\n",
      "American Underdog   <할인되지 않은 영화 제외>\n",
      "The 355   <할인되지 않은 영화 제외>\n",
      "Last Looks   <할인되지 않은 영화 제외>\n",
      "Supercool   <할인되지 않은 영화 제외>\n",
      "Last Survivors   <할인되지 않은 영화 제외>\n",
      "Spider-Man: Into The Spider-Verse   <할인되지 않은 영화 제외>\n",
      "John Wick   <할인되지 않은 영화 제외>\n",
      "Last Night in Soho   <할인되지 않은 영화 제외>\n",
      "Idiocracy   <할인되지 않은 영화 제외>\n",
      "Redeeming Love   <할인되지 않은 영화 제외>\n",
      "프렌치 디스패치   <할인되지 않은 영화 제외>\n",
      "Jurassic World   <할인되지 않은 영화 제외>\n",
      "The Amazing Spider-Man™   <할인되지 않은 영화 제외>\n",
      "Jackass: The Movie   <할인되지 않은 영화 제외>\n",
      "The Wolf of Wall Street   <할인되지 않은 영화 제외>\n",
      "빅쇼트   <할인되지 않은 영화 제외>\n",
      "Venom   <할인되지 않은 영화 제외>\n",
      "The Amazing Spider-Man 2   <할인되지 않은 영화 제외>\n",
      "Chronicles of Narnia: The Lion, the Witch and the Wardrobe   <할인되지 않은 영화 제외>\n",
      "퍼피 구조대 더 무비   <할인되지 않은 영화 제외>\n",
      "올드   <할인되지 않은 영화 제외>\n",
      "아담스 패밀리 2   <할인되지 않은 영화 제외>\n",
      "Interstellar   <할인되지 않은 영화 제외>\n",
      "The Hating Game   <할인되지 않은 영화 제외>\n",
      "Dragon Ball Super: Broly   <할인되지 않은 영화 제외>\n"
     ]
    }
   ],
   "source": [
    "for movie in movies:\n",
    "    title = movie.find(\"div\", attrs={\"class\":\"WsMG1c nnK0zc\"}).get_text()\n",
    "\n",
    "    # 할인 전 가격\n",
    "    original_price = movie.find(\"span\", attrs={\"class\":\"SUZt4c djCuy\"})\n",
    "    if original_price:\n",
    "        original_price = original_price.get_text()\n",
    "    else:\n",
    "        print(title, \"  <할인되지 않은 영화 제외>\")\n",
    "        continue\n",
    "\n",
    "    # 할인된 가격\n",
    "    price = movie.find(\"span\", attrs={\"class\":\"VfPpfd ZdBevf i5DZme\"})\n",
    "\n",
    "    # 링크 정보\n",
    "    link = movie.find(\"a\", attrs={\"class\":\"JC71ub\"})[\"href\"]"
   ]
  },
  {
   "cell_type": "code",
   "execution_count": null,
   "metadata": {},
   "outputs": [],
   "source": []
  }
 ],
 "metadata": {
  "interpreter": {
   "hash": "b3ba2566441a7c06988d0923437866b63cedc61552a5af99d1f4fb67d367b25f"
  },
  "kernelspec": {
   "display_name": "Python 3.8.8 ('base')",
   "language": "python",
   "name": "python3"
  },
  "language_info": {
   "codemirror_mode": {
    "name": "ipython",
    "version": 3
   },
   "file_extension": ".py",
   "mimetype": "text/x-python",
   "name": "python",
   "nbconvert_exporter": "python",
   "pygments_lexer": "ipython3",
   "version": "3.8.8"
  },
  "orig_nbformat": 4
 },
 "nbformat": 4,
 "nbformat_minor": 2
}
