{
 "cells": [
  {
   "cell_type": "code",
   "execution_count": 8,
   "metadata": {},
   "outputs": [
    {
     "name": "stderr",
     "output_type": "stream",
     "text": [
      "<ipython-input-8-da9df5a96f2a>:2: DeprecationWarning: executable_path has been deprecated, please pass in a Service object\n",
      "  browser = webdriver.Chrome(\"selenium\\chromedriver_win32\\chromedriver.exe\")\n"
     ]
    }
   ],
   "source": [
    "from selenium import webdriver\n",
    "browser = webdriver.Chrome(\"selenium\\chromedriver_win32\\chromedriver.exe\")\n",
    "browser.maximize_window()\n",
    "\n",
    "# 페이지 이동\n",
    "url = \"https://play.google.com/store/movies/collection/cluster?clp=0g4XChUKD3RvcHNlbGxpbmdfcGFpZBAHGAQ%3D:S:ANO1ljJvXQM&gsr=ChrSDhcKFQoPdG9wc2VsbGluZ19wYWlkEAcYBA%3D%3D:S:ANO1ljK7jAA&hl=ko&gl=US\"\n",
    "browser.get(url)"
   ]
  },
  {
   "cell_type": "code",
   "execution_count": 9,
   "metadata": {},
   "outputs": [
    {
     "name": "stdout",
     "output_type": "stream",
     "text": [
      "스크롤 완료\n"
     ]
    }
   ],
   "source": [
    "import time\n",
    "interval = 2    # 2초에 한번씩 스크롤 내림\n",
    "\n",
    "prev_height = browser.execute_script(\"return document.body.scrollHeight\")\n",
    "\n",
    "while True:\n",
    "    browser.execute_script(\"window.scrollTo(0, document.body.scrollHeight)\")\n",
    "\n",
    "    time.sleep(interval)\n",
    "\n",
    "    curr_height = browser.execute_script(\"return document.body.scrollHeight\")\n",
    "    if curr_height == prev_height:\n",
    "        break\n",
    "\n",
    "    prev_height = curr_height\n",
    "\n",
    "print(\"스크롤 완료\")"
   ]
  },
  {
   "cell_type": "code",
   "execution_count": 10,
   "metadata": {},
   "outputs": [],
   "source": [
    "import requests\n",
    "from bs4 import BeautifulSoup\n",
    "\n",
    "url = \"https://play.google.com/store/movies/collection/cluster?clp=0g4XChUKD3RvcHNlbGxpbmdfcGFpZBAHGAQ%3D:S:ANO1ljJvXQM&gsr=ChrSDhcKFQoPdG9wc2VsbGluZ19wYWlkEAcYBA%3D%3D:S:ANO1ljK7jAA&hl=ko&gl=US\"\n",
    "headers = {\n",
    "    \"User-Agent\": \"Mozilla/5.0 (Windows NT 10.0; Win64; x64) AppleWebKit/537.36 (KHTML, like Gecko) Chrome/98.0.4758.102 Safari/537.36\",\n",
    "    \"Accept-Language\": \"ko-KR,ko\"\n",
    "}\n",
    "res = requests.get(url, headers=headers)\n",
    "res.raise_for_status()\n",
    "soup = BeautifulSoup(res.text, \"lxml\")"
   ]
  },
  {
   "cell_type": "code",
   "execution_count": 11,
   "metadata": {},
   "outputs": [
    {
     "name": "stdout",
     "output_type": "stream",
     "text": [
      "50\n"
     ]
    }
   ],
   "source": [
    "movies = soup.find_all(\"div\", attrs={\"class\":\"Vpfmgd\"})\n",
    "print(len(movies))"
   ]
  },
  {
   "cell_type": "code",
   "execution_count": 12,
   "metadata": {},
   "outputs": [
    {
     "name": "stdout",
     "output_type": "stream",
     "text": [
      "Ghostbusters: Afterlife   <할인되지 않은 영화 제외>\n",
      "듄   <할인되지 않은 영화 제외>\n",
      "The King's Man   <할인되지 않은 영화 제외>\n",
      "No Time To Die   <할인되지 않은 영화 제외>\n",
      "Venom: Let There Be Carnage   <할인되지 않은 영화 제외>\n",
      "제목 : 프리 가이\n",
      "할인 전 금액 : US$5.99\n",
      "할인 후 금액 : US$3.99\n",
      "링크 :  https://play.google.com/store/movies/details/%ED%94%84%EB%A6%AC_%EA%B0%80%EC%9D%B4?id=R_R6d6QlIbA.P\n",
      "------------------------------------------------------------------------------------------------------------------------\n",
      "Sing 2   <할인되지 않은 영화 제외>\n",
      "Resident Evil: Welcome to Raccoon City   <할인되지 않은 영화 제외>\n",
      "Spider-Man: Far from Home   <할인되지 않은 영화 제외>\n",
      "Kingsman: The Secret Service   <할인되지 않은 영화 제외>\n",
      "하우스 오브 구찌   <할인되지 않은 영화 제외>\n",
      "Encanto   <할인되지 않은 영화 제외>\n",
      "Eternals   <할인되지 않은 영화 제외>\n",
      "매트릭스: 리저렉션   <할인되지 않은 영화 제외>\n",
      "Ted K   <할인되지 않은 영화 제외>\n",
      "F9: The Fast Saga   <할인되지 않은 영화 제외>\n",
      "Clean   <할인되지 않은 영화 제외>\n",
      "Sing   <할인되지 않은 영화 제외>\n",
      "Spider-Man: Homecoming   <할인되지 않은 영화 제외>\n",
      "Clifford The Big Red Dog   <할인되지 않은 영화 제외>\n",
      "The Ledge   <할인되지 않은 영화 제외>\n",
      "슈퍼배드 3   <할인되지 않은 영화 제외>\n",
      "쥬라기 월드 : 폴른 킹덤   <할인되지 않은 영화 제외>\n",
      "American Underdog   <할인되지 않은 영화 제외>\n",
      "The 355   <할인되지 않은 영화 제외>\n",
      "Last Looks   <할인되지 않은 영화 제외>\n",
      "Supercool   <할인되지 않은 영화 제외>\n",
      "Last Survivors   <할인되지 않은 영화 제외>\n",
      "Spider-Man: Into The Spider-Verse   <할인되지 않은 영화 제외>\n",
      "John Wick   <할인되지 않은 영화 제외>\n",
      "Last Night in Soho   <할인되지 않은 영화 제외>\n",
      "Idiocracy   <할인되지 않은 영화 제외>\n",
      "Redeeming Love   <할인되지 않은 영화 제외>\n",
      "프렌치 디스패치   <할인되지 않은 영화 제외>\n",
      "Jurassic World   <할인되지 않은 영화 제외>\n",
      "The Amazing Spider-Man™   <할인되지 않은 영화 제외>\n",
      "Jackass: The Movie   <할인되지 않은 영화 제외>\n",
      "제목 : King Richard\n",
      "할인 전 금액 : US$19.99\n",
      "할인 후 금액 : US$5.99\n",
      "링크 :  https://play.google.com/store/movies/details/King_Richard?id=ev-2FvMQl5Q.P\n",
      "------------------------------------------------------------------------------------------------------------------------\n",
      "The Wolf of Wall Street   <할인되지 않은 영화 제외>\n",
      "빅쇼트   <할인되지 않은 영화 제외>\n",
      "제목 : 콰이어트 플레이스 2\n",
      "할인 전 금액 : US$4.99\n",
      "할인 후 금액 : US$2.99\n",
      "링크 :  https://play.google.com/store/movies/details/%EC%BD%B0%EC%9D%B4%EC%96%B4%ED%8A%B8_%ED%94%8C%EB%A0%88%EC%9D%B4%EC%8A%A4_2?id=vO82xm8l-E4.P\n",
      "------------------------------------------------------------------------------------------------------------------------\n",
      "Venom   <할인되지 않은 영화 제외>\n",
      "The Amazing Spider-Man 2   <할인되지 않은 영화 제외>\n",
      "Chronicles of Narnia: The Lion, the Witch and the Wardrobe   <할인되지 않은 영화 제외>\n",
      "퍼피 구조대 더 무비   <할인되지 않은 영화 제외>\n",
      "올드   <할인되지 않은 영화 제외>\n",
      "아담스 패밀리 2   <할인되지 않은 영화 제외>\n",
      "Interstellar   <할인되지 않은 영화 제외>\n",
      "The Hating Game   <할인되지 않은 영화 제외>\n",
      "Dragon Ball Super: Broly   <할인되지 않은 영화 제외>\n"
     ]
    }
   ],
   "source": [
    "for movie in movies:\n",
    "    title = movie.find(\"div\", attrs={\"class\":\"WsMG1c nnK0zc\"}).get_text()\n",
    "\n",
    "    # 할인 전 가격\n",
    "    original_price = movie.find(\"span\", attrs={\"class\":\"SUZt4c djCuy\"})\n",
    "    if original_price:\n",
    "        original_price = original_price.get_text()\n",
    "    else:\n",
    "        print(title, \"  <할인되지 않은 영화 제외>\")\n",
    "        continue\n",
    "\n",
    "    # 할인된 가격\n",
    "    price = movie.find(\"span\", attrs={\"class\":\"VfPpfd ZdBevf i5DZme\"}).get_text()\n",
    "\n",
    "    # 링크 정보\n",
    "    link = movie.find(\"a\", attrs={\"class\":\"JC71ub\"})[\"href\"]\n",
    "\n",
    "    print(f\"제목 : {title}\")\n",
    "    print(f\"할인 전 금액 : {original_price}\")\n",
    "    print(f\"할인 후 금액 : {price}\")\n",
    "    print(\"링크 : \", \"https://play.google.com\" + link)\n",
    "    print(\"-\" * 120)\n"
   ]
  },
  {
   "cell_type": "code",
   "execution_count": null,
   "metadata": {},
   "outputs": [],
   "source": []
  }
 ],
 "metadata": {
  "interpreter": {
   "hash": "b3ba2566441a7c06988d0923437866b63cedc61552a5af99d1f4fb67d367b25f"
  },
  "kernelspec": {
   "display_name": "Python 3.8.8 ('base')",
   "language": "python",
   "name": "python3"
  },
  "language_info": {
   "codemirror_mode": {
    "name": "ipython",
    "version": 3
   },
   "file_extension": ".py",
   "mimetype": "text/x-python",
   "name": "python",
   "nbconvert_exporter": "python",
   "pygments_lexer": "ipython3",
   "version": "3.8.8"
  },
  "orig_nbformat": 4
 },
 "nbformat": 4,
 "nbformat_minor": 2
}
