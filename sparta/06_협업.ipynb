{
 "cells": [
  {
   "cell_type": "markdown",
   "metadata": {},
   "source": [
    "## git\n",
    "- 부분을 나눠서 작업하고, 합침\n",
    "1. Commit: 작업하는 족족 올라간다면, 에러발생시 대응은 어떻게??\n",
    "    - 그래서, 내가 작업하다가 업로드를 하고 싶은 세이브 포인트를 만든다.\n",
    "2. Push: 세이브 포인트를 만들었으면, 업로드\n",
    "3. Pull: 남이 업로드해놓은 것을 받아옴\n",
    "4. Branch: Master로 작업을 하다가, 실험을 하고 싶다면 Branch를 딸 수 있다.\n",
    "5. Merge: Branch로 실험한 결과가 좋다면, Master와 합친다."
   ]
  },
  {
   "cell_type": "markdown",
   "metadata": {},
   "source": []
  }
 ],
 "metadata": {
  "language_info": {
   "name": "python"
  },
  "orig_nbformat": 4
 },
 "nbformat": 4,
 "nbformat_minor": 2
}
